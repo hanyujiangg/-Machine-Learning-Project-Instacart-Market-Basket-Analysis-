{
 "cells": [
  {
   "cell_type": "code",
   "execution_count": 1,
   "metadata": {
    "executionInfo": {
     "elapsed": 3528,
     "status": "ok",
     "timestamp": 1603809968590,
     "user": {
      "displayName": "QI HAODI _",
      "photoUrl": "",
      "userId": "13823255111802956482"
     },
     "user_tz": -480
    },
    "id": "TI_MX5jRPda2"
   },
   "outputs": [],
   "source": [
    "import numpy as np\n",
    "import pandas as pd\n",
    "import random\n",
    "from pylab import *\n",
    "import matplotlib.pyplot as plt\n",
    "\n",
    "# import warnings\n",
    "# warnings.filterwarnings('ignore')\n",
    "\n",
    "import scipy.sparse as sparse"
   ]
  },
  {
   "cell_type": "code",
   "execution_count": 2,
   "metadata": {},
   "outputs": [],
   "source": [
    "from tqdm import tqdm\n",
    "import pickle"
   ]
  },
  {
   "cell_type": "code",
   "execution_count": 3,
   "metadata": {
    "executionInfo": {
     "elapsed": 18493,
     "status": "ok",
     "timestamp": 1603809983620,
     "user": {
      "displayName": "QI HAODI _",
      "photoUrl": "",
      "userId": "13823255111802956482"
     },
     "user_tz": -480
    },
    "id": "bndAJ-UHPdbD"
   },
   "outputs": [],
   "source": [
    "orders = pd.read_csv('orders.csv')\n",
    "\n",
    "order_products_train = pd.read_csv('order_products__train.csv')\n",
    "order_products_prior = pd.read_csv('order_products__prior.csv')\n"
   ]
  },
  {
   "cell_type": "code",
   "execution_count": 4,
   "metadata": {
    "executionInfo": {
     "elapsed": 18486,
     "status": "ok",
     "timestamp": 1603809983626,
     "user": {
      "displayName": "QI HAODI _",
      "photoUrl": "",
      "userId": "13823255111802956482"
     },
     "user_tz": -480
    },
    "id": "Q0ufWXlpPdbF"
   },
   "outputs": [],
   "source": [
    "def get_user_product_prior(orders, order_products_prior):\n",
    "    order_user_prior = orders.loc[orders.eval_set == 'prior']\n",
    "    order_user_prior = order_user_prior[['order_id', 'user_id']]\n",
    "    df_temp = pd.merge(order_user_prior, order_products_prior[['order_id', 'product_id']], on='order_id')\n",
    "    user_product_prior = df_temp[['user_id', 'product_id']]\n",
    "    user_product_prior = user_product_prior.groupby(['user_id', 'product_id']).size().reset_index().rename(columns={0: 'quantity'})\n",
    "    return user_product_prior"
   ]
  },
  {
   "cell_type": "code",
   "execution_count": 5,
   "metadata": {},
   "outputs": [],
   "source": [
    "def get_user_product_validation(orders, order_products_train):\n",
    "    order_user_train = orders.loc[orders.eval_set == 'train']\n",
    "    order_user_train = order_user_train[['order_id', 'user_id']]\n",
    "    df_temp = pd.merge(order_user_train, order_products_train[['order_id', 'product_id']], on='order_id')\n",
    "    user_product_train = df_temp[['user_id', 'product_id']]\n",
    "    user_product_train = user_product_train.groupby(['user_id', 'product_id']).size().reset_index().rename(columns={0: 'quantity'})\n",
    "    return user_product_train"
   ]
  },
  {
   "cell_type": "code",
   "execution_count": 6,
   "metadata": {
    "executionInfo": {
     "elapsed": 33320,
     "status": "ok",
     "timestamp": 1603809998470,
     "user": {
      "displayName": "QI HAODI _",
      "photoUrl": "",
      "userId": "13823255111802956482"
     },
     "user_tz": -480
    },
    "id": "pustL9S-PdbI"
   },
   "outputs": [],
   "source": [
    "user_product_prior = get_user_product_prior(orders, order_products_prior)"
   ]
  },
  {
   "cell_type": "code",
   "execution_count": 7,
   "metadata": {},
   "outputs": [],
   "source": [
    "user_product_validation = get_user_product_validation(orders, order_products_train)"
   ]
  },
  {
   "cell_type": "code",
   "execution_count": 8,
   "metadata": {
    "colab": {
     "base_uri": "https://localhost:8080/",
     "height": 85
    },
    "executionInfo": {
     "elapsed": 33298,
     "status": "ok",
     "timestamp": 1603809998477,
     "user": {
      "displayName": "QI HAODI _",
      "photoUrl": "",
      "userId": "13823255111802956482"
     },
     "user_tz": -480
    },
    "id": "_FW57UbSce8I",
    "outputId": "d720c3ef-cac8-4d8d-c70b-8f3328925fff"
   },
   "outputs": [
    {
     "data": {
      "text/plain": [
       "user_id       206209\n",
       "product_id     49677\n",
       "quantity          99\n",
       "dtype: int64"
      ]
     },
     "execution_count": 8,
     "metadata": {},
     "output_type": "execute_result"
    }
   ],
   "source": [
    "user_product_prior.nunique()"
   ]
  },
  {
   "cell_type": "code",
   "execution_count": 9,
   "metadata": {},
   "outputs": [
    {
     "data": {
      "text/plain": [
       "user_id       131209\n",
       "product_id     39123\n",
       "quantity           1\n",
       "dtype: int64"
      ]
     },
     "execution_count": 9,
     "metadata": {},
     "output_type": "execute_result"
    }
   ],
   "source": [
    "user_product_validation.nunique()"
   ]
  },
  {
   "cell_type": "markdown",
   "metadata": {
    "id": "VKH3jN4qem5u"
   },
   "source": [
    "## PMF with SGD \n",
    "\n",
    "https://github.com/XiuzeZhou/SGD-PMF/tree/master/SGD_PMF\n"
   ]
  },
  {
   "cell_type": "code",
   "execution_count": 10,
   "metadata": {},
   "outputs": [],
   "source": [
    "def get_user_item_dict(user_product_prior):\n",
    "    all_user_id = user_product_prior.user_id.unique()\n",
    "    all_item_id = user_product_prior.product_id.unique()\n",
    "\n",
    "    user_dict = {all_user_id[i]:i for i in range(len(all_user_id))}\n",
    "    item_dict = {all_item_id[i]:i for i in range(len(all_item_id))}\n",
    "    return user_dict, item_dict"
   ]
  },
  {
   "cell_type": "code",
   "execution_count": 11,
   "metadata": {},
   "outputs": [],
   "source": [
    "user_dict, item_dict = get_user_item_dict(user_product_prior)"
   ]
  },
  {
   "cell_type": "code",
   "execution_count": 12,
   "metadata": {},
   "outputs": [],
   "source": [
    "def map_user_product_df(user_product_prior, user_dict, item_dict):\n",
    "    user_product_prior.user_id = user_product_prior.user_id.map(user_dict)\n",
    "    user_product_prior.product_id = user_product_prior.product_id.map(item_dict)\n",
    "    return user_product_prior"
   ]
  },
  {
   "cell_type": "code",
   "execution_count": 13,
   "metadata": {},
   "outputs": [],
   "source": [
    "user_product_prior = map_user_product_df(user_product_prior, user_dict, item_dict)\n",
    "user_product_validation = map_user_product_df(user_product_validation, user_dict, item_dict)"
   ]
  },
  {
   "cell_type": "code",
   "execution_count": 67,
   "metadata": {},
   "outputs": [
    {
     "data": {
      "text/html": [
       "<div>\n",
       "<style scoped>\n",
       "    .dataframe tbody tr th:only-of-type {\n",
       "        vertical-align: middle;\n",
       "    }\n",
       "\n",
       "    .dataframe tbody tr th {\n",
       "        vertical-align: top;\n",
       "    }\n",
       "\n",
       "    .dataframe thead th {\n",
       "        text-align: right;\n",
       "    }\n",
       "</style>\n",
       "<table border=\"1\" class=\"dataframe\">\n",
       "  <thead>\n",
       "    <tr style=\"text-align: right;\">\n",
       "      <th></th>\n",
       "      <th>user_id</th>\n",
       "      <th>product_id</th>\n",
       "      <th>quantity</th>\n",
       "    </tr>\n",
       "  </thead>\n",
       "  <tbody>\n",
       "    <tr>\n",
       "      <th>0</th>\n",
       "      <td>0</td>\n",
       "      <td>0</td>\n",
       "      <td>0.091837</td>\n",
       "    </tr>\n",
       "    <tr>\n",
       "      <th>1</th>\n",
       "      <td>0</td>\n",
       "      <td>1</td>\n",
       "      <td>0.081633</td>\n",
       "    </tr>\n",
       "    <tr>\n",
       "      <th>2</th>\n",
       "      <td>0</td>\n",
       "      <td>2</td>\n",
       "      <td>0.000000</td>\n",
       "    </tr>\n",
       "    <tr>\n",
       "      <th>3</th>\n",
       "      <td>0</td>\n",
       "      <td>3</td>\n",
       "      <td>0.091837</td>\n",
       "    </tr>\n",
       "    <tr>\n",
       "      <th>4</th>\n",
       "      <td>0</td>\n",
       "      <td>4</td>\n",
       "      <td>0.020408</td>\n",
       "    </tr>\n",
       "    <tr>\n",
       "      <th>...</th>\n",
       "      <td>...</td>\n",
       "      <td>...</td>\n",
       "      <td>...</td>\n",
       "    </tr>\n",
       "    <tr>\n",
       "      <th>13307948</th>\n",
       "      <td>206208</td>\n",
       "      <td>145</td>\n",
       "      <td>0.020408</td>\n",
       "    </tr>\n",
       "    <tr>\n",
       "      <th>13307949</th>\n",
       "      <td>206208</td>\n",
       "      <td>6285</td>\n",
       "      <td>0.000000</td>\n",
       "    </tr>\n",
       "    <tr>\n",
       "      <th>13307950</th>\n",
       "      <td>206208</td>\n",
       "      <td>4737</td>\n",
       "      <td>0.000000</td>\n",
       "    </tr>\n",
       "    <tr>\n",
       "      <th>13307951</th>\n",
       "      <td>206208</td>\n",
       "      <td>448</td>\n",
       "      <td>0.000000</td>\n",
       "    </tr>\n",
       "    <tr>\n",
       "      <th>13307952</th>\n",
       "      <td>206208</td>\n",
       "      <td>8519</td>\n",
       "      <td>0.010204</td>\n",
       "    </tr>\n",
       "  </tbody>\n",
       "</table>\n",
       "<p>13307953 rows × 3 columns</p>\n",
       "</div>"
      ],
      "text/plain": [
       "          user_id  product_id  quantity\n",
       "0               0           0  0.091837\n",
       "1               0           1  0.081633\n",
       "2               0           2  0.000000\n",
       "3               0           3  0.091837\n",
       "4               0           4  0.020408\n",
       "...           ...         ...       ...\n",
       "13307948   206208         145  0.020408\n",
       "13307949   206208        6285  0.000000\n",
       "13307950   206208        4737  0.000000\n",
       "13307951   206208         448  0.000000\n",
       "13307952   206208        8519  0.010204\n",
       "\n",
       "[13307953 rows x 3 columns]"
      ]
     },
     "execution_count": 67,
     "metadata": {},
     "output_type": "execute_result"
    }
   ],
   "source": [
    "user_product_prior"
   ]
  },
  {
   "cell_type": "code",
   "execution_count": 15,
   "metadata": {},
   "outputs": [
    {
     "data": {
      "text/html": [
       "<div>\n",
       "<style scoped>\n",
       "    .dataframe tbody tr th:only-of-type {\n",
       "        vertical-align: middle;\n",
       "    }\n",
       "\n",
       "    .dataframe tbody tr th {\n",
       "        vertical-align: top;\n",
       "    }\n",
       "\n",
       "    .dataframe thead th {\n",
       "        text-align: right;\n",
       "    }\n",
       "</style>\n",
       "<table border=\"1\" class=\"dataframe\">\n",
       "  <thead>\n",
       "    <tr style=\"text-align: right;\">\n",
       "      <th></th>\n",
       "      <th>user_id</th>\n",
       "      <th>product_id</th>\n",
       "      <th>quantity</th>\n",
       "    </tr>\n",
       "  </thead>\n",
       "  <tbody>\n",
       "    <tr>\n",
       "      <th>0</th>\n",
       "      <td>0</td>\n",
       "      <td>0.0</td>\n",
       "      <td>1</td>\n",
       "    </tr>\n",
       "    <tr>\n",
       "      <th>1</th>\n",
       "      <td>0</td>\n",
       "      <td>1.0</td>\n",
       "      <td>1</td>\n",
       "    </tr>\n",
       "    <tr>\n",
       "      <th>2</th>\n",
       "      <td>0</td>\n",
       "      <td>4.0</td>\n",
       "      <td>1</td>\n",
       "    </tr>\n",
       "    <tr>\n",
       "      <th>3</th>\n",
       "      <td>0</td>\n",
       "      <td>8.0</td>\n",
       "      <td>1</td>\n",
       "    </tr>\n",
       "    <tr>\n",
       "      <th>4</th>\n",
       "      <td>0</td>\n",
       "      <td>9.0</td>\n",
       "      <td>1</td>\n",
       "    </tr>\n",
       "    <tr>\n",
       "      <th>...</th>\n",
       "      <td>...</td>\n",
       "      <td>...</td>\n",
       "      <td>...</td>\n",
       "    </tr>\n",
       "    <tr>\n",
       "      <th>1384612</th>\n",
       "      <td>206208</td>\n",
       "      <td>72.0</td>\n",
       "      <td>1</td>\n",
       "    </tr>\n",
       "    <tr>\n",
       "      <th>1384613</th>\n",
       "      <td>206208</td>\n",
       "      <td>5550.0</td>\n",
       "      <td>1</td>\n",
       "    </tr>\n",
       "    <tr>\n",
       "      <th>1384614</th>\n",
       "      <td>206208</td>\n",
       "      <td>2448.0</td>\n",
       "      <td>1</td>\n",
       "    </tr>\n",
       "    <tr>\n",
       "      <th>1384615</th>\n",
       "      <td>206208</td>\n",
       "      <td>9434.0</td>\n",
       "      <td>1</td>\n",
       "    </tr>\n",
       "    <tr>\n",
       "      <th>1384616</th>\n",
       "      <td>206208</td>\n",
       "      <td>9460.0</td>\n",
       "      <td>1</td>\n",
       "    </tr>\n",
       "  </tbody>\n",
       "</table>\n",
       "<p>1384617 rows × 3 columns</p>\n",
       "</div>"
      ],
      "text/plain": [
       "         user_id  product_id  quantity\n",
       "0              0         0.0         1\n",
       "1              0         1.0         1\n",
       "2              0         4.0         1\n",
       "3              0         8.0         1\n",
       "4              0         9.0         1\n",
       "...          ...         ...       ...\n",
       "1384612   206208        72.0         1\n",
       "1384613   206208      5550.0         1\n",
       "1384614   206208      2448.0         1\n",
       "1384615   206208      9434.0         1\n",
       "1384616   206208      9460.0         1\n",
       "\n",
       "[1384617 rows x 3 columns]"
      ]
     },
     "execution_count": 15,
     "metadata": {},
     "output_type": "execute_result"
    }
   ],
   "source": [
    "user_product_validation"
   ]
  },
  {
   "cell_type": "code",
   "execution_count": 16,
   "metadata": {},
   "outputs": [],
   "source": [
    "user_product_validation = user_product_validation.dropna()"
   ]
  },
  {
   "cell_type": "code",
   "execution_count": 17,
   "metadata": {},
   "outputs": [
    {
     "data": {
      "text/plain": [
       "user_id       0\n",
       "product_id    0\n",
       "quantity      0\n",
       "dtype: int64"
      ]
     },
     "execution_count": 17,
     "metadata": {},
     "output_type": "execute_result"
    }
   ],
   "source": [
    "user_product_validation.isnull().sum()"
   ]
  },
  {
   "cell_type": "code",
   "execution_count": 18,
   "metadata": {},
   "outputs": [],
   "source": [
    "def get_user_product_normalized(user_product_prior):\n",
    "    max_quantity = user_product_prior['quantity'].max()\n",
    "    user_product_prior['quantity'] = user_product_prior['quantity'].apply(lambda x: (x-1)/(max_quantity-1))\n",
    "    return user_product_prior"
   ]
  },
  {
   "cell_type": "code",
   "execution_count": 19,
   "metadata": {},
   "outputs": [],
   "source": [
    "user_product_prior_normalized = get_user_product_normalized(user_product_prior)"
   ]
  },
  {
   "cell_type": "code",
   "execution_count": 20,
   "metadata": {},
   "outputs": [
    {
     "data": {
      "text/html": [
       "<div>\n",
       "<style scoped>\n",
       "    .dataframe tbody tr th:only-of-type {\n",
       "        vertical-align: middle;\n",
       "    }\n",
       "\n",
       "    .dataframe tbody tr th {\n",
       "        vertical-align: top;\n",
       "    }\n",
       "\n",
       "    .dataframe thead th {\n",
       "        text-align: right;\n",
       "    }\n",
       "</style>\n",
       "<table border=\"1\" class=\"dataframe\">\n",
       "  <thead>\n",
       "    <tr style=\"text-align: right;\">\n",
       "      <th></th>\n",
       "      <th>user_id</th>\n",
       "      <th>product_id</th>\n",
       "      <th>quantity</th>\n",
       "    </tr>\n",
       "  </thead>\n",
       "  <tbody>\n",
       "    <tr>\n",
       "      <th>0</th>\n",
       "      <td>0</td>\n",
       "      <td>0</td>\n",
       "      <td>0.091837</td>\n",
       "    </tr>\n",
       "    <tr>\n",
       "      <th>1</th>\n",
       "      <td>0</td>\n",
       "      <td>1</td>\n",
       "      <td>0.081633</td>\n",
       "    </tr>\n",
       "    <tr>\n",
       "      <th>2</th>\n",
       "      <td>0</td>\n",
       "      <td>2</td>\n",
       "      <td>0.000000</td>\n",
       "    </tr>\n",
       "    <tr>\n",
       "      <th>3</th>\n",
       "      <td>0</td>\n",
       "      <td>3</td>\n",
       "      <td>0.091837</td>\n",
       "    </tr>\n",
       "    <tr>\n",
       "      <th>4</th>\n",
       "      <td>0</td>\n",
       "      <td>4</td>\n",
       "      <td>0.020408</td>\n",
       "    </tr>\n",
       "    <tr>\n",
       "      <th>...</th>\n",
       "      <td>...</td>\n",
       "      <td>...</td>\n",
       "      <td>...</td>\n",
       "    </tr>\n",
       "    <tr>\n",
       "      <th>13307948</th>\n",
       "      <td>206208</td>\n",
       "      <td>145</td>\n",
       "      <td>0.020408</td>\n",
       "    </tr>\n",
       "    <tr>\n",
       "      <th>13307949</th>\n",
       "      <td>206208</td>\n",
       "      <td>6285</td>\n",
       "      <td>0.000000</td>\n",
       "    </tr>\n",
       "    <tr>\n",
       "      <th>13307950</th>\n",
       "      <td>206208</td>\n",
       "      <td>4737</td>\n",
       "      <td>0.000000</td>\n",
       "    </tr>\n",
       "    <tr>\n",
       "      <th>13307951</th>\n",
       "      <td>206208</td>\n",
       "      <td>448</td>\n",
       "      <td>0.000000</td>\n",
       "    </tr>\n",
       "    <tr>\n",
       "      <th>13307952</th>\n",
       "      <td>206208</td>\n",
       "      <td>8519</td>\n",
       "      <td>0.010204</td>\n",
       "    </tr>\n",
       "  </tbody>\n",
       "</table>\n",
       "<p>13307953 rows × 3 columns</p>\n",
       "</div>"
      ],
      "text/plain": [
       "          user_id  product_id  quantity\n",
       "0               0           0  0.091837\n",
       "1               0           1  0.081633\n",
       "2               0           2  0.000000\n",
       "3               0           3  0.091837\n",
       "4               0           4  0.020408\n",
       "...           ...         ...       ...\n",
       "13307948   206208         145  0.020408\n",
       "13307949   206208        6285  0.000000\n",
       "13307950   206208        4737  0.000000\n",
       "13307951   206208         448  0.000000\n",
       "13307952   206208        8519  0.010204\n",
       "\n",
       "[13307953 rows x 3 columns]"
      ]
     },
     "execution_count": 20,
     "metadata": {},
     "output_type": "execute_result"
    }
   ],
   "source": [
    "user_product_prior_normalized"
   ]
  },
  {
   "cell_type": "code",
   "execution_count": 21,
   "metadata": {
    "executionInfo": {
     "elapsed": 867,
     "status": "ok",
     "timestamp": 1603809633564,
     "user": {
      "displayName": "QI HAODI _",
      "photoUrl": "",
      "userId": "13823255111802956482"
     },
     "user_tz": -480
    },
    "id": "-7StKFM1h1y6"
   },
   "outputs": [],
   "source": [
    "def logistic_fn(x):\n",
    "    '''\n",
    "    a logistic used to normalize feature vector product\n",
    "    '''\n",
    "    return 1/(1 + np.exp(-x))"
   ]
  },
  {
   "cell_type": "code",
   "execution_count": 107,
   "metadata": {},
   "outputs": [],
   "source": [
    "def logistic_fn_dev(x):\n",
    "    '''\n",
    "    a logistic derivative\n",
    "    '''\n",
    "    return np.exp(x)/((1+np.exp(x))**2)"
   ]
  },
  {
   "cell_type": "code",
   "execution_count": null,
   "metadata": {},
   "outputs": [],
   "source": [
    "class PMF_V1():\n",
    "    def __init__(self, \n",
    "                 train_set,            # train_set dtype: df\n",
    "                 validation_set,       # validation_set dtype: df     \n",
    "                 N,                    # number of users: int \n",
    "                 M,                    # number of products: int \n",
    "                 K,                    # number of latent factors: int\n",
    "                 eta,                  # learning rate\n",
    "                 lbd,                  # regularization para\n",
    "                 epoch                 # number of epoch\n",
    "                ):\n",
    "        self.train_set = train_set\n",
    "        self.validation_set = validation_set\n",
    "        self.N = N\n",
    "        self.M = M\n",
    "        self.K = K\n",
    "        self.eta = eta\n",
    "        self.lbd = lbd\n",
    "        self.epoch = epoch\n",
    "    \n",
    "    \n",
    "    def train(self):\n",
    "        np.random.seed(421) ; U = np.random.normal(0, 0.1, (self.N, self.K))\n",
    "        np.random.seed(421) ; V = np.random.normal(0, 0.1, (self.M, self.K))\n",
    "        \n",
    "        train_set_np = self.train_set.to_numpy()\n",
    "        validation_set_np = self.validation_set.to_numpy()\n",
    "        \n",
    "        L = 1000.0\n",
    "        RMSE = []\n",
    "        LOSS = []\n",
    "\n",
    "        for step in tqdm(range(self.epoch)):\n",
    "            loss = 0.0\n",
    "            for data in train_set_np:\n",
    "                u = int(data[0])\n",
    "                i = int(data[1])\n",
    "                r = data[2]\n",
    "\n",
    "                e = r - logistic_fn(np.dot(U[u], V[i].T))           \n",
    "                U[u] = U[u] + self.eta*(e*logistic_fn_dev(np.dot(U[u], V[i].T))*V[i] - self.lbd*U[u])\n",
    "                V[i] = V[i] + self.eta*(e*logistic_fn_dev(np.dot(U[u], V[i].T))*U[u] - self.lbd*V[i])\n",
    "\n",
    "                loss += 0.5*(e**2 + self.lbd*(np.linalg.norm(U[u]) + np.linalg.norm(V[i])))\n",
    "            LOSS.append(loss)\n",
    "            rmse_iter = self.get_rmse_val(validation_set_np, U, V)\n",
    "            RMSE.append(rmse_iter)\n",
    "            print(LOSS)\n",
    "            print(RMSE)\n",
    "            if loss < L:\n",
    "                break\n",
    "        return RMSE, LOSS, U, V\n",
    "     \n",
    "    def get_rmse_val(self, validation_set_np, U, V):\n",
    "        rmse = 0.0\n",
    "        for data in validation_set_np:\n",
    "            u = int(data[0])\n",
    "            i = int(data[1])\n",
    "            r = data[2]\n",
    "            e = r - logistic_fn(np.dot(U[u], V[i].T))\n",
    "            rmse += np.square(e)\n",
    "        return np.sqrt(rmse/len(validation_set_np))\n",
    "        \n",
    "\n",
    "    def prediction(self, P, Q):\n",
    "        N,K = P.shape\n",
    "        M,K = Q.shape\n",
    "\n",
    "        rating_list=[]\n",
    "        for u in range(N):\n",
    "            u_rating = np.sum(P[u,:]*Q, axis=1)\n",
    "            rating_list.append(u_rating)\n",
    "        r_pred = np.array(rating_list)\n",
    "        return r_pred"
   ]
  },
  {
   "cell_type": "code",
   "execution_count": 111,
   "metadata": {},
   "outputs": [],
   "source": [
    "class PMF_V2():\n",
    "    def __init__(self, \n",
    "                 train_set,            # train_set dtype: df\n",
    "                 validation_set,       # validation_set dtype: df     \n",
    "                 N,                    # number of users: int \n",
    "                 M,                    # number of products: int \n",
    "                 K,                    # number of latent factors: int\n",
    "                 eta,                  # learning rate\n",
    "                 lbd,                  # regularization para\n",
    "                 epoch                 # number of epoch\n",
    "                ):\n",
    "        self.train_set = train_set\n",
    "        self.validation_set = validation_set\n",
    "        self.N = N\n",
    "        self.M = M\n",
    "        self.K = K\n",
    "        self.eta = eta\n",
    "        self.lbd = lbd\n",
    "        self.epoch = epoch\n",
    "    \n",
    "    \n",
    "    def train(self):\n",
    "        np.random.seed(421) ; U = np.random.normal(0, 0.1, (self.N, self.K))\n",
    "        np.random.seed(421) ; V = np.random.normal(0, 0.1, (self.M, self.K))\n",
    "        \n",
    "        train_set_np = self.train_set.to_numpy()\n",
    "        validation_set_np = self.validation_set.to_numpy()\n",
    "        \n",
    "        L = 1000.0\n",
    "#         RMSE = []\n",
    "        LOSS = []\n",
    "\n",
    "        for step in tqdm(range(self.epoch)):\n",
    "            loss = 0.0\n",
    "            for data in train_set_np:\n",
    "                u = int(data[0])\n",
    "                i = int(data[1])\n",
    "                r = data[2]\n",
    "\n",
    "                e = r - logistic_fn(np.dot(U[u], V[i].T))           \n",
    "                U[u] = U[u] + self.eta*(e*logistic_fn_dev(np.dot(U[u], V[i].T))*V[i] - self.lbd*U[u])\n",
    "                V[i] = V[i] + self.eta*(e*logistic_fn_dev(np.dot(U[u], V[i].T))*U[u] - self.lbd*V[i])\n",
    "\n",
    "                loss += 0.5*(e**2 + self.lbd*(np.linalg.norm(U[u]) + np.linalg.norm(V[i])))\n",
    "            LOSS.append(loss)\n",
    "#             rmse_iter = self.get_rmse_val(validation_set_np, U, V)\n",
    "#             RMSE.append(rmse_iter)\n",
    "            print(LOSS)\n",
    "#             print(RMSE)\n",
    "            if loss < L:\n",
    "                break\n",
    "        return LOSS, U, V\n",
    "     \n",
    "#     def get_rmse_val(self, validation_set_np, U, V):\n",
    "#         rmse = 0.0\n",
    "#         for data in validation_set_np:\n",
    "#             u = int(data[0])\n",
    "#             i = int(data[1])\n",
    "#             r = data[2] - 1\n",
    "#             e = r - logistic_fn(np.dot(U[u], V[i].T))\n",
    "#             rmse += np.square(e)\n",
    "#         return np.sqrt(rmse/len(validation_set_np))\n",
    "        \n",
    "    def avg_precision(self, actual, predicted):\n",
    "        score = 0.0\n",
    "        num_hits = 0.0\n",
    "        \n",
    "        for i, p in enumerate(predicted):\n",
    "            if p in actual and p not in predicted[:i]:\n",
    "                num_hits += 1.0\n",
    "                score += num_hits / (i+1.0)\n",
    "        if num_hits == 0.0:\n",
    "            return 0.0\n",
    "        return score / num_hits\n",
    "    \n",
    "    def prediction_map(self, U, V):\n",
    "        scores = []\n",
    "        for u in tqdm(range(len(U))):\n",
    "            user_item_score = np.matmul(U[u], V.T)\n",
    "            recomm_items = np.argsort(user_item_score)[-1:-11:-1]\n",
    "\n",
    "            gt_product = self.validation_set.query('user_id=={}'.format(u)).product_id.values\n",
    "            score = self.avg_precision(gt_product, recomm_items)\n",
    "            scores.append(score)\n",
    "\n",
    "            if u > 0 and u % 10000 == 0:\n",
    "                break\n",
    "        return np.mean(scores)"
   ]
  },
  {
   "cell_type": "code",
   "execution_count": 121,
   "metadata": {},
   "outputs": [],
   "source": [
    "test_2 = PMF_V2(user_product_prior_normalized, user_product_validation, N = 206209, M = 49677, K = 30, eta = 0.1,\n",
    "                 lbd = 0.01, epoch = 20)"
   ]
  },
  {
   "cell_type": "code",
   "execution_count": 122,
   "metadata": {},
   "outputs": [
    {
     "name": "stderr",
     "output_type": "stream",
     "text": [
      " 10%|█         | 2/20 [21:31<3:13:03, 643.55s/it]"
     ]
    },
    {
     "name": "stdout",
     "output_type": "stream",
     "text": [
      "[1439110.3976564142, 763928.0561167707]\n",
      "[0.4337944265983535, 0.2662465896270365]\n"
     ]
    },
    {
     "name": "stderr",
     "output_type": "stream",
     "text": [
      "\r",
      " 15%|█▌        | 3/20 [32:04<3:01:21, 640.11s/it]"
     ]
    },
    {
     "name": "stdout",
     "output_type": "stream",
     "text": [
      "[1439110.3976564142, 763928.0561167707, 446280.3687232512]\n",
      "[0.4337944265983535, 0.2662465896270365, 0.20835017618497123]\n"
     ]
    },
    {
     "name": "stderr",
     "output_type": "stream",
     "text": [
      "\r",
      " 20%|██        | 4/20 [42:52<2:51:21, 642.60s/it]"
     ]
    },
    {
     "name": "stdout",
     "output_type": "stream",
     "text": [
      "[1439110.3976564142, 763928.0561167707, 446280.3687232512, 361635.89029701735]\n",
      "[0.4337944265983535, 0.2662465896270365, 0.20835017618497123, 0.1813365177847851]\n"
     ]
    },
    {
     "name": "stderr",
     "output_type": "stream",
     "text": [
      "\r",
      " 25%|██▌       | 5/20 [53:50<2:41:49, 647.30s/it]"
     ]
    },
    {
     "name": "stdout",
     "output_type": "stream",
     "text": [
      "[1439110.3976564142, 763928.0561167707, 446280.3687232512, 361635.89029701735, 326714.6639481237]\n",
      "[0.4337944265983535, 0.2662465896270365, 0.20835017618497123, 0.1813365177847851, 0.16556605094914945]\n"
     ]
    },
    {
     "name": "stderr",
     "output_type": "stream",
     "text": [
      "\r",
      " 30%|███       | 6/20 [1:03:55<2:28:03, 634.52s/it]"
     ]
    },
    {
     "name": "stdout",
     "output_type": "stream",
     "text": [
      "[1439110.3976564142, 763928.0561167707, 446280.3687232512, 361635.89029701735, 326714.6639481237, 308243.65298281313]\n",
      "[0.4337944265983535, 0.2662465896270365, 0.20835017618497123, 0.1813365177847851, 0.16556605094914945, 0.1551811732968778]\n"
     ]
    },
    {
     "name": "stderr",
     "output_type": "stream",
     "text": [
      "\r",
      " 35%|███▌      | 7/20 [1:14:57<2:19:16, 642.77s/it]"
     ]
    },
    {
     "name": "stdout",
     "output_type": "stream",
     "text": [
      "[1439110.3976564142, 763928.0561167707, 446280.3687232512, 361635.89029701735, 326714.6639481237, 308243.65298281313, 297059.2033158287]\n",
      "[0.4337944265983535, 0.2662465896270365, 0.20835017618497123, 0.1813365177847851, 0.16556605094914945, 0.1551811732968778, 0.14782762672885336]\n"
     ]
    },
    {
     "name": "stderr",
     "output_type": "stream",
     "text": [
      "\r",
      " 40%|████      | 8/20 [1:25:14<2:07:02, 635.17s/it]"
     ]
    },
    {
     "name": "stdout",
     "output_type": "stream",
     "text": [
      "[1439110.3976564142, 763928.0561167707, 446280.3687232512, 361635.89029701735, 326714.6639481237, 308243.65298281313, 297059.2033158287, 289688.5300440497]\n",
      "[0.4337944265983535, 0.2662465896270365, 0.20835017618497123, 0.1813365177847851, 0.16556605094914945, 0.1551811732968778, 0.14782762672885336, 0.14236303463857047]\n"
     ]
    },
    {
     "name": "stderr",
     "output_type": "stream",
     "text": [
      "\r",
      " 45%|████▌     | 9/20 [1:36:13<1:57:43, 642.14s/it]"
     ]
    },
    {
     "name": "stdout",
     "output_type": "stream",
     "text": [
      "[1439110.3976564142, 763928.0561167707, 446280.3687232512, 361635.89029701735, 326714.6639481237, 308243.65298281313, 297059.2033158287, 289688.5300440497, 284540.1527809797]\n",
      "[0.4337944265983535, 0.2662465896270365, 0.20835017618497123, 0.1813365177847851, 0.16556605094914945, 0.1551811732968778, 0.14782762672885336, 0.14236303463857047, 0.13815992528658733]\n"
     ]
    },
    {
     "name": "stderr",
     "output_type": "stream",
     "text": [
      "\r",
      " 50%|█████     | 10/20 [1:46:50<1:46:47, 640.77s/it]"
     ]
    },
    {
     "name": "stdout",
     "output_type": "stream",
     "text": [
      "[1439110.3976564142, 763928.0561167707, 446280.3687232512, 361635.89029701735, 326714.6639481237, 308243.65298281313, 297059.2033158287, 289688.5300440497, 284540.1527809797, 280787.54759706184]\n",
      "[0.4337944265983535, 0.2662465896270365, 0.20835017618497123, 0.1813365177847851, 0.16556605094914945, 0.1551811732968778, 0.14782762672885336, 0.14236303463857047, 0.13815992528658733, 0.1348424259091947]\n"
     ]
    },
    {
     "name": "stderr",
     "output_type": "stream",
     "text": [
      "\r",
      " 55%|█████▌    | 11/20 [1:57:28<1:35:57, 639.68s/it]"
     ]
    },
    {
     "name": "stdout",
     "output_type": "stream",
     "text": [
      "[1439110.3976564142, 763928.0561167707, 446280.3687232512, 361635.89029701735, 326714.6639481237, 308243.65298281313, 297059.2033158287, 289688.5300440497, 284540.1527809797, 280787.54759706184, 277961.5964972108]\n",
      "[0.4337944265983535, 0.2662465896270365, 0.20835017618497123, 0.1813365177847851, 0.16556605094914945, 0.1551811732968778, 0.14782762672885336, 0.14236303463857047, 0.13815992528658733, 0.1348424259091947, 0.1321705300136543]\n"
     ]
    },
    {
     "name": "stderr",
     "output_type": "stream",
     "text": [
      "\r",
      " 60%|██████    | 12/20 [2:08:12<1:25:28, 641.03s/it]"
     ]
    },
    {
     "name": "stdout",
     "output_type": "stream",
     "text": [
      "[1439110.3976564142, 763928.0561167707, 446280.3687232512, 361635.89029701735, 326714.6639481237, 308243.65298281313, 297059.2033158287, 289688.5300440497, 284540.1527809797, 280787.54759706184, 277961.5964972108, 275777.7299468888]\n",
      "[0.4337944265983535, 0.2662465896270365, 0.20835017618497123, 0.1813365177847851, 0.16556605094914945, 0.1551811732968778, 0.14782762672885336, 0.14236303463857047, 0.13815992528658733, 0.1348424259091947, 0.1321705300136543, 0.12998330652286705]\n"
     ]
    },
    {
     "name": "stderr",
     "output_type": "stream",
     "text": [
      "\r",
      " 65%|██████▌   | 13/20 [2:19:00<1:15:01, 643.08s/it]"
     ]
    },
    {
     "name": "stdout",
     "output_type": "stream",
     "text": [
      "[1439110.3976564142, 763928.0561167707, 446280.3687232512, 361635.89029701735, 326714.6639481237, 308243.65298281313, 297059.2033158287, 289688.5300440497, 284540.1527809797, 280787.54759706184, 277961.5964972108, 275777.7299468888, 274054.15942672105]\n",
      "[0.4337944265983535, 0.2662465896270365, 0.20835017618497123, 0.1813365177847851, 0.16556605094914945, 0.1551811732968778, 0.14782762672885336, 0.14236303463857047, 0.13815992528658733, 0.1348424259091947, 0.1321705300136543, 0.12998330652286705, 0.1281686062593849]\n"
     ]
    },
    {
     "name": "stderr",
     "output_type": "stream",
     "text": [
      "\r",
      " 70%|███████   | 14/20 [2:29:50<1:04:32, 645.41s/it]"
     ]
    },
    {
     "name": "stdout",
     "output_type": "stream",
     "text": [
      "[1439110.3976564142, 763928.0561167707, 446280.3687232512, 361635.89029701735, 326714.6639481237, 308243.65298281313, 297059.2033158287, 289688.5300440497, 284540.1527809797, 280787.54759706184, 277961.5964972108, 275777.7299468888, 274054.15942672105, 272669.8406224169]\n",
      "[0.4337944265983535, 0.2662465896270365, 0.20835017618497123, 0.1813365177847851, 0.16556605094914945, 0.1551811732968778, 0.14782762672885336, 0.14236303463857047, 0.13815992528658733, 0.1348424259091947, 0.1321705300136543, 0.12998330652286705, 0.1281686062593849, 0.12664580711251078]\n"
     ]
    },
    {
     "name": "stderr",
     "output_type": "stream",
     "text": [
      "\r",
      " 75%|███████▌  | 15/20 [2:40:38<53:50, 646.04s/it]  "
     ]
    },
    {
     "name": "stdout",
     "output_type": "stream",
     "text": [
      "[1439110.3976564142, 763928.0561167707, 446280.3687232512, 361635.89029701735, 326714.6639481237, 308243.65298281313, 297059.2033158287, 289688.5300440497, 284540.1527809797, 280787.54759706184, 277961.5964972108, 275777.7299468888, 274054.15942672105, 272669.8406224169, 271541.39180688624]\n",
      "[0.4337944265983535, 0.2662465896270365, 0.20835017618497123, 0.1813365177847851, 0.16556605094914945, 0.1551811732968778, 0.14782762672885336, 0.14236303463857047, 0.13815992528658733, 0.1348424259091947, 0.1321705300136543, 0.12998330652286705, 0.1281686062593849, 0.12664580711251078, 0.1253554508764368]\n"
     ]
    },
    {
     "name": "stderr",
     "output_type": "stream",
     "text": [
      "\r",
      " 80%|████████  | 16/20 [2:51:23<43:02, 645.61s/it]"
     ]
    },
    {
     "name": "stdout",
     "output_type": "stream",
     "text": [
      "[1439110.3976564142, 763928.0561167707, 446280.3687232512, 361635.89029701735, 326714.6639481237, 308243.65298281313, 297059.2033158287, 289688.5300440497, 284540.1527809797, 280787.54759706184, 277961.5964972108, 275777.7299468888, 274054.15942672105, 272669.8406224169, 271541.39180688624, 270609.72407488443]\n",
      "[0.4337944265983535, 0.2662465896270365, 0.20835017618497123, 0.1813365177847851, 0.16556605094914945, 0.1551811732968778, 0.14782762672885336, 0.14236303463857047, 0.13815992528658733, 0.1348424259091947, 0.1321705300136543, 0.12998330652286705, 0.1281686062593849, 0.12664580711251078, 0.1253554508764368, 0.12425274103385771]\n"
     ]
    },
    {
     "name": "stderr",
     "output_type": "stream",
     "text": [
      "\r",
      " 85%|████████▌ | 17/20 [3:02:23<32:29, 649.96s/it]"
     ]
    },
    {
     "name": "stdout",
     "output_type": "stream",
     "text": [
      "[1439110.3976564142, 763928.0561167707, 446280.3687232512, 361635.89029701735, 326714.6639481237, 308243.65298281313, 297059.2033158287, 289688.5300440497, 284540.1527809797, 280787.54759706184, 277961.5964972108, 275777.7299468888, 274054.15942672105, 272669.8406224169, 271541.39180688624, 270609.72407488443, 269831.94584437873]\n",
      "[0.4337944265983535, 0.2662465896270365, 0.20835017618497123, 0.1813365177847851, 0.16556605094914945, 0.1551811732968778, 0.14782762672885336, 0.14236303463857047, 0.13815992528658733, 0.1348424259091947, 0.1321705300136543, 0.12998330652286705, 0.1281686062593849, 0.12664580711251078, 0.1253554508764368, 0.12425274103385771, 0.12330331081801724]\n"
     ]
    },
    {
     "name": "stderr",
     "output_type": "stream",
     "text": [
      "\r",
      " 90%|█████████ | 18/20 [3:13:08<21:36, 648.44s/it]"
     ]
    },
    {
     "name": "stdout",
     "output_type": "stream",
     "text": [
      "[1439110.3976564142, 763928.0561167707, 446280.3687232512, 361635.89029701735, 326714.6639481237, 308243.65298281313, 297059.2033158287, 289688.5300440497, 284540.1527809797, 280787.54759706184, 277961.5964972108, 275777.7299468888, 274054.15942672105, 272669.8406224169, 271541.39180688624, 270609.72407488443, 269831.94584437873, 269176.27412895707]\n",
      "[0.4337944265983535, 0.2662465896270365, 0.20835017618497123, 0.1813365177847851, 0.16556605094914945, 0.1551811732968778, 0.14782762672885336, 0.14236303463857047, 0.13815992528658733, 0.1348424259091947, 0.1321705300136543, 0.12998330652286705, 0.1281686062593849, 0.12664580711251078, 0.1253554508764368, 0.12425274103385771, 0.12330331081801724, 0.12248038193701945]\n"
     ]
    },
    {
     "name": "stderr",
     "output_type": "stream",
     "text": [
      "\r",
      " 95%|█████████▌| 19/20 [3:23:30<10:40, 640.56s/it]"
     ]
    },
    {
     "name": "stdout",
     "output_type": "stream",
     "text": [
      "[1439110.3976564142, 763928.0561167707, 446280.3687232512, 361635.89029701735, 326714.6639481237, 308243.65298281313, 297059.2033158287, 289688.5300440497, 284540.1527809797, 280787.54759706184, 277961.5964972108, 275777.7299468888, 274054.15942672105, 272669.8406224169, 271541.39180688624, 270609.72407488443, 269831.94584437873, 269176.27412895707, 268618.7318853487]\n",
      "[0.4337944265983535, 0.2662465896270365, 0.20835017618497123, 0.1813365177847851, 0.16556605094914945, 0.1551811732968778, 0.14782762672885336, 0.14236303463857047, 0.13815992528658733, 0.1348424259091947, 0.1321705300136543, 0.12998330652286705, 0.1281686062593849, 0.12664580711251078, 0.1253554508764368, 0.12425274103385771, 0.12330331081801724, 0.12248038193701945, 0.12176280547125776]\n"
     ]
    },
    {
     "name": "stderr",
     "output_type": "stream",
     "text": [
      "100%|██████████| 20/20 [3:34:37<00:00, 643.89s/it]"
     ]
    },
    {
     "name": "stdout",
     "output_type": "stream",
     "text": [
      "[1439110.3976564142, 763928.0561167707, 446280.3687232512, 361635.89029701735, 326714.6639481237, 308243.65298281313, 297059.2033158287, 289688.5300440497, 284540.1527809797, 280787.54759706184, 277961.5964972108, 275777.7299468888, 274054.15942672105, 272669.8406224169, 271541.39180688624, 270609.72407488443, 269831.94584437873, 269176.27412895707, 268618.7318853487, 268140.94446496054]\n",
      "[0.4337944265983535, 0.2662465896270365, 0.20835017618497123, 0.1813365177847851, 0.16556605094914945, 0.1551811732968778, 0.14782762672885336, 0.14236303463857047, 0.13815992528658733, 0.1348424259091947, 0.1321705300136543, 0.12998330652286705, 0.1281686062593849, 0.12664580711251078, 0.1253554508764368, 0.12425274103385771, 0.12330331081801724, 0.12248038193701945, 0.12176280547125776, 0.12113367954651603]\n"
     ]
    },
    {
     "name": "stderr",
     "output_type": "stream",
     "text": [
      "\n"
     ]
    }
   ],
   "source": [
    "RMSE_2, LOSS_2, U_2, V_2 = test_2.train()"
   ]
  },
  {
   "cell_type": "code",
   "execution_count": 126,
   "metadata": {},
   "outputs": [
    {
     "name": "stderr",
     "output_type": "stream",
     "text": [
      "  5%|▍         | 10000/206209 [09:45<3:11:28, 17.08it/s]\n"
     ]
    }
   ],
   "source": [
    "MAP_2 = test_2.prediction_map(U_2, V_2)"
   ]
  },
  {
   "cell_type": "code",
   "execution_count": 127,
   "metadata": {},
   "outputs": [
    {
     "data": {
      "text/plain": [
       "0.0"
      ]
     },
     "execution_count": 127,
     "metadata": {},
     "output_type": "execute_result"
    }
   ],
   "source": [
    "MAP_2"
   ]
  },
  {
   "cell_type": "code",
   "execution_count": 123,
   "metadata": {},
   "outputs": [],
   "source": [
    "test_3 = PMF_V2(user_product_prior_normalized, user_product_validation, N = 206209, M = 49677, K = 40, eta = 0.1,\n",
    "                 lbd = 0.01, epoch = 30)"
   ]
  },
  {
   "cell_type": "code",
   "execution_count": 124,
   "metadata": {},
   "outputs": [
    {
     "name": "stderr",
     "output_type": "stream",
     "text": [
      "  3%|▎         | 1/30 [11:01<5:19:46, 661.59s/it]"
     ]
    },
    {
     "name": "stdout",
     "output_type": "stream",
     "text": [
      "[1430603.5435018882]\n",
      "[0.4287895034028563]\n"
     ]
    },
    {
     "name": "stderr",
     "output_type": "stream",
     "text": [
      "\r",
      "  7%|▋         | 2/30 [22:01<5:08:32, 661.15s/it]"
     ]
    },
    {
     "name": "stdout",
     "output_type": "stream",
     "text": [
      "[1430603.5435018882, 750964.6266716269]\n",
      "[0.4287895034028563, 0.263459075676604]\n"
     ]
    },
    {
     "name": "stderr",
     "output_type": "stream",
     "text": [
      "\r",
      " 10%|█         | 3/30 [33:02<4:57:32, 661.19s/it]"
     ]
    },
    {
     "name": "stdout",
     "output_type": "stream",
     "text": [
      "[1430603.5435018882, 750964.6266716269, 444291.3130135707]\n",
      "[0.4287895034028563, 0.263459075676604, 0.20722734951901714]\n"
     ]
    },
    {
     "name": "stderr",
     "output_type": "stream",
     "text": [
      "\r",
      " 13%|█▎        | 4/30 [43:55<4:45:21, 658.53s/it]"
     ]
    },
    {
     "name": "stdout",
     "output_type": "stream",
     "text": [
      "[1430603.5435018882, 750964.6266716269, 444291.3130135707, 361831.1897208446]\n",
      "[0.4287895034028563, 0.263459075676604, 0.20722734951901714, 0.18075927459888633]\n"
     ]
    },
    {
     "name": "stderr",
     "output_type": "stream",
     "text": [
      "\r",
      " 17%|█▋        | 5/30 [55:23<4:38:01, 667.28s/it]"
     ]
    },
    {
     "name": "stdout",
     "output_type": "stream",
     "text": [
      "[1430603.5435018882, 750964.6266716269, 444291.3130135707, 361831.1897208446, 327372.11735735374]\n",
      "[0.4287895034028563, 0.263459075676604, 0.20722734951901714, 0.18075927459888633, 0.16523093780966203]\n"
     ]
    },
    {
     "name": "stderr",
     "output_type": "stream",
     "text": [
      "\r",
      " 20%|██        | 6/30 [1:06:52<4:29:34, 673.93s/it]"
     ]
    },
    {
     "name": "stdout",
     "output_type": "stream",
     "text": [
      "[1430603.5435018882, 750964.6266716269, 444291.3130135707, 361831.1897208446, 327372.11735735374, 308995.4587775118]\n",
      "[0.4287895034028563, 0.263459075676604, 0.20722734951901714, 0.18075927459888633, 0.16523093780966203, 0.15497438060738278]\n"
     ]
    },
    {
     "name": "stderr",
     "output_type": "stream",
     "text": [
      "\r",
      " 23%|██▎       | 7/30 [1:17:33<4:14:36, 664.18s/it]"
     ]
    },
    {
     "name": "stdout",
     "output_type": "stream",
     "text": [
      "[1430603.5435018882, 750964.6266716269, 444291.3130135707, 361831.1897208446, 327372.11735735374, 308995.4587775118, 297800.1098603388]\n",
      "[0.4287895034028563, 0.263459075676604, 0.20722734951901714, 0.18075927459888633, 0.16523093780966203, 0.15497438060738278, 0.14769657954319085]\n"
     ]
    },
    {
     "name": "stderr",
     "output_type": "stream",
     "text": [
      "\r",
      " 27%|██▋       | 8/30 [1:28:20<4:01:34, 658.86s/it]"
     ]
    },
    {
     "name": "stdout",
     "output_type": "stream",
     "text": [
      "[1430603.5435018882, 750964.6266716269, 444291.3130135707, 361831.1897208446, 327372.11735735374, 308995.4587775118, 297800.1098603388, 290385.59432200453]\n",
      "[0.4287895034028563, 0.263459075676604, 0.20722734951901714, 0.18075927459888633, 0.16523093780966203, 0.15497438060738278, 0.14769657954319085, 0.14227989238190528]\n"
     ]
    },
    {
     "name": "stderr",
     "output_type": "stream",
     "text": [
      "\r",
      " 30%|███       | 9/30 [1:39:15<3:50:15, 657.86s/it]"
     ]
    },
    {
     "name": "stdout",
     "output_type": "stream",
     "text": [
      "[1430603.5435018882, 750964.6266716269, 444291.3130135707, 361831.1897208446, 327372.11735735374, 308995.4587775118, 297800.1098603388, 290385.59432200453, 285184.5574546951]\n",
      "[0.4287895034028563, 0.263459075676604, 0.20722734951901714, 0.18075927459888633, 0.16523093780966203, 0.15497438060738278, 0.14769657954319085, 0.14227989238190528, 0.13810851977292585]\n"
     ]
    },
    {
     "name": "stderr",
     "output_type": "stream",
     "text": [
      "\r",
      " 33%|███▎      | 10/30 [1:49:31<3:35:03, 645.20s/it]"
     ]
    },
    {
     "name": "stdout",
     "output_type": "stream",
     "text": [
      "[1430603.5435018882, 750964.6266716269, 444291.3130135707, 361831.1897208446, 327372.11735735374, 308995.4587775118, 297800.1098603388, 290385.59432200453, 285184.5574546951, 281379.30183456006]\n",
      "[0.4287895034028563, 0.263459075676604, 0.20722734951901714, 0.18075927459888633, 0.16523093780966203, 0.15497438060738278, 0.14769657954319085, 0.14227989238190528, 0.13810851977292585, 0.1348127356268515]\n"
     ]
    },
    {
     "name": "stderr",
     "output_type": "stream",
     "text": [
      "\r",
      " 37%|███▋      | 11/30 [2:00:18<3:24:30, 645.83s/it]"
     ]
    },
    {
     "name": "stdout",
     "output_type": "stream",
     "text": [
      "[1430603.5435018882, 750964.6266716269, 444291.3130135707, 361831.1897208446, 327372.11735735374, 308995.4587775118, 297800.1098603388, 290385.59432200453, 285184.5574546951, 281379.30183456006, 278503.9519000853]\n",
      "[0.4287895034028563, 0.263459075676604, 0.20722734951901714, 0.18075927459888633, 0.16523093780966203, 0.15497438060738278, 0.14769657954319085, 0.14227989238190528, 0.13810851977292585, 0.1348127356268515, 0.13215603820159808]\n"
     ]
    },
    {
     "name": "stderr",
     "output_type": "stream",
     "text": [
      "\r",
      " 40%|████      | 12/30 [2:11:10<3:14:18, 647.69s/it]"
     ]
    },
    {
     "name": "stdout",
     "output_type": "stream",
     "text": [
      "[1430603.5435018882, 750964.6266716269, 444291.3130135707, 361831.1897208446, 327372.11735735374, 308995.4587775118, 297800.1098603388, 290385.59432200453, 285184.5574546951, 281379.30183456006, 278503.9519000853, 276274.9677188406]\n",
      "[0.4287895034028563, 0.263459075676604, 0.20722734951901714, 0.18075927459888633, 0.16523093780966203, 0.15497438060738278, 0.14769657954319085, 0.14227989238190528, 0.13810851977292585, 0.1348127356268515, 0.13215603820159808, 0.12997961784097742]\n"
     ]
    },
    {
     "name": "stderr",
     "output_type": "stream",
     "text": [
      "\r",
      " 43%|████▎     | 13/30 [2:22:11<3:04:37, 651.60s/it]"
     ]
    },
    {
     "name": "stdout",
     "output_type": "stream",
     "text": [
      "[1430603.5435018882, 750964.6266716269, 444291.3130135707, 361831.1897208446, 327372.11735735374, 308995.4587775118, 297800.1098603388, 290385.59432200453, 285184.5574546951, 281379.30183456006, 278503.9519000853, 276274.9677188406, 274510.6815135321]\n",
      "[0.4287895034028563, 0.263459075676604, 0.20722734951901714, 0.18075927459888633, 0.16523093780966203, 0.15497438060738278, 0.14769657954319085, 0.14227989238190528, 0.13810851977292585, 0.1348127356268515, 0.13215603820159808, 0.12997961784097742, 0.12817267044075784]\n"
     ]
    },
    {
     "name": "stderr",
     "output_type": "stream",
     "text": [
      "\r",
      " 47%|████▋     | 14/30 [2:32:51<2:52:50, 648.18s/it]"
     ]
    },
    {
     "name": "stdout",
     "output_type": "stream",
     "text": [
      "[1430603.5435018882, 750964.6266716269, 444291.3130135707, 361831.1897208446, 327372.11735735374, 308995.4587775118, 297800.1098603388, 290385.59432200453, 285184.5574546951, 281379.30183456006, 278503.9519000853, 276274.9677188406, 274510.6815135321, 273089.8030955978]\n",
      "[0.4287895034028563, 0.263459075676604, 0.20722734951901714, 0.18075927459888633, 0.16523093780966203, 0.15497438060738278, 0.14769657954319085, 0.14227989238190528, 0.13810851977292585, 0.1348127356268515, 0.13215603820159808, 0.12997961784097742, 0.12817267044075784, 0.12665545886369398]\n"
     ]
    },
    {
     "name": "stderr",
     "output_type": "stream",
     "text": [
      "\r",
      " 50%|█████     | 15/30 [2:44:00<2:43:35, 654.40s/it]"
     ]
    },
    {
     "name": "stdout",
     "output_type": "stream",
     "text": [
      "[1430603.5435018882, 750964.6266716269, 444291.3130135707, 361831.1897208446, 327372.11735735374, 308995.4587775118, 297800.1098603388, 290385.59432200453, 285184.5574546951, 281379.30183456006, 278503.9519000853, 276274.9677188406, 274510.6815135321, 273089.8030955978, 271928.57369761146]\n",
      "[0.4287895034028563, 0.263459075676604, 0.20722734951901714, 0.18075927459888633, 0.16523093780966203, 0.15497438060738278, 0.14769657954319085, 0.14227989238190528, 0.13810851977292585, 0.1348127356268515, 0.13215603820159808, 0.12997961784097742, 0.12817267044075784, 0.12665545886369398, 0.12536912496367747]\n"
     ]
    },
    {
     "name": "stderr",
     "output_type": "stream",
     "text": [
      "\r",
      " 53%|█████▎    | 16/30 [2:54:59<2:32:59, 655.70s/it]"
     ]
    },
    {
     "name": "stdout",
     "output_type": "stream",
     "text": [
      "[1430603.5435018882, 750964.6266716269, 444291.3130135707, 361831.1897208446, 327372.11735735374, 308995.4587775118, 297800.1098603388, 290385.59432200453, 285184.5574546951, 281379.30183456006, 278503.9519000853, 276274.9677188406, 274510.6815135321, 273089.8030955978, 271928.57369761146, 270967.4999135267]\n",
      "[0.4287895034028563, 0.263459075676604, 0.20722734951901714, 0.18075927459888633, 0.16523093780966203, 0.15497438060738278, 0.14769657954319085, 0.14227989238190528, 0.13810851977292585, 0.1348127356268515, 0.13215603820159808, 0.12997961784097742, 0.12817267044075784, 0.12665545886369398, 0.12536912496367747, 0.12426928936571444]\n"
     ]
    },
    {
     "name": "stderr",
     "output_type": "stream",
     "text": [
      "\r",
      " 57%|█████▋    | 17/30 [3:05:51<2:21:51, 654.73s/it]"
     ]
    },
    {
     "name": "stdout",
     "output_type": "stream",
     "text": [
      "[1430603.5435018882, 750964.6266716269, 444291.3130135707, 361831.1897208446, 327372.11735735374, 308995.4587775118, 297800.1098603388, 290385.59432200453, 285184.5574546951, 281379.30183456006, 278503.9519000853, 276274.9677188406, 274510.6815135321, 273089.8030955978, 271928.57369761146, 270967.4999135267, 270163.3028004697]\n",
      "[0.4287895034028563, 0.263459075676604, 0.20722734951901714, 0.18075927459888633, 0.16523093780966203, 0.15497438060738278, 0.14769657954319085, 0.14227989238190528, 0.13810851977292585, 0.1348127356268515, 0.13215603820159808, 0.12997961784097742, 0.12817267044075784, 0.12665545886369398, 0.12536912496367747, 0.12426928936571444, 0.12332188141039944]\n"
     ]
    },
    {
     "name": "stderr",
     "output_type": "stream",
     "text": [
      "\r",
      " 60%|██████    | 18/30 [3:16:51<2:11:13, 656.13s/it]"
     ]
    },
    {
     "name": "stdout",
     "output_type": "stream",
     "text": [
      "[1430603.5435018882, 750964.6266716269, 444291.3130135707, 361831.1897208446, 327372.11735735374, 308995.4587775118, 297800.1098603388, 290385.59432200453, 285184.5574546951, 281379.30183456006, 278503.9519000853, 276274.9677188406, 274510.6815135321, 273089.8030955978, 271928.57369761146, 270967.4999135267, 270163.3028004697, 269483.84655698907]\n",
      "[0.4287895034028563, 0.263459075676604, 0.20722734951901714, 0.18075927459888633, 0.16523093780966203, 0.15497438060738278, 0.14769657954319085, 0.14227989238190528, 0.13810851977292585, 0.1348127356268515, 0.13215603820159808, 0.12997961784097742, 0.12817267044075784, 0.12665545886369398, 0.12536912496367747, 0.12426928936571444, 0.12332188141039944, 0.12250033674769661]\n"
     ]
    },
    {
     "name": "stderr",
     "output_type": "stream",
     "text": [
      "\r",
      " 63%|██████▎   | 19/30 [3:27:44<2:00:08, 655.28s/it]"
     ]
    },
    {
     "name": "stdout",
     "output_type": "stream",
     "text": [
      "[1430603.5435018882, 750964.6266716269, 444291.3130135707, 361831.1897208446, 327372.11735735374, 308995.4587775118, 297800.1098603388, 290385.59432200453, 285184.5574546951, 281379.30183456006, 278503.9519000853, 276274.9677188406, 274510.6815135321, 273089.8030955978, 271928.57369761146, 270967.4999135267, 270163.3028004697, 269483.84655698907, 268904.8407116806]\n",
      "[0.4287895034028563, 0.263459075676604, 0.20722734951901714, 0.18075927459888633, 0.16523093780966203, 0.15497438060738278, 0.14769657954319085, 0.14227989238190528, 0.13810851977292585, 0.1348127356268515, 0.13215603820159808, 0.12997961784097742, 0.12817267044075784, 0.12665545886369398, 0.12536912496367747, 0.12426928936571444, 0.12332188141039944, 0.12250033674769661, 0.12178366338185052]\n"
     ]
    },
    {
     "name": "stderr",
     "output_type": "stream",
     "text": [
      "\r",
      " 67%|██████▋   | 20/30 [3:38:55<1:49:59, 659.92s/it]"
     ]
    },
    {
     "name": "stdout",
     "output_type": "stream",
     "text": [
      "[1430603.5435018882, 750964.6266716269, 444291.3130135707, 361831.1897208446, 327372.11735735374, 308995.4587775118, 297800.1098603388, 290385.59432200453, 285184.5574546951, 281379.30183456006, 278503.9519000853, 276274.9677188406, 274510.6815135321, 273089.8030955978, 271928.57369761146, 270967.4999135267, 270163.3028004697, 269483.84655698907, 268904.8407116806, 268407.63574607583]\n",
      "[0.4287895034028563, 0.263459075676604, 0.20722734951901714, 0.18075927459888633, 0.16523093780966203, 0.15497438060738278, 0.14769657954319085, 0.14227989238190528, 0.13810851977292585, 0.1348127356268515, 0.13215603820159808, 0.12997961784097742, 0.12817267044075784, 0.12665545886369398, 0.12536912496367747, 0.12426928936571444, 0.12332188141039944, 0.12250033674769661, 0.12178366338185052, 0.12115507603472296]\n"
     ]
    },
    {
     "name": "stderr",
     "output_type": "stream",
     "text": [
      "\r",
      " 70%|███████   | 21/30 [3:49:37<1:38:10, 654.51s/it]"
     ]
    },
    {
     "name": "stdout",
     "output_type": "stream",
     "text": [
      "[1430603.5435018882, 750964.6266716269, 444291.3130135707, 361831.1897208446, 327372.11735735374, 308995.4587775118, 297800.1098603388, 290385.59432200453, 285184.5574546951, 281379.30183456006, 278503.9519000853, 276274.9677188406, 274510.6815135321, 273089.8030955978, 271928.57369761146, 270967.4999135267, 270163.3028004697, 269483.84655698907, 268904.8407116806, 268407.63574607583, 267977.7137686066]\n",
      "[0.4287895034028563, 0.263459075676604, 0.20722734951901714, 0.18075927459888633, 0.16523093780966203, 0.15497438060738278, 0.14769657954319085, 0.14227989238190528, 0.13810851977292585, 0.1348127356268515, 0.13215603820159808, 0.12997961784097742, 0.12817267044075784, 0.12665545886369398, 0.12536912496367747, 0.12426928936571444, 0.12332188141039944, 0.12250033674769661, 0.12178366338185052, 0.12115507603472296, 0.12060101230168364]\n"
     ]
    },
    {
     "name": "stderr",
     "output_type": "stream",
     "text": [
      "\r",
      " 73%|███████▎  | 22/30 [4:00:39<1:27:35, 656.96s/it]"
     ]
    },
    {
     "name": "stdout",
     "output_type": "stream",
     "text": [
      "[1430603.5435018882, 750964.6266716269, 444291.3130135707, 361831.1897208446, 327372.11735735374, 308995.4587775118, 297800.1098603388, 290385.59432200453, 285184.5574546951, 281379.30183456006, 278503.9519000853, 276274.9677188406, 274510.6815135321, 273089.8030955978, 271928.57369761146, 270967.4999135267, 270163.3028004697, 269483.84655698907, 268904.8407116806, 268407.63574607583, 267977.7137686066, 267603.6329847235]\n",
      "[0.4287895034028563, 0.263459075676604, 0.20722734951901714, 0.18075927459888633, 0.16523093780966203, 0.15497438060738278, 0.14769657954319085, 0.14227989238190528, 0.13810851977292585, 0.1348127356268515, 0.13215603820159808, 0.12997961784097742, 0.12817267044075784, 0.12665545886369398, 0.12536912496367747, 0.12426928936571444, 0.12332188141039944, 0.12250033674769661, 0.12178366338185052, 0.12115507603472296, 0.12060101230168364, 0.1201104112622497]\n"
     ]
    },
    {
     "name": "stderr",
     "output_type": "stream",
     "text": [
      "\r",
      " 77%|███████▋  | 23/30 [4:12:00<1:17:28, 664.03s/it]"
     ]
    },
    {
     "name": "stdout",
     "output_type": "stream",
     "text": [
      "[1430603.5435018882, 750964.6266716269, 444291.3130135707, 361831.1897208446, 327372.11735735374, 308995.4587775118, 297800.1098603388, 290385.59432200453, 285184.5574546951, 281379.30183456006, 278503.9519000853, 276274.9677188406, 274510.6815135321, 273089.8030955978, 271928.57369761146, 270967.4999135267, 270163.3028004697, 269483.84655698907, 268904.8407116806, 268407.63574607583, 267977.7137686066, 267603.6329847235, 267276.27553181327]\n",
      "[0.4287895034028563, 0.263459075676604, 0.20722734951901714, 0.18075927459888633, 0.16523093780966203, 0.15497438060738278, 0.14769657954319085, 0.14227989238190528, 0.13810851977292585, 0.1348127356268515, 0.13215603820159808, 0.12997961784097742, 0.12817267044075784, 0.12665545886369398, 0.12536912496367747, 0.12426928936571444, 0.12332188141039944, 0.12250033674769661, 0.12178366338185052, 0.12115507603472296, 0.12060101230168364, 0.1201104112622497, 0.11967417621253762]\n"
     ]
    },
    {
     "name": "stderr",
     "output_type": "stream",
     "text": [
      "\r",
      " 80%|████████  | 24/30 [4:23:09<1:06:32, 665.49s/it]"
     ]
    },
    {
     "name": "stdout",
     "output_type": "stream",
     "text": [
      "[1430603.5435018882, 750964.6266716269, 444291.3130135707, 361831.1897208446, 327372.11735735374, 308995.4587775118, 297800.1098603388, 290385.59432200453, 285184.5574546951, 281379.30183456006, 278503.9519000853, 276274.9677188406, 274510.6815135321, 273089.8030955978, 271928.57369761146, 270967.4999135267, 270163.3028004697, 269483.84655698907, 268904.8407116806, 268407.63574607583, 267977.7137686066, 267603.6329847235, 267276.27553181327, 266988.30242146994]\n",
      "[0.4287895034028563, 0.263459075676604, 0.20722734951901714, 0.18075927459888633, 0.16523093780966203, 0.15497438060738278, 0.14769657954319085, 0.14227989238190528, 0.13810851977292585, 0.1348127356268515, 0.13215603820159808, 0.12997961784097742, 0.12817267044075784, 0.12665545886369398, 0.12536912496367747, 0.12426928936571444, 0.12332188141039944, 0.12250033674769661, 0.12178366338185052, 0.12115507603472296, 0.12060101230168364, 0.1201104112622497, 0.11967417621253762, 0.11928476891913987]\n"
     ]
    },
    {
     "name": "stderr",
     "output_type": "stream",
     "text": [
      "\r",
      " 83%|████████▎ | 25/30 [4:33:57<55:02, 660.44s/it]  "
     ]
    },
    {
     "name": "stdout",
     "output_type": "stream",
     "text": [
      "[1430603.5435018882, 750964.6266716269, 444291.3130135707, 361831.1897208446, 327372.11735735374, 308995.4587775118, 297800.1098603388, 290385.59432200453, 285184.5574546951, 281379.30183456006, 278503.9519000853, 276274.9677188406, 274510.6815135321, 273089.8030955978, 271928.57369761146, 270967.4999135267, 270163.3028004697, 269483.84655698907, 268904.8407116806, 268407.63574607583, 267977.7137686066, 267603.6329847235, 267276.27553181327, 266988.30242146994, 266733.7525586916]\n",
      "[0.4287895034028563, 0.263459075676604, 0.20722734951901714, 0.18075927459888633, 0.16523093780966203, 0.15497438060738278, 0.14769657954319085, 0.14227989238190528, 0.13810851977292585, 0.1348127356268515, 0.13215603820159808, 0.12997961784097742, 0.12817267044075784, 0.12665545886369398, 0.12536912496367747, 0.12426928936571444, 0.12332188141039944, 0.12250033674769661, 0.12178366338185052, 0.12115507603472296, 0.12060101230168364, 0.1201104112622497, 0.11967417621253762, 0.11928476891913987, 0.11893589934949138]\n"
     ]
    },
    {
     "name": "stderr",
     "output_type": "stream",
     "text": [
      "\r",
      " 87%|████████▋ | 26/30 [4:45:07<44:12, 663.17s/it]"
     ]
    },
    {
     "name": "stdout",
     "output_type": "stream",
     "text": [
      "[1430603.5435018882, 750964.6266716269, 444291.3130135707, 361831.1897208446, 327372.11735735374, 308995.4587775118, 297800.1098603388, 290385.59432200453, 285184.5574546951, 281379.30183456006, 278503.9519000853, 276274.9677188406, 274510.6815135321, 273089.8030955978, 271928.57369761146, 270967.4999135267, 270163.3028004697, 269483.84655698907, 268904.8407116806, 268407.63574607583, 267977.7137686066, 267603.6329847235, 267276.27553181327, 266988.30242146994, 266733.7525586916, 266507.7437028977]\n",
      "[0.4287895034028563, 0.263459075676604, 0.20722734951901714, 0.18075927459888633, 0.16523093780966203, 0.15497438060738278, 0.14769657954319085, 0.14227989238190528, 0.13810851977292585, 0.1348127356268515, 0.13215603820159808, 0.12997961784097742, 0.12817267044075784, 0.12665545886369398, 0.12536912496367747, 0.12426928936571444, 0.12332188141039944, 0.12250033674769661, 0.12178366338185052, 0.12115507603472296, 0.12060101230168364, 0.1201104112622497, 0.11967417621253762, 0.11928476891913987, 0.11893589934949138, 0.11862228572513497]\n"
     ]
    },
    {
     "name": "stderr",
     "output_type": "stream",
     "text": [
      "\r",
      " 90%|█████████ | 27/30 [4:56:03<33:02, 660.93s/it]"
     ]
    },
    {
     "name": "stdout",
     "output_type": "stream",
     "text": [
      "[1430603.5435018882, 750964.6266716269, 444291.3130135707, 361831.1897208446, 327372.11735735374, 308995.4587775118, 297800.1098603388, 290385.59432200453, 285184.5574546951, 281379.30183456006, 278503.9519000853, 276274.9677188406, 274510.6815135321, 273089.8030955978, 271928.57369761146, 270967.4999135267, 270163.3028004697, 269483.84655698907, 268904.8407116806, 268407.63574607583, 267977.7137686066, 267603.6329847235, 267276.27553181327, 266988.30242146994, 266733.7525586916, 266507.7437028977, 266306.2466705807]\n",
      "[0.4287895034028563, 0.263459075676604, 0.20722734951901714, 0.18075927459888633, 0.16523093780966203, 0.15497438060738278, 0.14769657954319085, 0.14227989238190528, 0.13810851977292585, 0.1348127356268515, 0.13215603820159808, 0.12997961784097742, 0.12817267044075784, 0.12665545886369398, 0.12536912496367747, 0.12426928936571444, 0.12332188141039944, 0.12250033674769661, 0.12178366338185052, 0.12115507603472296, 0.12060101230168364, 0.1201104112622497, 0.11967417621253762, 0.11928476891913987, 0.11893589934949138, 0.11862228572513497, 0.11833946705423923]\n"
     ]
    },
    {
     "name": "stderr",
     "output_type": "stream",
     "text": [
      "\r",
      " 93%|█████████▎| 28/30 [5:07:51<22:30, 675.20s/it]"
     ]
    },
    {
     "name": "stdout",
     "output_type": "stream",
     "text": [
      "[1430603.5435018882, 750964.6266716269, 444291.3130135707, 361831.1897208446, 327372.11735735374, 308995.4587775118, 297800.1098603388, 290385.59432200453, 285184.5574546951, 281379.30183456006, 278503.9519000853, 276274.9677188406, 274510.6815135321, 273089.8030955978, 271928.57369761146, 270967.4999135267, 270163.3028004697, 269483.84655698907, 268904.8407116806, 268407.63574607583, 267977.7137686066, 267603.6329847235, 267276.27553181327, 266988.30242146994, 266733.7525586916, 266507.7437028977, 266306.2466705807, 266125.9129010787]\n",
      "[0.4287895034028563, 0.263459075676604, 0.20722734951901714, 0.18075927459888633, 0.16523093780966203, 0.15497438060738278, 0.14769657954319085, 0.14227989238190528, 0.13810851977292585, 0.1348127356268515, 0.13215603820159808, 0.12997961784097742, 0.12817267044075784, 0.12665545886369398, 0.12536912496367747, 0.12426928936571444, 0.12332188141039944, 0.12250033674769661, 0.12178366338185052, 0.12115507603472296, 0.12060101230168364, 0.1201104112622497, 0.11967417621253762, 0.11928476891913987, 0.11893589934949138, 0.11862228572513497, 0.11833946705423923, 0.11808365529610831]\n"
     ]
    },
    {
     "name": "stderr",
     "output_type": "stream",
     "text": [
      "\r",
      " 97%|█████████▋| 29/30 [5:19:19<11:18, 678.95s/it]"
     ]
    },
    {
     "name": "stdout",
     "output_type": "stream",
     "text": [
      "[1430603.5435018882, 750964.6266716269, 444291.3130135707, 361831.1897208446, 327372.11735735374, 308995.4587775118, 297800.1098603388, 290385.59432200453, 285184.5574546951, 281379.30183456006, 278503.9519000853, 276274.9677188406, 274510.6815135321, 273089.8030955978, 271928.57369761146, 270967.4999135267, 270163.3028004697, 269483.84655698907, 268904.8407116806, 268407.63574607583, 267977.7137686066, 267603.6329847235, 267276.27553181327, 266988.30242146994, 266733.7525586916, 266507.7437028977, 266306.2466705807, 266125.9129010787, 265963.94139938825]\n",
      "[0.4287895034028563, 0.263459075676604, 0.20722734951901714, 0.18075927459888633, 0.16523093780966203, 0.15497438060738278, 0.14769657954319085, 0.14227989238190528, 0.13810851977292585, 0.1348127356268515, 0.13215603820159808, 0.12997961784097742, 0.12817267044075784, 0.12665545886369398, 0.12536912496367747, 0.12426928936571444, 0.12332188141039944, 0.12250033674769661, 0.12178366338185052, 0.12115507603472296, 0.12060101230168364, 0.1201104112622497, 0.11967417621253762, 0.11928476891913987, 0.11893589934949138, 0.11862228572513497, 0.11833946705423923, 0.11808365529610831, 0.1178516177819606]\n"
     ]
    },
    {
     "name": "stderr",
     "output_type": "stream",
     "text": [
      "100%|██████████| 30/30 [5:32:02<00:00, 664.09s/it]"
     ]
    },
    {
     "name": "stdout",
     "output_type": "stream",
     "text": [
      "[1430603.5435018882, 750964.6266716269, 444291.3130135707, 361831.1897208446, 327372.11735735374, 308995.4587775118, 297800.1098603388, 290385.59432200453, 285184.5574546951, 281379.30183456006, 278503.9519000853, 276274.9677188406, 274510.6815135321, 273089.8030955978, 271928.57369761146, 270967.4999135267, 270163.3028004697, 269483.84655698907, 268904.8407116806, 268407.63574607583, 267977.7137686066, 267603.6329847235, 267276.27553181327, 266988.30242146994, 266733.7525586916, 266507.7437028977, 266306.2466705807, 266125.9129010787, 265963.94139938825, 265817.9750784928]\n",
      "[0.4287895034028563, 0.263459075676604, 0.20722734951901714, 0.18075927459888633, 0.16523093780966203, 0.15497438060738278, 0.14769657954319085, 0.14227989238190528, 0.13810851977292585, 0.1348127356268515, 0.13215603820159808, 0.12997961784097742, 0.12817267044075784, 0.12665545886369398, 0.12536912496367747, 0.12426928936571444, 0.12332188141039944, 0.12250033674769661, 0.12178366338185052, 0.12115507603472296, 0.12060101230168364, 0.1201104112622497, 0.11967417621253762, 0.11928476891913987, 0.11893589934949138, 0.11862228572513497, 0.11833946705423923, 0.11808365529610831, 0.1178516177819606, 0.1176405829647201]\n"
     ]
    },
    {
     "name": "stderr",
     "output_type": "stream",
     "text": [
      "\n"
     ]
    }
   ],
   "source": [
    "RMSE_3, LOSS_3, U_3, V_3 = test_3.train()"
   ]
  },
  {
   "cell_type": "code",
   "execution_count": 128,
   "metadata": {},
   "outputs": [
    {
     "name": "stderr",
     "output_type": "stream",
     "text": [
      "  5%|▍         | 10000/206209 [05:40<1:51:19, 29.37it/s]\n"
     ]
    }
   ],
   "source": [
    "MAP_3 = test_3.prediction_map(U_3, V_3)"
   ]
  },
  {
   "cell_type": "code",
   "execution_count": 129,
   "metadata": {},
   "outputs": [
    {
     "data": {
      "text/plain": [
       "0.0"
      ]
     },
     "execution_count": 129,
     "metadata": {},
     "output_type": "execute_result"
    }
   ],
   "source": [
    "MAP_3"
   ]
  },
  {
   "cell_type": "code",
   "execution_count": 89,
   "metadata": {},
   "outputs": [],
   "source": [
    "test = PMF_V2(user_product_prior_normalized, user_product_validation, N = 206209, M = 49677, K = 20, eta = 0.01,\n",
    "                 lbd = 0.001, epoch = 30)"
   ]
  },
  {
   "cell_type": "code",
   "execution_count": 27,
   "metadata": {},
   "outputs": [
    {
     "name": "stderr",
     "output_type": "stream",
     "text": [
      "  3%|▎         | 1/30 [09:42<4:41:36, 582.65s/it]"
     ]
    },
    {
     "name": "stdout",
     "output_type": "stream",
     "text": [
      "[1532103.8571076144]\n",
      "[0.5372149181885859]\n"
     ]
    },
    {
     "name": "stderr",
     "output_type": "stream",
     "text": [
      "\r",
      "  7%|▋         | 2/30 [19:50<4:35:27, 590.29s/it]"
     ]
    },
    {
     "name": "stdout",
     "output_type": "stream",
     "text": [
      "[1532103.8571076144, 1071920.32418644]\n",
      "[0.5372149181885859, 0.725383162290132]\n"
     ]
    },
    {
     "name": "stderr",
     "output_type": "stream",
     "text": [
      "\r",
      " 10%|█         | 3/30 [29:55<4:27:32, 594.55s/it]"
     ]
    },
    {
     "name": "stdout",
     "output_type": "stream",
     "text": [
      "[1532103.8571076144, 1071920.32418644, 525240.7985522097]\n",
      "[0.5372149181885859, 0.725383162290132, 0.8321750807647667]\n"
     ]
    },
    {
     "name": "stderr",
     "output_type": "stream",
     "text": [
      "\r",
      " 13%|█▎        | 4/30 [39:08<4:12:16, 582.18s/it]"
     ]
    },
    {
     "name": "stdout",
     "output_type": "stream",
     "text": [
      "[1532103.8571076144, 1071920.32418644, 525240.7985522097, 295568.06126957235]\n",
      "[0.5372149181885859, 0.725383162290132, 0.8321750807647667, 0.8822330818415941]\n"
     ]
    },
    {
     "name": "stderr",
     "output_type": "stream",
     "text": [
      "\r",
      " 17%|█▋        | 5/30 [48:24<3:59:15, 574.24s/it]"
     ]
    },
    {
     "name": "stdout",
     "output_type": "stream",
     "text": [
      "[1532103.8571076144, 1071920.32418644, 525240.7985522097, 295568.06126957235, 195943.41314890893]\n",
      "[0.5372149181885859, 0.725383162290132, 0.8321750807647667, 0.8822330818415941, 0.9093487449424377]\n"
     ]
    },
    {
     "name": "stderr",
     "output_type": "stream",
     "text": [
      "\r",
      " 20%|██        | 6/30 [57:42<3:47:47, 569.46s/it]"
     ]
    },
    {
     "name": "stdout",
     "output_type": "stream",
     "text": [
      "[1532103.8571076144, 1071920.32418644, 525240.7985522097, 295568.06126957235, 195943.41314890893, 145528.81671604517]\n",
      "[0.5372149181885859, 0.725383162290132, 0.8321750807647667, 0.8822330818415941, 0.9093487449424377, 0.9257812940023697]\n"
     ]
    },
    {
     "name": "stderr",
     "output_type": "stream",
     "text": [
      "\r",
      " 23%|██▎       | 7/30 [1:06:59<3:36:53, 565.78s/it]"
     ]
    },
    {
     "name": "stdout",
     "output_type": "stream",
     "text": [
      "[1532103.8571076144, 1071920.32418644, 525240.7985522097, 295568.06126957235, 195943.41314890893, 145528.81671604517, 116548.02694297004]\n",
      "[0.5372149181885859, 0.725383162290132, 0.8321750807647667, 0.8822330818415941, 0.9093487449424377, 0.9257812940023697, 0.9366195371944784]\n"
     ]
    },
    {
     "name": "stderr",
     "output_type": "stream",
     "text": [
      "\r",
      " 27%|██▋       | 8/30 [1:15:51<3:23:40, 555.48s/it]"
     ]
    },
    {
     "name": "stdout",
     "output_type": "stream",
     "text": [
      "[1532103.8571076144, 1071920.32418644, 525240.7985522097, 295568.06126957235, 195943.41314890893, 145528.81671604517, 116548.02694297004, 98242.82368781742]\n",
      "[0.5372149181885859, 0.725383162290132, 0.8321750807647667, 0.8822330818415941, 0.9093487449424377, 0.9257812940023697, 0.9366195371944784, 0.9442314837649713]\n"
     ]
    },
    {
     "name": "stderr",
     "output_type": "stream",
     "text": [
      "\r",
      " 30%|███       | 9/30 [1:24:41<3:11:49, 548.06s/it]"
     ]
    },
    {
     "name": "stdout",
     "output_type": "stream",
     "text": [
      "[1532103.8571076144, 1071920.32418644, 525240.7985522097, 295568.06126957235, 195943.41314890893, 145528.81671604517, 116548.02694297004, 98242.82368781742, 85857.71625910644]\n",
      "[0.5372149181885859, 0.725383162290132, 0.8321750807647667, 0.8822330818415941, 0.9093487449424377, 0.9257812940023697, 0.9366195371944784, 0.9442314837649713, 0.9498382468840235]\n"
     ]
    },
    {
     "name": "stderr",
     "output_type": "stream",
     "text": [
      "\r",
      " 33%|███▎      | 10/30 [1:32:51<2:56:48, 530.43s/it]"
     ]
    },
    {
     "name": "stdout",
     "output_type": "stream",
     "text": [
      "[1532103.8571076144, 1071920.32418644, 525240.7985522097, 295568.06126957235, 195943.41314890893, 145528.81671604517, 116548.02694297004, 98242.82368781742, 85857.71625910644, 77036.17318125207]\n",
      "[0.5372149181885859, 0.725383162290132, 0.8321750807647667, 0.8822330818415941, 0.9093487449424377, 0.9257812940023697, 0.9366195371944784, 0.9442314837649713, 0.9498382468840235, 0.9541236947006112]\n"
     ]
    },
    {
     "name": "stderr",
     "output_type": "stream",
     "text": [
      "\r",
      " 37%|███▋      | 11/30 [1:41:38<2:47:42, 529.62s/it]"
     ]
    },
    {
     "name": "stdout",
     "output_type": "stream",
     "text": [
      "[1532103.8571076144, 1071920.32418644, 525240.7985522097, 295568.06126957235, 195943.41314890893, 145528.81671604517, 116548.02694297004, 98242.82368781742, 85857.71625910644, 77036.17318125207, 70499.29965502248]\n",
      "[0.5372149181885859, 0.725383162290132, 0.8321750807647667, 0.8822330818415941, 0.9093487449424377, 0.9257812940023697, 0.9366195371944784, 0.9442314837649713, 0.9498382468840235, 0.9541236947006112, 0.9574966670851356]\n"
     ]
    },
    {
     "name": "stderr",
     "output_type": "stream",
     "text": [
      "\r",
      " 40%|████      | 12/30 [1:51:13<2:42:55, 543.08s/it]"
     ]
    },
    {
     "name": "stdout",
     "output_type": "stream",
     "text": [
      "[1532103.8571076144, 1071920.32418644, 525240.7985522097, 295568.06126957235, 195943.41314890893, 145528.81671604517, 116548.02694297004, 98242.82368781742, 85857.71625910644, 77036.17318125207, 70499.29965502248, 65501.46063035155]\n",
      "[0.5372149181885859, 0.725383162290132, 0.8321750807647667, 0.8822330818415941, 0.9093487449424377, 0.9257812940023697, 0.9366195371944784, 0.9442314837649713, 0.9498382468840235, 0.9541236947006112, 0.9574966670851356, 0.9602151852791679]\n"
     ]
    },
    {
     "name": "stderr",
     "output_type": "stream",
     "text": [
      "\r",
      " 43%|████▎     | 13/30 [2:00:08<2:33:12, 540.74s/it]"
     ]
    },
    {
     "name": "stdout",
     "output_type": "stream",
     "text": [
      "[1532103.8571076144, 1071920.32418644, 525240.7985522097, 295568.06126957235, 195943.41314890893, 145528.81671604517, 116548.02694297004, 98242.82368781742, 85857.71625910644, 77036.17318125207, 70499.29965502248, 65501.46063035155, 61582.32254557601]\n",
      "[0.5372149181885859, 0.725383162290132, 0.8321750807647667, 0.8822330818415941, 0.9093487449424377, 0.9257812940023697, 0.9366195371944784, 0.9442314837649713, 0.9498382468840235, 0.9541236947006112, 0.9574966670851356, 0.9602151852791679, 0.9624495492100626]\n"
     ]
    },
    {
     "name": "stderr",
     "output_type": "stream",
     "text": [
      "\r",
      " 47%|████▋     | 14/30 [2:09:10<2:24:18, 541.18s/it]"
     ]
    },
    {
     "name": "stdout",
     "output_type": "stream",
     "text": [
      "[1532103.8571076144, 1071920.32418644, 525240.7985522097, 295568.06126957235, 195943.41314890893, 145528.81671604517, 116548.02694297004, 98242.82368781742, 85857.71625910644, 77036.17318125207, 70499.29965502248, 65501.46063035155, 61582.32254557601, 58444.16748047488]\n",
      "[0.5372149181885859, 0.725383162290132, 0.8321750807647667, 0.8822330818415941, 0.9093487449424377, 0.9257812940023697, 0.9366195371944784, 0.9442314837649713, 0.9498382468840235, 0.9541236947006112, 0.9574966670851356, 0.9602151852791679, 0.9624495492100626, 0.9643163663465959]\n"
     ]
    },
    {
     "name": "stderr",
     "output_type": "stream",
     "text": [
      "\r",
      " 50%|█████     | 15/30 [2:18:13<2:15:24, 541.62s/it]"
     ]
    },
    {
     "name": "stdout",
     "output_type": "stream",
     "text": [
      "[1532103.8571076144, 1071920.32418644, 525240.7985522097, 295568.06126957235, 195943.41314890893, 145528.81671604517, 116548.02694297004, 98242.82368781742, 85857.71625910644, 77036.17318125207, 70499.29965502248, 65501.46063035155, 61582.32254557601, 58444.16748047488, 55886.91259843205]\n",
      "[0.5372149181885859, 0.725383162290132, 0.8321750807647667, 0.8822330818415941, 0.9093487449424377, 0.9257812940023697, 0.9366195371944784, 0.9442314837649713, 0.9498382468840235, 0.9541236947006112, 0.9574966670851356, 0.9602151852791679, 0.9624495492100626, 0.9643163663465959, 0.9658979616878618]\n"
     ]
    },
    {
     "name": "stderr",
     "output_type": "stream",
     "text": [
      "\r",
      " 53%|█████▎    | 16/30 [2:26:45<2:04:17, 532.64s/it]"
     ]
    },
    {
     "name": "stdout",
     "output_type": "stream",
     "text": [
      "[1532103.8571076144, 1071920.32418644, 525240.7985522097, 295568.06126957235, 195943.41314890893, 145528.81671604517, 116548.02694297004, 98242.82368781742, 85857.71625910644, 77036.17318125207, 70499.29965502248, 65501.46063035155, 61582.32254557601, 58444.16748047488, 55886.91259843205, 53771.69162035214]\n",
      "[0.5372149181885859, 0.725383162290132, 0.8321750807647667, 0.8822330818415941, 0.9093487449424377, 0.9257812940023697, 0.9366195371944784, 0.9442314837649713, 0.9498382468840235, 0.9541236947006112, 0.9574966670851356, 0.9602151852791679, 0.9624495492100626, 0.9643163663465959, 0.9658979616878618, 0.9672539974023696]\n"
     ]
    },
    {
     "name": "stderr",
     "output_type": "stream",
     "text": [
      "\r",
      " 57%|█████▋    | 17/30 [2:35:24<1:54:29, 528.46s/it]"
     ]
    },
    {
     "name": "stdout",
     "output_type": "stream",
     "text": [
      "[1532103.8571076144, 1071920.32418644, 525240.7985522097, 295568.06126957235, 195943.41314890893, 145528.81671604517, 116548.02694297004, 98242.82368781742, 85857.71625910644, 77036.17318125207, 70499.29965502248, 65501.46063035155, 61582.32254557601, 58444.16748047488, 55886.91259843205, 53771.69162035214, 51999.45165766609]\n",
      "[0.5372149181885859, 0.725383162290132, 0.8321750807647667, 0.8822330818415941, 0.9093487449424377, 0.9257812940023697, 0.9366195371944784, 0.9442314837649713, 0.9498382468840235, 0.9541236947006112, 0.9574966670851356, 0.9602151852791679, 0.9624495492100626, 0.9643163663465959, 0.9658979616878618, 0.9672539974023696, 0.9684287077393944]\n"
     ]
    },
    {
     "name": "stderr",
     "output_type": "stream",
     "text": [
      "\r",
      " 60%|██████    | 18/30 [2:44:20<1:46:11, 530.94s/it]"
     ]
    },
    {
     "name": "stdout",
     "output_type": "stream",
     "text": [
      "[1532103.8571076144, 1071920.32418644, 525240.7985522097, 295568.06126957235, 195943.41314890893, 145528.81671604517, 116548.02694297004, 98242.82368781742, 85857.71625910644, 77036.17318125207, 70499.29965502248, 65501.46063035155, 61582.32254557601, 58444.16748047488, 55886.91259843205, 53771.69162035214, 51999.45165766609, 50497.85646113928]\n",
      "[0.5372149181885859, 0.725383162290132, 0.8321750807647667, 0.8822330818415941, 0.9093487449424377, 0.9257812940023697, 0.9366195371944784, 0.9442314837649713, 0.9498382468840235, 0.9541236947006112, 0.9574966670851356, 0.9602151852791679, 0.9624495492100626, 0.9643163663465959, 0.9658979616878618, 0.9672539974023696, 0.9684287077393944, 0.9694555514670269]\n"
     ]
    },
    {
     "name": "stderr",
     "output_type": "stream",
     "text": [
      "\r",
      " 63%|██████▎   | 19/30 [2:53:22<1:37:57, 534.30s/it]"
     ]
    },
    {
     "name": "stdout",
     "output_type": "stream",
     "text": [
      "[1532103.8571076144, 1071920.32418644, 525240.7985522097, 295568.06126957235, 195943.41314890893, 145528.81671604517, 116548.02694297004, 98242.82368781742, 85857.71625910644, 77036.17318125207, 70499.29965502248, 65501.46063035155, 61582.32254557601, 58444.16748047488, 55886.91259843205, 53771.69162035214, 51999.45165766609, 50497.85646113928, 49212.98939197817]\n",
      "[0.5372149181885859, 0.725383162290132, 0.8321750807647667, 0.8822330818415941, 0.9093487449424377, 0.9257812940023697, 0.9366195371944784, 0.9442314837649713, 0.9498382468840235, 0.9541236947006112, 0.9574966670851356, 0.9602151852791679, 0.9624495492100626, 0.9643163663465959, 0.9658979616878618, 0.9672539974023696, 0.9684287077393944, 0.9694555514670269, 0.9703602874717342]\n"
     ]
    },
    {
     "name": "stderr",
     "output_type": "stream",
     "text": [
      "\r",
      " 67%|██████▋   | 20/30 [3:02:01<1:28:16, 529.67s/it]"
     ]
    },
    {
     "name": "stdout",
     "output_type": "stream",
     "text": [
      "[1532103.8571076144, 1071920.32418644, 525240.7985522097, 295568.06126957235, 195943.41314890893, 145528.81671604517, 116548.02694297004, 98242.82368781742, 85857.71625910644, 77036.17318125207, 70499.29965502248, 65501.46063035155, 61582.32254557601, 58444.16748047488, 55886.91259843205, 53771.69162035214, 51999.45165766609, 50497.85646113928, 49212.98939197817, 48103.93626278575]\n",
      "[0.5372149181885859, 0.725383162290132, 0.8321750807647667, 0.8822330818415941, 0.9093487449424377, 0.9257812940023697, 0.9366195371944784, 0.9442314837649713, 0.9498382468840235, 0.9541236947006112, 0.9574966670851356, 0.9602151852791679, 0.9624495492100626, 0.9643163663465959, 0.9658979616878618, 0.9672539974023696, 0.9684287077393944, 0.9694555514670269, 0.9703602874717342, 0.971163058703735]\n"
     ]
    },
    {
     "name": "stderr",
     "output_type": "stream",
     "text": [
      "\r",
      " 70%|███████   | 21/30 [3:10:32<1:18:36, 524.05s/it]"
     ]
    },
    {
     "name": "stdout",
     "output_type": "stream",
     "text": [
      "[1532103.8571076144, 1071920.32418644, 525240.7985522097, 295568.06126957235, 195943.41314890893, 145528.81671604517, 116548.02694297004, 98242.82368781742, 85857.71625910644, 77036.17318125207, 70499.29965502248, 65501.46063035155, 61582.32254557601, 58444.16748047488, 55886.91259843205, 53771.69162035214, 51999.45165766609, 50497.85646113928, 49212.98939197817, 48103.93626278575, 47139.15381651446]\n",
      "[0.5372149181885859, 0.725383162290132, 0.8321750807647667, 0.8822330818415941, 0.9093487449424377, 0.9257812940023697, 0.9366195371944784, 0.9442314837649713, 0.9498382468840235, 0.9541236947006112, 0.9574966670851356, 0.9602151852791679, 0.9624495492100626, 0.9643163663465959, 0.9658979616878618, 0.9672539974023696, 0.9684287077393944, 0.9694555514670269, 0.9703602874717342, 0.971163058703735, 0.9718798362589065]\n"
     ]
    },
    {
     "name": "stderr",
     "output_type": "stream",
     "text": [
      "\r",
      " 73%|███████▎  | 22/30 [3:18:53<1:08:57, 517.20s/it]"
     ]
    },
    {
     "name": "stdout",
     "output_type": "stream",
     "text": [
      "[1532103.8571076144, 1071920.32418644, 525240.7985522097, 295568.06126957235, 195943.41314890893, 145528.81671604517, 116548.02694297004, 98242.82368781742, 85857.71625910644, 77036.17318125207, 70499.29965502248, 65501.46063035155, 61582.32254557601, 58444.16748047488, 55886.91259843205, 53771.69162035214, 51999.45165766609, 50497.85646113928, 49212.98939197817, 48103.93626278575, 47139.15381651446, 46293.97782553566]\n",
      "[0.5372149181885859, 0.725383162290132, 0.8321750807647667, 0.8822330818415941, 0.9093487449424377, 0.9257812940023697, 0.9366195371944784, 0.9442314837649713, 0.9498382468840235, 0.9541236947006112, 0.9574966670851356, 0.9602151852791679, 0.9624495492100626, 0.9643163663465959, 0.9658979616878618, 0.9672539974023696, 0.9684287077393944, 0.9694555514670269, 0.9703602874717342, 0.971163058703735, 0.9718798362589065, 0.9725234408032598]\n"
     ]
    },
    {
     "name": "stderr",
     "output_type": "stream",
     "text": [
      "\r",
      " 77%|███████▋  | 23/30 [3:27:06<59:29, 509.87s/it]  "
     ]
    },
    {
     "name": "stdout",
     "output_type": "stream",
     "text": [
      "[1532103.8571076144, 1071920.32418644, 525240.7985522097, 295568.06126957235, 195943.41314890893, 145528.81671604517, 116548.02694297004, 98242.82368781742, 85857.71625910644, 77036.17318125207, 70499.29965502248, 65501.46063035155, 61582.32254557601, 58444.16748047488, 55886.91259843205, 53771.69162035214, 51999.45165766609, 50497.85646113928, 49212.98939197817, 48103.93626278575, 47139.15381651446, 46293.97782553566, 45548.87738057922]\n",
      "[0.5372149181885859, 0.725383162290132, 0.8321750807647667, 0.8822330818415941, 0.9093487449424377, 0.9257812940023697, 0.9366195371944784, 0.9442314837649713, 0.9498382468840235, 0.9541236947006112, 0.9574966670851356, 0.9602151852791679, 0.9624495492100626, 0.9643163663465959, 0.9658979616878618, 0.9672539974023696, 0.9684287077393944, 0.9694555514670269, 0.9703602874717342, 0.971163058703735, 0.9718798362589065, 0.9725234408032598, 0.9731042786580981]\n"
     ]
    },
    {
     "name": "stderr",
     "output_type": "stream",
     "text": [
      "\r",
      " 80%|████████  | 24/30 [3:35:25<50:40, 506.67s/it]"
     ]
    },
    {
     "name": "stdout",
     "output_type": "stream",
     "text": [
      "[1532103.8571076144, 1071920.32418644, 525240.7985522097, 295568.06126957235, 195943.41314890893, 145528.81671604517, 116548.02694297004, 98242.82368781742, 85857.71625910644, 77036.17318125207, 70499.29965502248, 65501.46063035155, 61582.32254557601, 58444.16748047488, 55886.91259843205, 53771.69162035214, 51999.45165766609, 50497.85646113928, 49212.98939197817, 48103.93626278575, 47139.15381651446, 46293.97782553566, 45548.87738057922, 44888.2090624271]\n",
      "[0.5372149181885859, 0.725383162290132, 0.8321750807647667, 0.8822330818415941, 0.9093487449424377, 0.9257812940023697, 0.9366195371944784, 0.9442314837649713, 0.9498382468840235, 0.9541236947006112, 0.9574966670851356, 0.9602151852791679, 0.9624495492100626, 0.9643163663465959, 0.9658979616878618, 0.9672539974023696, 0.9684287077393944, 0.9694555514670269, 0.9703602874717342, 0.971163058703735, 0.9718798362589065, 0.9725234408032598, 0.9731042786580981, 0.973630881309679]\n"
     ]
    },
    {
     "name": "stderr",
     "output_type": "stream",
     "text": [
      "\r",
      " 83%|████████▎ | 25/30 [3:44:00<42:24, 508.95s/it]"
     ]
    },
    {
     "name": "stdout",
     "output_type": "stream",
     "text": [
      "[1532103.8571076144, 1071920.32418644, 525240.7985522097, 295568.06126957235, 195943.41314890893, 145528.81671604517, 116548.02694297004, 98242.82368781742, 85857.71625910644, 77036.17318125207, 70499.29965502248, 65501.46063035155, 61582.32254557601, 58444.16748047488, 55886.91259843205, 53771.69162035214, 51999.45165766609, 50497.85646113928, 49212.98939197817, 48103.93626278575, 47139.15381651446, 46293.97782553566, 45548.87738057922, 44888.2090624271, 44299.31294022978]\n",
      "[0.5372149181885859, 0.725383162290132, 0.8321750807647667, 0.8822330818415941, 0.9093487449424377, 0.9257812940023697, 0.9366195371944784, 0.9442314837649713, 0.9498382468840235, 0.9541236947006112, 0.9574966670851356, 0.9602151852791679, 0.9624495492100626, 0.9643163663465959, 0.9658979616878618, 0.9672539974023696, 0.9684287077393944, 0.9694555514670269, 0.9703602874717342, 0.971163058703735, 0.9718798362589065, 0.9725234408032598, 0.9731042786580981, 0.973630881309679, 0.9741103069470315]\n"
     ]
    },
    {
     "name": "stderr",
     "output_type": "stream",
     "text": [
      "\r",
      " 87%|████████▋ | 26/30 [3:52:38<34:07, 511.88s/it]"
     ]
    },
    {
     "name": "stdout",
     "output_type": "stream",
     "text": [
      "[1532103.8571076144, 1071920.32418644, 525240.7985522097, 295568.06126957235, 195943.41314890893, 145528.81671604517, 116548.02694297004, 98242.82368781742, 85857.71625910644, 77036.17318125207, 70499.29965502248, 65501.46063035155, 61582.32254557601, 58444.16748047488, 55886.91259843205, 53771.69162035214, 51999.45165766609, 50497.85646113928, 49212.98939197817, 48103.93626278575, 47139.15381651446, 46293.97782553566, 45548.87738057922, 44888.2090624271, 44299.31294022978, 43771.84668847877]\n",
      "[0.5372149181885859, 0.725383162290132, 0.8321750807647667, 0.8822330818415941, 0.9093487449424377, 0.9257812940023697, 0.9366195371944784, 0.9442314837649713, 0.9498382468840235, 0.9541236947006112, 0.9574966670851356, 0.9602151852791679, 0.9624495492100626, 0.9643163663465959, 0.9658979616878618, 0.9672539974023696, 0.9684287077393944, 0.9694555514670269, 0.9703602874717342, 0.971163058703735, 0.9718798362589065, 0.9725234408032598, 0.9731042786580981, 0.973630881309679, 0.9741103069470315, 0.9745484434979562]\n"
     ]
    },
    {
     "name": "stderr",
     "output_type": "stream",
     "text": [
      "\r",
      " 90%|█████████ | 27/30 [4:00:42<25:10, 503.35s/it]"
     ]
    },
    {
     "name": "stdout",
     "output_type": "stream",
     "text": [
      "[1532103.8571076144, 1071920.32418644, 525240.7985522097, 295568.06126957235, 195943.41314890893, 145528.81671604517, 116548.02694297004, 98242.82368781742, 85857.71625910644, 77036.17318125207, 70499.29965502248, 65501.46063035155, 61582.32254557601, 58444.16748047488, 55886.91259843205, 53771.69162035214, 51999.45165766609, 50497.85646113928, 49212.98939197817, 48103.93626278575, 47139.15381651446, 46293.97782553566, 45548.87738057922, 44888.2090624271, 44299.31294022978, 43771.84668847877, 43297.28838827883]\n",
      "[0.5372149181885859, 0.725383162290132, 0.8321750807647667, 0.8822330818415941, 0.9093487449424377, 0.9257812940023697, 0.9366195371944784, 0.9442314837649713, 0.9498382468840235, 0.9541236947006112, 0.9574966670851356, 0.9602151852791679, 0.9624495492100626, 0.9643163663465959, 0.9658979616878618, 0.9672539974023696, 0.9684287077393944, 0.9694555514670269, 0.9703602874717342, 0.971163058703735, 0.9718798362589065, 0.9725234408032598, 0.9731042786580981, 0.973630881309679, 0.9741103069470315, 0.9745484434979562, 0.974950240242044]\n"
     ]
    },
    {
     "name": "stderr",
     "output_type": "stream",
     "text": [
      "\r",
      " 93%|█████████▎| 28/30 [4:08:33<16:27, 493.64s/it]"
     ]
    },
    {
     "name": "stdout",
     "output_type": "stream",
     "text": [
      "[1532103.8571076144, 1071920.32418644, 525240.7985522097, 295568.06126957235, 195943.41314890893, 145528.81671604517, 116548.02694297004, 98242.82368781742, 85857.71625910644, 77036.17318125207, 70499.29965502248, 65501.46063035155, 61582.32254557601, 58444.16748047488, 55886.91259843205, 53771.69162035214, 51999.45165766609, 50497.85646113928, 49212.98939197817, 48103.93626278575, 47139.15381651446, 46293.97782553566, 45548.87738057922, 44888.2090624271, 44299.31294022978, 43771.84668847877, 43297.28838827883, 42868.5606606388]\n",
      "[0.5372149181885859, 0.725383162290132, 0.8321750807647667, 0.8822330818415941, 0.9093487449424377, 0.9257812940023697, 0.9366195371944784, 0.9442314837649713, 0.9498382468840235, 0.9541236947006112, 0.9574966670851356, 0.9602151852791679, 0.9624495492100626, 0.9643163663465959, 0.9658979616878618, 0.9672539974023696, 0.9684287077393944, 0.9694555514670269, 0.9703602874717342, 0.971163058703735, 0.9718798362589065, 0.9725234408032598, 0.9731042786580981, 0.973630881309679, 0.9741103069470315, 0.9745484434979562, 0.974950240242044, 0.9753198868920757]\n"
     ]
    },
    {
     "name": "stderr",
     "output_type": "stream",
     "text": [
      "\r",
      " 97%|█████████▋| 29/30 [4:16:52<08:15, 495.17s/it]"
     ]
    },
    {
     "name": "stdout",
     "output_type": "stream",
     "text": [
      "[1532103.8571076144, 1071920.32418644, 525240.7985522097, 295568.06126957235, 195943.41314890893, 145528.81671604517, 116548.02694297004, 98242.82368781742, 85857.71625910644, 77036.17318125207, 70499.29965502248, 65501.46063035155, 61582.32254557601, 58444.16748047488, 55886.91259843205, 53771.69162035214, 51999.45165766609, 50497.85646113928, 49212.98939197817, 48103.93626278575, 47139.15381651446, 46293.97782553566, 45548.87738057922, 44888.2090624271, 44299.31294022978, 43771.84668847877, 43297.28838827883, 42868.5606606388, 42479.74328836421]\n",
      "[0.5372149181885859, 0.725383162290132, 0.8321750807647667, 0.8822330818415941, 0.9093487449424377, 0.9257812940023697, 0.9366195371944784, 0.9442314837649713, 0.9498382468840235, 0.9541236947006112, 0.9574966670851356, 0.9602151852791679, 0.9624495492100626, 0.9643163663465959, 0.9658979616878618, 0.9672539974023696, 0.9684287077393944, 0.9694555514670269, 0.9703602874717342, 0.971163058703735, 0.9718798362589065, 0.9725234408032598, 0.9731042786580981, 0.973630881309679, 0.9741103069470315, 0.9745484434979562, 0.974950240242044, 0.9753198868920757, 0.9756609535264419]\n"
     ]
    },
    {
     "name": "stderr",
     "output_type": "stream",
     "text": [
      "100%|██████████| 30/30 [4:24:47<00:00, 529.59s/it]"
     ]
    },
    {
     "name": "stdout",
     "output_type": "stream",
     "text": [
      "[1532103.8571076144, 1071920.32418644, 525240.7985522097, 295568.06126957235, 195943.41314890893, 145528.81671604517, 116548.02694297004, 98242.82368781742, 85857.71625910644, 77036.17318125207, 70499.29965502248, 65501.46063035155, 61582.32254557601, 58444.16748047488, 55886.91259843205, 53771.69162035214, 51999.45165766609, 50497.85646113928, 49212.98939197817, 48103.93626278575, 47139.15381651446, 46293.97782553566, 45548.87738057922, 44888.2090624271, 44299.31294022978, 43771.84668847877, 43297.28838827883, 42868.5606606388, 42479.74328836421, 42125.85118614765]\n",
      "[0.5372149181885859, 0.725383162290132, 0.8321750807647667, 0.8822330818415941, 0.9093487449424377, 0.9257812940023697, 0.9366195371944784, 0.9442314837649713, 0.9498382468840235, 0.9541236947006112, 0.9574966670851356, 0.9602151852791679, 0.9624495492100626, 0.9643163663465959, 0.9658979616878618, 0.9672539974023696, 0.9684287077393944, 0.9694555514670269, 0.9703602874717342, 0.971163058703735, 0.9718798362589065, 0.9725234408032598, 0.9731042786580981, 0.973630881309679, 0.9741103069470315, 0.9745484434979562, 0.974950240242044, 0.9753198868920757, 0.9756609535264419, 0.9759765009797027]\n"
     ]
    },
    {
     "name": "stderr",
     "output_type": "stream",
     "text": [
      "\n"
     ]
    }
   ],
   "source": [
    "RMSE, LOSS, U, V = test.train()"
   ]
  },
  {
   "cell_type": "code",
   "execution_count": 105,
   "metadata": {},
   "outputs": [
    {
     "data": {
      "text/plain": [
       "(array([46989, 45390, 47675, 49474, 44973, 48521, 47568, 48992, 48718,\n",
       "        40130]),\n",
       "      user_id  product_id  quantity\n",
       " 568       88      7542.0         1\n",
       " 569       88      1010.0         1\n",
       " 570       88      2780.0         1\n",
       " 571       88      1697.0         1\n",
       " 572       88        57.0         1\n",
       " 573       88      2757.0         1\n",
       " 574       88      1014.0         1\n",
       " 575       88        12.0         1\n",
       " 576       88      5612.0         1\n",
       " 577       88      1021.0         1\n",
       " 578       88      2373.0         1\n",
       " 579       88       443.0         1\n",
       " 580       88       388.0         1\n",
       " 581       88      3276.0         1)"
      ]
     },
     "execution_count": 105,
     "metadata": {},
     "output_type": "execute_result"
    }
   ],
   "source": [
    "u_scores = np.matmul(U[88], V.T)\n",
    "sorted_idx = np.argsort(u_scores)[-1:-11:-1]\n",
    "sorted_idx, user_product_validation.query('user_id==88')"
   ]
  },
  {
   "cell_type": "code",
   "execution_count": 90,
   "metadata": {},
   "outputs": [
    {
     "name": "stderr",
     "output_type": "stream",
     "text": [
      "  5%|▍         | 10000/206209 [02:28<48:38, 67.23it/s]\n"
     ]
    }
   ],
   "source": [
    "MAP = test.prediction_map(U, V)"
   ]
  },
  {
   "cell_type": "code",
   "execution_count": 91,
   "metadata": {},
   "outputs": [
    {
     "data": {
      "text/plain": [
       "1.666500016665e-05"
      ]
     },
     "execution_count": 91,
     "metadata": {},
     "output_type": "execute_result"
    }
   ],
   "source": [
    "MAP"
   ]
  },
  {
   "cell_type": "code",
   "execution_count": 49,
   "metadata": {},
   "outputs": [
    {
     "data": {
      "text/html": [
       "<div>\n",
       "<style scoped>\n",
       "    .dataframe tbody tr th:only-of-type {\n",
       "        vertical-align: middle;\n",
       "    }\n",
       "\n",
       "    .dataframe tbody tr th {\n",
       "        vertical-align: top;\n",
       "    }\n",
       "\n",
       "    .dataframe thead th {\n",
       "        text-align: right;\n",
       "    }\n",
       "</style>\n",
       "<table border=\"1\" class=\"dataframe\">\n",
       "  <thead>\n",
       "    <tr style=\"text-align: right;\">\n",
       "      <th></th>\n",
       "      <th>user_id</th>\n",
       "      <th>product_id</th>\n",
       "      <th>quantity</th>\n",
       "    </tr>\n",
       "  </thead>\n",
       "  <tbody>\n",
       "    <tr>\n",
       "      <th>4338</th>\n",
       "      <td>666</td>\n",
       "      <td>48521.0</td>\n",
       "      <td>1</td>\n",
       "    </tr>\n",
       "    <tr>\n",
       "      <th>385204</th>\n",
       "      <td>57629</td>\n",
       "      <td>48521.0</td>\n",
       "      <td>1</td>\n",
       "    </tr>\n",
       "    <tr>\n",
       "      <th>1181347</th>\n",
       "      <td>175766</td>\n",
       "      <td>48521.0</td>\n",
       "      <td>1</td>\n",
       "    </tr>\n",
       "  </tbody>\n",
       "</table>\n",
       "</div>"
      ],
      "text/plain": [
       "         user_id  product_id  quantity\n",
       "4338         666     48521.0         1\n",
       "385204     57629     48521.0         1\n",
       "1181347   175766     48521.0         1"
      ]
     },
     "execution_count": 49,
     "metadata": {},
     "output_type": "execute_result"
    }
   ],
   "source": [
    "user_product_validation.query('product_id==48521')"
   ]
  },
  {
   "cell_type": "code",
   "execution_count": 106,
   "metadata": {},
   "outputs": [],
   "source": [
    "# Figure(LOSS, RMSE)"
   ]
  },
  {
   "cell_type": "code",
   "execution_count": 97,
   "metadata": {},
   "outputs": [],
   "source": [
    "test_2 = PMF_V2(user_product_prior_normalized, user_product_validation, N = 206209, M = 49677, K = 20, eta = 0.01,\n",
    "                 lbd = 0.0001, epoch = 30)"
   ]
  },
  {
   "cell_type": "code",
   "execution_count": 98,
   "metadata": {},
   "outputs": [
    {
     "name": "stderr",
     "output_type": "stream",
     "text": [
      "  3%|▎         | 1/30 [07:12<3:29:04, 432.55s/it]"
     ]
    },
    {
     "name": "stdout",
     "output_type": "stream",
     "text": [
      "[1519000.0954705428]\n",
      "[0.47350095406356596]\n"
     ]
    },
    {
     "name": "stderr",
     "output_type": "stream",
     "text": [
      "\r",
      "  7%|▋         | 2/30 [14:41<3:24:09, 437.47s/it]"
     ]
    },
    {
     "name": "stdout",
     "output_type": "stream",
     "text": [
      "[1519000.0954705428, 1035866.9004116928]\n",
      "[0.47350095406356596, 0.33564451450207944]\n"
     ]
    },
    {
     "name": "stderr",
     "output_type": "stream",
     "text": [
      "\r",
      " 10%|█         | 3/30 [22:10<3:18:27, 441.01s/it]"
     ]
    },
    {
     "name": "stdout",
     "output_type": "stream",
     "text": [
      "[1519000.0954705428, 1035866.9004116928, 492111.3241295105]\n",
      "[0.47350095406356596, 0.33564451450207944, 0.23913687840971082]\n"
     ]
    },
    {
     "name": "stderr",
     "output_type": "stream",
     "text": [
      "\r",
      " 13%|█▎        | 4/30 [29:36<3:11:39, 442.31s/it]"
     ]
    },
    {
     "name": "stdout",
     "output_type": "stream",
     "text": [
      "[1519000.0954705428, 1035866.9004116928, 492111.3241295105, 267149.6965281468]\n",
      "[0.47350095406356596, 0.33564451450207944, 0.23913687840971082, 0.1837295170015315]\n"
     ]
    },
    {
     "name": "stderr",
     "output_type": "stream",
     "text": [
      "\r",
      " 17%|█▋        | 5/30 [37:12<3:06:01, 446.45s/it]"
     ]
    },
    {
     "name": "stdout",
     "output_type": "stream",
     "text": [
      "[1519000.0954705428, 1035866.9004116928, 492111.3241295105, 267149.6965281468, 168916.67563047312]\n",
      "[0.47350095406356596, 0.33564451450207944, 0.23913687840971082, 0.1837295170015315, 0.14959249445590747]\n"
     ]
    },
    {
     "name": "stderr",
     "output_type": "stream",
     "text": [
      "\r",
      " 20%|██        | 6/30 [44:42<2:59:02, 447.59s/it]"
     ]
    },
    {
     "name": "stdout",
     "output_type": "stream",
     "text": [
      "[1519000.0954705428, 1035866.9004116928, 492111.3241295105, 267149.6965281468, 168916.67563047312, 118839.64393724296]\n",
      "[0.47350095406356596, 0.33564451450207944, 0.23913687840971082, 0.1837295170015315, 0.14959249445590747, 0.12684420517497733]\n"
     ]
    },
    {
     "name": "stderr",
     "output_type": "stream",
     "text": [
      "\r",
      " 23%|██▎       | 7/30 [52:36<2:54:34, 455.40s/it]"
     ]
    },
    {
     "name": "stdout",
     "output_type": "stream",
     "text": [
      "[1519000.0954705428, 1035866.9004116928, 492111.3241295105, 267149.6965281468, 168916.67563047312, 118839.64393724296, 89900.03783037848]\n",
      "[0.47350095406356596, 0.33564451450207944, 0.23913687840971082, 0.1837295170015315, 0.14959249445590747, 0.12684420517497733, 0.11066452403718419]\n"
     ]
    },
    {
     "name": "stderr",
     "output_type": "stream",
     "text": [
      "\r",
      " 27%|██▋       | 8/30 [1:00:23<2:48:21, 459.15s/it]"
     ]
    },
    {
     "name": "stdout",
     "output_type": "stream",
     "text": [
      "[1519000.0954705428, 1035866.9004116928, 492111.3241295105, 267149.6965281468, 168916.67563047312, 118839.64393724296, 89900.03783037848, 71555.5381737641]\n",
      "[0.47350095406356596, 0.33564451450207944, 0.23913687840971082, 0.1837295170015315, 0.14959249445590747, 0.12684420517497733, 0.11066452403718419, 0.098574323284307]\n"
     ]
    },
    {
     "name": "stderr",
     "output_type": "stream",
     "text": [
      "\r",
      " 30%|███       | 9/30 [1:07:27<2:36:57, 448.47s/it]"
     ]
    },
    {
     "name": "stdout",
     "output_type": "stream",
     "text": [
      "[1519000.0954705428, 1035866.9004116928, 492111.3241295105, 267149.6965281468, 168916.67563047312, 118839.64393724296, 89900.03783037848, 71555.5381737641, 59113.00080705158]\n",
      "[0.47350095406356596, 0.33564451450207944, 0.23913687840971082, 0.1837295170015315, 0.14959249445590747, 0.12684420517497733, 0.11066452403718419, 0.098574323284307, 0.08919761347945304]\n"
     ]
    },
    {
     "name": "stderr",
     "output_type": "stream",
     "text": [
      "\r",
      " 33%|███▎      | 10/30 [1:14:46<2:28:33, 445.66s/it]"
     ]
    },
    {
     "name": "stdout",
     "output_type": "stream",
     "text": [
      "[1519000.0954705428, 1035866.9004116928, 492111.3241295105, 267149.6965281468, 168916.67563047312, 118839.64393724296, 89900.03783037848, 71555.5381737641, 59113.00080705158, 50234.02330148284]\n",
      "[0.47350095406356596, 0.33564451450207944, 0.23913687840971082, 0.1837295170015315, 0.14959249445590747, 0.12684420517497733, 0.11066452403718419, 0.098574323284307, 0.08919761347945304, 0.08171444288978637]\n"
     ]
    },
    {
     "name": "stderr",
     "output_type": "stream",
     "text": [
      "\r",
      " 37%|███▋      | 11/30 [1:22:24<2:22:18, 449.37s/it]"
     ]
    },
    {
     "name": "stdout",
     "output_type": "stream",
     "text": [
      "[1519000.0954705428, 1035866.9004116928, 492111.3241295105, 267149.6965281468, 168916.67563047312, 118839.64393724296, 89900.03783037848, 71555.5381737641, 59113.00080705158, 50234.02330148284, 43644.261007745714]\n",
      "[0.47350095406356596, 0.33564451450207944, 0.23913687840971082, 0.1837295170015315, 0.14959249445590747, 0.12684420517497733, 0.11066452403718419, 0.098574323284307, 0.08919761347945304, 0.08171444288978637, 0.07560753952928366]\n"
     ]
    },
    {
     "name": "stderr",
     "output_type": "stream",
     "text": [
      "\r",
      " 40%|████      | 12/30 [1:29:44<2:13:59, 446.64s/it]"
     ]
    },
    {
     "name": "stdout",
     "output_type": "stream",
     "text": [
      "[1519000.0954705428, 1035866.9004116928, 492111.3241295105, 267149.6965281468, 168916.67563047312, 118839.64393724296, 89900.03783037848, 71555.5381737641, 59113.00080705158, 50234.02330148284, 43644.261007745714, 38598.40934920788]\n",
      "[0.47350095406356596, 0.33564451450207944, 0.23913687840971082, 0.1837295170015315, 0.14959249445590747, 0.12684420517497733, 0.11066452403718419, 0.098574323284307, 0.08919761347945304, 0.08171444288978637, 0.07560753952928366, 0.07053551688762737]\n"
     ]
    },
    {
     "name": "stderr",
     "output_type": "stream",
     "text": [
      "\r",
      " 43%|████▎     | 13/30 [1:37:30<2:08:09, 452.30s/it]"
     ]
    },
    {
     "name": "stdout",
     "output_type": "stream",
     "text": [
      "[1519000.0954705428, 1035866.9004116928, 492111.3241295105, 267149.6965281468, 168916.67563047312, 118839.64393724296, 89900.03783037848, 71555.5381737641, 59113.00080705158, 50234.02330148284, 43644.261007745714, 38598.40934920788, 34635.25872150412]\n",
      "[0.47350095406356596, 0.33564451450207944, 0.23913687840971082, 0.1837295170015315, 0.14959249445590747, 0.12684420517497733, 0.11066452403718419, 0.098574323284307, 0.08919761347945304, 0.08171444288978637, 0.07560753952928366, 0.07053551688762737, 0.066264578213349]\n"
     ]
    },
    {
     "name": "stderr",
     "output_type": "stream",
     "text": [
      "\r",
      " 47%|████▋     | 14/30 [1:44:54<1:59:55, 449.69s/it]"
     ]
    },
    {
     "name": "stdout",
     "output_type": "stream",
     "text": [
      "[1519000.0954705428, 1035866.9004116928, 492111.3241295105, 267149.6965281468, 168916.67563047312, 118839.64393724296, 89900.03783037848, 71555.5381737641, 59113.00080705158, 50234.02330148284, 43644.261007745714, 38598.40934920788, 34635.25872150412, 31456.042349444637]\n",
      "[0.47350095406356596, 0.33564451450207944, 0.23913687840971082, 0.1837295170015315, 0.14959249445590747, 0.12684420517497733, 0.11066452403718419, 0.098574323284307, 0.08919761347945304, 0.08171444288978637, 0.07560753952928366, 0.07053551688762737, 0.066264578213349, 0.06262958704596717]\n"
     ]
    },
    {
     "name": "stderr",
     "output_type": "stream",
     "text": [
      "\r",
      " 50%|█████     | 15/30 [1:52:17<1:51:56, 447.75s/it]"
     ]
    },
    {
     "name": "stdout",
     "output_type": "stream",
     "text": [
      "[1519000.0954705428, 1035866.9004116928, 492111.3241295105, 267149.6965281468, 168916.67563047312, 118839.64393724296, 89900.03783037848, 71555.5381737641, 59113.00080705158, 50234.02330148284, 43644.261007745714, 38598.40934920788, 34635.25872150412, 31456.042349444637, 28859.849661588047]\n",
      "[0.47350095406356596, 0.33564451450207944, 0.23913687840971082, 0.1837295170015315, 0.14959249445590747, 0.12684420517497733, 0.11066452403718419, 0.098574323284307, 0.08919761347945304, 0.08171444288978637, 0.07560753952928366, 0.07053551688762737, 0.066264578213349, 0.06262958704596717, 0.05951065627794494]\n"
     ]
    },
    {
     "name": "stderr",
     "output_type": "stream",
     "text": [
      "\r",
      " 53%|█████▎    | 16/30 [1:59:48<1:44:42, 448.74s/it]"
     ]
    },
    {
     "name": "stdout",
     "output_type": "stream",
     "text": [
      "[1519000.0954705428, 1035866.9004116928, 492111.3241295105, 267149.6965281468, 168916.67563047312, 118839.64393724296, 89900.03783037848, 71555.5381737641, 59113.00080705158, 50234.02330148284, 43644.261007745714, 38598.40934920788, 34635.25872150412, 31456.042349444637, 28859.849661588047, 26707.358775833745]\n",
      "[0.47350095406356596, 0.33564451450207944, 0.23913687840971082, 0.1837295170015315, 0.14959249445590747, 0.12684420517497733, 0.11066452403718419, 0.098574323284307, 0.08919761347945304, 0.08171444288978637, 0.07560753952928366, 0.07053551688762737, 0.066264578213349, 0.06262958704596717, 0.05951065627794494, 0.05681819232504544]\n"
     ]
    },
    {
     "name": "stderr",
     "output_type": "stream",
     "text": [
      "\r",
      " 57%|█████▋    | 17/30 [2:07:04<1:36:25, 445.02s/it]"
     ]
    },
    {
     "name": "stdout",
     "output_type": "stream",
     "text": [
      "[1519000.0954705428, 1035866.9004116928, 492111.3241295105, 267149.6965281468, 168916.67563047312, 118839.64393724296, 89900.03783037848, 71555.5381737641, 59113.00080705158, 50234.02330148284, 43644.261007745714, 38598.40934920788, 34635.25872150412, 31456.042349444637, 28859.849661588047, 26707.358775833745, 24899.439461179532]\n",
      "[0.47350095406356596, 0.33564451450207944, 0.23913687840971082, 0.1837295170015315, 0.14959249445590747, 0.12684420517497733, 0.11066452403718419, 0.098574323284307, 0.08919761347945304, 0.08171444288978637, 0.07560753952928366, 0.07053551688762737, 0.066264578213349, 0.06262958704596717, 0.05951065627794494, 0.05681819232504544, 0.05448286751860445]\n"
     ]
    },
    {
     "name": "stderr",
     "output_type": "stream",
     "text": [
      "\r",
      " 60%|██████    | 18/30 [2:14:36<1:29:25, 447.12s/it]"
     ]
    },
    {
     "name": "stdout",
     "output_type": "stream",
     "text": [
      "[1519000.0954705428, 1035866.9004116928, 492111.3241295105, 267149.6965281468, 168916.67563047312, 118839.64393724296, 89900.03783037848, 71555.5381737641, 59113.00080705158, 50234.02330148284, 43644.261007745714, 38598.40934920788, 34635.25872150412, 31456.042349444637, 28859.849661588047, 26707.358775833745, 24899.439461179532, 23363.945259078646]\n",
      "[0.47350095406356596, 0.33564451450207944, 0.23913687840971082, 0.1837295170015315, 0.14959249445590747, 0.12684420517497733, 0.11066452403718419, 0.098574323284307, 0.08919761347945304, 0.08171444288978637, 0.07560753952928366, 0.07053551688762737, 0.066264578213349, 0.06262958704596717, 0.05951065627794494, 0.05681819232504544, 0.05448286751860445, 0.05244895555565905]\n"
     ]
    },
    {
     "name": "stderr",
     "output_type": "stream",
     "text": [
      "\r",
      " 63%|██████▎   | 19/30 [2:22:10<1:22:21, 449.26s/it]"
     ]
    },
    {
     "name": "stdout",
     "output_type": "stream",
     "text": [
      "[1519000.0954705428, 1035866.9004116928, 492111.3241295105, 267149.6965281468, 168916.67563047312, 118839.64393724296, 89900.03783037848, 71555.5381737641, 59113.00080705158, 50234.02330148284, 43644.261007745714, 38598.40934920788, 34635.25872150412, 31456.042349444637, 28859.849661588047, 26707.358775833745, 24899.439461179532, 23363.945259078646, 22047.241702634798]\n",
      "[0.47350095406356596, 0.33564451450207944, 0.23913687840971082, 0.1837295170015315, 0.14959249445590747, 0.12684420517497733, 0.11066452403718419, 0.098574323284307, 0.08919761347945304, 0.08171444288978637, 0.07560753952928366, 0.07053551688762737, 0.066264578213349, 0.06262958704596717, 0.05951065627794494, 0.05681819232504544, 0.05448286751860445, 0.05244895555565905, 0.05067030012485738]\n"
     ]
    },
    {
     "name": "stderr",
     "output_type": "stream",
     "text": [
      "\r",
      " 67%|██████▋   | 20/30 [2:29:42<1:15:00, 450.07s/it]"
     ]
    },
    {
     "name": "stdout",
     "output_type": "stream",
     "text": [
      "[1519000.0954705428, 1035866.9004116928, 492111.3241295105, 267149.6965281468, 168916.67563047312, 118839.64393724296, 89900.03783037848, 71555.5381737641, 59113.00080705158, 50234.02330148284, 43644.261007745714, 38598.40934920788, 34635.25872150412, 31456.042349444637, 28859.849661588047, 26707.358775833745, 24899.439461179532, 23363.945259078646, 22047.241702634798, 20908.636933219244]\n",
      "[0.47350095406356596, 0.33564451450207944, 0.23913687840971082, 0.1837295170015315, 0.14959249445590747, 0.12684420517497733, 0.11066452403718419, 0.098574323284307, 0.08919761347945304, 0.08171444288978637, 0.07560753952928366, 0.07053551688762737, 0.066264578213349, 0.06262958704596717, 0.05951065627794494, 0.05681819232504544, 0.05448286751860445, 0.05244895555565905, 0.05067030012485738, 0.049108180788182576]\n"
     ]
    },
    {
     "name": "stderr",
     "output_type": "stream",
     "text": [
      "\r",
      " 70%|███████   | 21/30 [2:37:03<1:07:04, 447.15s/it]"
     ]
    },
    {
     "name": "stdout",
     "output_type": "stream",
     "text": [
      "[1519000.0954705428, 1035866.9004116928, 492111.3241295105, 267149.6965281468, 168916.67563047312, 118839.64393724296, 89900.03783037848, 71555.5381737641, 59113.00080705158, 50234.02330148284, 43644.261007745714, 38598.40934920788, 34635.25872150412, 31456.042349444637, 28859.849661588047, 26707.358775833745, 24899.439461179532, 23363.945259078646, 22047.241702634798, 20908.636933219244, 19916.67812396192]\n",
      "[0.47350095406356596, 0.33564451450207944, 0.23913687840971082, 0.1837295170015315, 0.14959249445590747, 0.12684420517497733, 0.11066452403718419, 0.098574323284307, 0.08919761347945304, 0.08171444288978637, 0.07560753952928366, 0.07053551688762737, 0.066264578213349, 0.06262958704596717, 0.05951065627794494, 0.05681819232504544, 0.05448286751860445, 0.05244895555565905, 0.05067030012485738, 0.049108180788182576, 0.047730195897696705]\n"
     ]
    },
    {
     "name": "stderr",
     "output_type": "stream",
     "text": [
      "\r",
      " 73%|███████▎  | 22/30 [2:44:53<1:00:33, 454.16s/it]"
     ]
    },
    {
     "name": "stdout",
     "output_type": "stream",
     "text": [
      "[1519000.0954705428, 1035866.9004116928, 492111.3241295105, 267149.6965281468, 168916.67563047312, 118839.64393724296, 89900.03783037848, 71555.5381737641, 59113.00080705158, 50234.02330148284, 43644.261007745714, 38598.40934920788, 34635.25872150412, 31456.042349444637, 28859.849661588047, 26707.358775833745, 24899.439461179532, 23363.945259078646, 22047.241702634798, 20908.636933219244, 19916.67812396192, 19046.66313040203]\n",
      "[0.47350095406356596, 0.33564451450207944, 0.23913687840971082, 0.1837295170015315, 0.14959249445590747, 0.12684420517497733, 0.11066452403718419, 0.098574323284307, 0.08919761347945304, 0.08171444288978637, 0.07560753952928366, 0.07053551688762737, 0.066264578213349, 0.06262958704596717, 0.05951065627794494, 0.05681819232504544, 0.05448286751860445, 0.05244895555565905, 0.05067030012485738, 0.049108180788182576, 0.047730195897696705, 0.04650946933272742]\n"
     ]
    },
    {
     "name": "stderr",
     "output_type": "stream",
     "text": [
      "\r",
      " 77%|███████▋  | 23/30 [2:52:14<52:30, 450.02s/it]  "
     ]
    },
    {
     "name": "stdout",
     "output_type": "stream",
     "text": [
      "[1519000.0954705428, 1035866.9004116928, 492111.3241295105, 267149.6965281468, 168916.67563047312, 118839.64393724296, 89900.03783037848, 71555.5381737641, 59113.00080705158, 50234.02330148284, 43644.261007745714, 38598.40934920788, 34635.25872150412, 31456.042349444637, 28859.849661588047, 26707.358775833745, 24899.439461179532, 23363.945259078646, 22047.241702634798, 20908.636933219244, 19916.67812396192, 19046.66313040203, 18278.93595855991]\n",
      "[0.47350095406356596, 0.33564451450207944, 0.23913687840971082, 0.1837295170015315, 0.14959249445590747, 0.12684420517497733, 0.11066452403718419, 0.098574323284307, 0.08919761347945304, 0.08171444288978637, 0.07560753952928366, 0.07053551688762737, 0.066264578213349, 0.06262958704596717, 0.05951065627794494, 0.05681819232504544, 0.05448286751860445, 0.05244895555565905, 0.05067030012485738, 0.049108180788182576, 0.047730195897696705, 0.04650946933272742, 0.045423852843863716]\n"
     ]
    },
    {
     "name": "stderr",
     "output_type": "stream",
     "text": [
      "\r",
      " 80%|████████  | 24/30 [2:59:58<45:25, 454.32s/it]"
     ]
    },
    {
     "name": "stdout",
     "output_type": "stream",
     "text": [
      "[1519000.0954705428, 1035866.9004116928, 492111.3241295105, 267149.6965281468, 168916.67563047312, 118839.64393724296, 89900.03783037848, 71555.5381737641, 59113.00080705158, 50234.02330148284, 43644.261007745714, 38598.40934920788, 34635.25872150412, 31456.042349444637, 28859.849661588047, 26707.358775833745, 24899.439461179532, 23363.945259078646, 22047.241702634798, 20908.636933219244, 19916.67812396192, 19046.66313040203, 18278.93595855991, 17597.685453607945]\n",
      "[0.47350095406356596, 0.33564451450207944, 0.23913687840971082, 0.1837295170015315, 0.14959249445590747, 0.12684420517497733, 0.11066452403718419, 0.098574323284307, 0.08919761347945304, 0.08171444288978637, 0.07560753952928366, 0.07053551688762737, 0.066264578213349, 0.06262958704596717, 0.05951065627794494, 0.05681819232504544, 0.05448286751860445, 0.05244895555565905, 0.05067030012485738, 0.049108180788182576, 0.047730195897696705, 0.04650946933272742, 0.045423852843863716, 0.04445508691808555]\n"
     ]
    },
    {
     "name": "stderr",
     "output_type": "stream",
     "text": [
      "\r",
      " 83%|████████▎ | 25/30 [3:07:16<37:27, 449.48s/it]"
     ]
    },
    {
     "name": "stdout",
     "output_type": "stream",
     "text": [
      "[1519000.0954705428, 1035866.9004116928, 492111.3241295105, 267149.6965281468, 168916.67563047312, 118839.64393724296, 89900.03783037848, 71555.5381737641, 59113.00080705158, 50234.02330148284, 43644.261007745714, 38598.40934920788, 34635.25872150412, 31456.042349444637, 28859.849661588047, 26707.358775833745, 24899.439461179532, 23363.945259078646, 22047.241702634798, 20908.636933219244, 19916.67812396192, 19046.66313040203, 18278.93595855991, 17597.685453607945, 16990.072612888245]\n",
      "[0.47350095406356596, 0.33564451450207944, 0.23913687840971082, 0.1837295170015315, 0.14959249445590747, 0.12684420517497733, 0.11066452403718419, 0.098574323284307, 0.08919761347945304, 0.08171444288978637, 0.07560753952928366, 0.07053551688762737, 0.066264578213349, 0.06262958704596717, 0.05951065627794494, 0.05681819232504544, 0.05448286751860445, 0.05244895555565905, 0.05067030012485738, 0.049108180788182576, 0.047730195897696705, 0.04650946933272742, 0.045423852843863716, 0.04445508691808555, 0.04358800970948197]\n"
     ]
    },
    {
     "name": "stderr",
     "output_type": "stream",
     "text": [
      "\r",
      " 87%|████████▋ | 26/30 [3:14:20<29:27, 441.78s/it]"
     ]
    },
    {
     "name": "stdout",
     "output_type": "stream",
     "text": [
      "[1519000.0954705428, 1035866.9004116928, 492111.3241295105, 267149.6965281468, 168916.67563047312, 118839.64393724296, 89900.03783037848, 71555.5381737641, 59113.00080705158, 50234.02330148284, 43644.261007745714, 38598.40934920788, 34635.25872150412, 31456.042349444637, 28859.849661588047, 26707.358775833745, 24899.439461179532, 23363.945259078646, 22047.241702634798, 20908.636933219244, 19916.67812396192, 19046.66313040203, 18278.93595855991, 17597.685453607945, 16990.072612888245, 16445.580891122197]\n",
      "[0.47350095406356596, 0.33564451450207944, 0.23913687840971082, 0.1837295170015315, 0.14959249445590747, 0.12684420517497733, 0.11066452403718419, 0.098574323284307, 0.08919761347945304, 0.08171444288978637, 0.07560753952928366, 0.07053551688762737, 0.066264578213349, 0.06262958704596717, 0.05951065627794494, 0.05681819232504544, 0.05448286751860445, 0.05244895555565905, 0.05067030012485738, 0.049108180788182576, 0.047730195897696705, 0.04650946933272742, 0.045423852843863716, 0.04445508691808555, 0.04358800970948197, 0.04280989808788055]\n"
     ]
    },
    {
     "name": "stderr",
     "output_type": "stream",
     "text": [
      "\r",
      " 90%|█████████ | 27/30 [3:21:42<22:05, 441.88s/it]"
     ]
    },
    {
     "name": "stdout",
     "output_type": "stream",
     "text": [
      "[1519000.0954705428, 1035866.9004116928, 492111.3241295105, 267149.6965281468, 168916.67563047312, 118839.64393724296, 89900.03783037848, 71555.5381737641, 59113.00080705158, 50234.02330148284, 43644.261007745714, 38598.40934920788, 34635.25872150412, 31456.042349444637, 28859.849661588047, 26707.358775833745, 24899.439461179532, 23363.945259078646, 22047.241702634798, 20908.636933219244, 19916.67812396192, 19046.66313040203, 18278.93595855991, 17597.685453607945, 16990.072612888245, 16445.580891122197, 15955.524685979182]\n",
      "[0.47350095406356596, 0.33564451450207944, 0.23913687840971082, 0.1837295170015315, 0.14959249445590747, 0.12684420517497733, 0.11066452403718419, 0.098574323284307, 0.08919761347945304, 0.08171444288978637, 0.07560753952928366, 0.07053551688762737, 0.066264578213349, 0.06262958704596717, 0.05951065627794494, 0.05681819232504544, 0.05448286751860445, 0.05244895555565905, 0.05067030012485738, 0.049108180788182576, 0.047730195897696705, 0.04650946933272742, 0.045423852843863716, 0.04445508691808555, 0.04358800970948197, 0.04280989808788055, 0.042109967948822394]\n"
     ]
    },
    {
     "name": "stderr",
     "output_type": "stream",
     "text": [
      "\r",
      " 93%|█████████▎| 28/30 [3:28:39<14:28, 434.35s/it]"
     ]
    },
    {
     "name": "stdout",
     "output_type": "stream",
     "text": [
      "[1519000.0954705428, 1035866.9004116928, 492111.3241295105, 267149.6965281468, 168916.67563047312, 118839.64393724296, 89900.03783037848, 71555.5381737641, 59113.00080705158, 50234.02330148284, 43644.261007745714, 38598.40934920788, 34635.25872150412, 31456.042349444637, 28859.849661588047, 26707.358775833745, 24899.439461179532, 23363.945259078646, 22047.241702634798, 20908.636933219244, 19916.67812396192, 19046.66313040203, 18278.93595855991, 17597.685453607945, 16990.072612888245, 16445.580891122197, 15955.524685979182, 15512.67390916732]\n",
      "[0.47350095406356596, 0.33564451450207944, 0.23913687840971082, 0.1837295170015315, 0.14959249445590747, 0.12684420517497733, 0.11066452403718419, 0.098574323284307, 0.08919761347945304, 0.08171444288978637, 0.07560753952928366, 0.07053551688762737, 0.066264578213349, 0.06262958704596717, 0.05951065627794494, 0.05681819232504544, 0.05448286751860445, 0.05244895555565905, 0.05067030012485738, 0.049108180788182576, 0.047730195897696705, 0.04650946933272742, 0.045423852843863716, 0.04445508691808555, 0.04358800970948197, 0.04280989808788055, 0.042109967948822394, 0.04147901348844221]\n"
     ]
    },
    {
     "name": "stderr",
     "output_type": "stream",
     "text": [
      "\r",
      " 97%|█████████▋| 29/30 [3:35:33<07:08, 428.37s/it]"
     ]
    },
    {
     "name": "stdout",
     "output_type": "stream",
     "text": [
      "[1519000.0954705428, 1035866.9004116928, 492111.3241295105, 267149.6965281468, 168916.67563047312, 118839.64393724296, 89900.03783037848, 71555.5381737641, 59113.00080705158, 50234.02330148284, 43644.261007745714, 38598.40934920788, 34635.25872150412, 31456.042349444637, 28859.849661588047, 26707.358775833745, 24899.439461179532, 23363.945259078646, 22047.241702634798, 20908.636933219244, 19916.67812396192, 19046.66313040203, 18278.93595855991, 17597.685453607945, 16990.072612888245, 16445.580891122197, 15955.524685979182, 15512.67390916732, 15110.965308729541]\n",
      "[0.47350095406356596, 0.33564451450207944, 0.23913687840971082, 0.1837295170015315, 0.14959249445590747, 0.12684420517497733, 0.11066452403718419, 0.098574323284307, 0.08919761347945304, 0.08171444288978637, 0.07560753952928366, 0.07053551688762737, 0.066264578213349, 0.06262958704596717, 0.05951065627794494, 0.05681819232504544, 0.05448286751860445, 0.05244895555565905, 0.05067030012485738, 0.049108180788182576, 0.047730195897696705, 0.04650946933272742, 0.045423852843863716, 0.04445508691808555, 0.04358800970948197, 0.04280989808788055, 0.042109967948822394, 0.04147901348844221, 0.040909146351945404]\n"
     ]
    },
    {
     "name": "stderr",
     "output_type": "stream",
     "text": [
      "100%|██████████| 30/30 [3:42:37<00:00, 445.25s/it]"
     ]
    },
    {
     "name": "stdout",
     "output_type": "stream",
     "text": [
      "[1519000.0954705428, 1035866.9004116928, 492111.3241295105, 267149.6965281468, 168916.67563047312, 118839.64393724296, 89900.03783037848, 71555.5381737641, 59113.00080705158, 50234.02330148284, 43644.261007745714, 38598.40934920788, 34635.25872150412, 31456.042349444637, 28859.849661588047, 26707.358775833745, 24899.439461179532, 23363.945259078646, 22047.241702634798, 20908.636933219244, 19916.67812396192, 19046.66313040203, 18278.93595855991, 17597.685453607945, 16990.072612888245, 16445.580891122197, 15955.524685979182, 15512.67390916732, 15110.965308729541, 14745.279062941738]\n",
      "[0.47350095406356596, 0.33564451450207944, 0.23913687840971082, 0.1837295170015315, 0.14959249445590747, 0.12684420517497733, 0.11066452403718419, 0.098574323284307, 0.08919761347945304, 0.08171444288978637, 0.07560753952928366, 0.07053551688762737, 0.066264578213349, 0.06262958704596717, 0.05951065627794494, 0.05681819232504544, 0.05448286751860445, 0.05244895555565905, 0.05067030012485738, 0.049108180788182576, 0.047730195897696705, 0.04650946933272742, 0.045423852843863716, 0.04445508691808555, 0.04358800970948197, 0.04280989808788055, 0.042109967948822394, 0.04147901348844221, 0.040909146351945404, 0.04039359833739575]\n"
     ]
    },
    {
     "name": "stderr",
     "output_type": "stream",
     "text": [
      "\n"
     ]
    }
   ],
   "source": [
    "RMSE, LOSS, U, V = test_2.train()"
   ]
  },
  {
   "cell_type": "code",
   "execution_count": 99,
   "metadata": {},
   "outputs": [
    {
     "name": "stderr",
     "output_type": "stream",
     "text": [
      "  5%|▍         | 10000/206209 [04:32<1:29:03, 36.72it/s]\n"
     ]
    }
   ],
   "source": [
    "MAP_2 = test_2.prediction_map(U, V)"
   ]
  },
  {
   "cell_type": "code",
   "execution_count": 100,
   "metadata": {},
   "outputs": [
    {
     "data": {
      "text/plain": [
       "0.0003208012532080125"
      ]
     },
     "execution_count": 100,
     "metadata": {},
     "output_type": "execute_result"
    }
   ],
   "source": [
    "MAP_2"
   ]
  },
  {
   "cell_type": "code",
   "execution_count": 140,
   "metadata": {},
   "outputs": [],
   "source": [
    "loss_k_30_eta_0_1_lbd_0_001 = [1018992.5404728408, 335756.3361676689, 154343.78715548394, 105592.94940664852, 83709.69361526785, 71557.49132956797, 63942.840274595495, 58779.93868424015, 55078.263111409484, 52310.99349509732, 50173.880130509526, 48479.81999174722, 47107.901787709896, 45976.786581528875, 45029.90803985403, 44226.81254629806, 43537.87062395146, 42940.9279419077, 42419.11746503053, 41959.39095230122, 41551.509671836546, 41187.336132534896, 40860.327779091276, 40565.16899760188, 40297.499589870866, 40053.71165656828, 39830.79573194091, 39626.22287352075, 39437.85333848688, 39263.86515292958]"
   ]
  },
  {
   "cell_type": "code",
   "execution_count": 141,
   "metadata": {},
   "outputs": [],
   "source": [
    "loss_k_40_eta_0_1_lbd_0_001 = [1004186.8066271984, 328263.528151722, 152975.4902470725, 105141.17249560913, 83557.68554420622, 71538.78615480174, 63994.1193839823, 58871.905120454925, 55195.45099613362, 52444.42724175973, 50317.97206809847, 48630.9025867458, 47263.46890561089, 46135.07209568307, 45189.63759752207, 44387.05002173118, 43697.91917697989, 43100.26403029647, 42577.345540639784, 42116.211577382914, 41706.69658464001, 41340.71942873341, 41011.781370245946, 40714.60112567691, 40444.84556524107, 40198.92823922397, 39973.85674285425, 39767.11573816922, 39576.576344343135, 39400.425259297015]"
   ]
  },
  {
   "cell_type": "code",
   "execution_count": 142,
   "metadata": {},
   "outputs": [],
   "source": [
    "loss_k_40_eta_0_1_lbd_0_01 = [1430603.5435018882, 750964.6266716269, 444291.3130135707, 361831.1897208446, 327372.11735735374, 308995.4587775118, 297800.1098603388, 290385.59432200453, 285184.5574546951, 281379.30183456006, 278503.9519000853, 276274.9677188406, 274510.6815135321, 273089.8030955978, 271928.57369761146, 270967.4999135267, 270163.3028004697, 269483.84655698907, 268904.8407116806, 268407.63574607583, 267977.7137686066, 267603.6329847235, 267276.27553181327, 266988.30242146994, 266733.7525586916, 266507.7437028977, 266306.2466705807, 266125.9129010787, 265963.94139938825, 265817.9750784928]"
   ]
  },
  {
   "cell_type": "code",
   "execution_count": 143,
   "metadata": {},
   "outputs": [],
   "source": [
    "loss_k_30_eta_0_2_lbd_0_001 = [571492.8034147689, 131028.7930000466, 76233.56373152077, 60742.8050131463, 53380.06202145347, 49152.71968045616, 46442.20888083213, 44570.97535696634, 43208.39982226448, 42175.34611194008, 41366.98819964953, 40718.22167844158, 40186.63456668066, 39743.492307305576, 39368.677475406614, 39047.70752204178, 38769.90343361721, 38527.22490886872, 38313.50657430421, 38123.943640946396, 37954.73729397088, 37802.84504055136, 37665.80162624364, 37541.58838594855, 37428.53646143256, 37325.25410246228, 37230.57136148613, 37143.497529151595, 37063.18802550676, 36988.918392239655]"
   ]
  },
  {
   "cell_type": "code",
   "execution_count": 149,
   "metadata": {},
   "outputs": [
    {
     "data": {
      "image/png": "[encoded data removed]",
      "text/plain": [
       "<Figure size 432x288 with 1 Axes>"
      ]
     },
     "metadata": {
      "needs_background": "light"
     },
     "output_type": "display_data"
    }
   ],
   "source": [
    "x = range(len(loss_k_30_eta_0_1_lbd_0_001))\n",
    "plt.plot(x, loss_k_30_eta_0_1_lbd_0_001, 'r--',\n",
    "         x, loss_k_40_eta_0_1_lbd_0_001, 'bs', \n",
    "         x, loss_k_40_eta_0_1_lbd_0_01, 'g^',\n",
    "         x, loss_k_30_eta_0_2_lbd_0_001, 'y')\n",
    "plt.title('Convergence curve')\n",
    "plt.xlabel('Iterations')\n",
    "plt.ylabel('Loss')\n",
    "plt.legend(['K=30, eta=0.1, lbd=0.001', 'K=40, eta=0.1, lbd=0.001', 'K=40, eta=0.1, lbd=0.01', 'K=30, eta=0.2, lbd=0.001'])\n",
    "plt.show()"
   ]
  }
 ],
 "metadata": {
  "colab": {
   "collapsed_sections": [],
   "name": "PMF.ipynb",
   "provenance": []
  },
  "kernelspec": {
   "display_name": "Python 3",
   "language": "python",
   "name": "python3"
  },
  "language_info": {
   "codemirror_mode": {
    "name": "ipython",
    "version": 3
   },
   "file_extension": ".py",
   "mimetype": "text/x-python",
   "name": "python",
   "nbconvert_exporter": "python",
   "pygments_lexer": "ipython3",
   "version": "3.7.6"
  },
  "toc": {
   "base_numbering": 1,
   "nav_menu": {},
   "number_sections": true,
   "sideBar": true,
   "skip_h1_title": false,
   "title_cell": "Table of Contents",
   "title_sidebar": "Contents",
   "toc_cell": false,
   "toc_position": {},
   "toc_section_display": true,
   "toc_window_display": false
  },
  "varInspector": {
   "cols": {
    "lenName": 16,
    "lenType": 16,
    "lenVar": 40
   },
   "kernels_config": {
    "python": {
     "delete_cmd_postfix": "",
     "delete_cmd_prefix": "del ",
     "library": "var_list.py",
     "varRefreshCmd": "print(var_dic_list())"
    },
    "r": {
     "delete_cmd_postfix": ") ",
     "delete_cmd_prefix": "rm(",
     "library": "var_list.r",
     "varRefreshCmd": "cat(var_dic_list()) "
    }
   },
   "types_to_exclude": [
    "module",
    "function",
    "builtin_function_or_method",
    "instance",
    "_Feature"
   ],
   "window_display": false
  }
 },
 "nbformat": 4,
 "nbformat_minor": 4
}
