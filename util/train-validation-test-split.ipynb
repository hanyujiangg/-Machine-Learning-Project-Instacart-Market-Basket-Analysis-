{
 "cells": [
  {
   "cell_type": "code",
   "execution_count": 1,
   "metadata": {
    "ExecuteTime": {
     "end_time": "2020-11-10T02:57:34.307173Z",
     "start_time": "2020-11-10T02:57:32.889166Z"
    },
    "executionInfo": {
     "elapsed": 6717,
     "status": "ok",
     "timestamp": 1604409533444,
     "user": {
      "displayName": "QI HAODI _",
      "photoUrl": "",
      "userId": "13823255111802956482"
     },
     "user_tz": -480
    },
    "id": "n6ow7r3BQEfx"
   },
   "outputs": [],
   "source": [
    "import numpy as np\n",
    "import pandas as pd\n",
    "import matplotlib.pyplot as plt\n",
    "%matplotlib inline\n",
    "\n",
    "import os, pickle\n",
    "from time import time\n",
    "FOLDER_PATH = ''"
   ]
  },
  {
   "cell_type": "code",
   "execution_count": 2,
   "metadata": {
    "ExecuteTime": {
     "end_time": "2020-11-10T02:58:04.687163Z",
     "start_time": "2020-11-10T02:57:41.138204Z"
    },
    "executionInfo": {
     "elapsed": 32537,
     "status": "ok",
     "timestamp": 1604409560453,
     "user": {
      "displayName": "QI HAODI _",
      "photoUrl": "",
      "userId": "13823255111802956482"
     },
     "user_tz": -480
    },
    "id": "pLAuCNS-QRtG"
   },
   "outputs": [],
   "source": [
    "order = pd.read_csv(os.path.join(FOLDER_PATH,'data/orders.csv'))\n",
    "order_train = order[order.eval_set=='train']\n",
    "order_prior = order[order.eval_set=='prior']\n",
    "\n",
    "order_product_train = pd.read_csv(os.path.join(FOLDER_PATH,'data/order_products__train.csv'))\n",
    "order_product_prior = pd.read_csv(os.path.join(FOLDER_PATH,'data/order_products__prior.csv'))"
   ]
  },
  {
   "cell_type": "code",
   "execution_count": 3,
   "metadata": {
    "ExecuteTime": {
     "end_time": "2020-11-10T02:59:33.357187Z",
     "start_time": "2020-11-10T02:58:04.865179Z"
    },
    "executionInfo": {
     "elapsed": 49575,
     "status": "ok",
     "timestamp": 1604411120393,
     "user": {
      "displayName": "QI HAODI _",
      "photoUrl": "",
      "userId": "13823255111802956482"
     },
     "user_tz": -480
    },
    "id": "lLaDVClrQSj6"
   },
   "outputs": [],
   "source": [
    "# get validation set\n",
    "\n",
    "validation_order_num = order_prior.groupby('user_id',as_index=False).max()[['user_id','order_number']]\n",
    "validation_order = pd.merge(order_prior,validation_order_num, on=['user_id','order_number'])[['user_id','order_id']]\n",
    "validation_set = pd.merge(order_product_prior,validation_order, on=['order_id'])[['user_id','product_id','reordered','order_id']]\n",
    "\n",
    "train_order = order_prior[~order_prior.order_id.isin(validation_order.order_id)]\n",
    "train_set = pd.merge(order_product_prior,train_order, on=['order_id'])[['user_id','product_id','reordered','order_id']]\n",
    "\n",
    "test_set = pd.merge(order_product_train,order, on=['order_id'])[['user_id','product_id','reordered','order_id']]"
   ]
  },
  {
   "cell_type": "code",
   "execution_count": 5,
   "metadata": {
    "ExecuteTime": {
     "end_time": "2020-11-10T02:35:02.854335Z",
     "start_time": "2020-11-10T02:34:58.144337Z"
    },
    "executionInfo": {
     "elapsed": 9401,
     "status": "ok",
     "timestamp": 1604411371195,
     "user": {
      "displayName": "QI HAODI _",
      "photoUrl": "",
      "userId": "13823255111802956482"
     },
     "user_tz": -480
    },
    "id": "3FjURti1RHQK"
   },
   "outputs": [],
   "source": [
    "pickle.dump(train_set, open(os.path.join(FOLDER_PATH,'pickle','train_set.p'),'wb'))\n",
    "pickle.dump(validation_set, open(os.path.join(FOLDER_PATH,'pickle','validation_set.p'),'wb'))\n",
    "\n",
    "pickle.dump(train_order, open(os.path.join(FOLDER_PATH,'pickle','train_order.p'),'wb'))\n",
    "pickle.dump(validation_order, open(os.path.join(FOLDER_PATH,'pickle','validation_order.p'),'wb'))\n",
    "\n",
    "pickle.dump(test_set, open(os.path.join(FOLDER_PATH,'pickle','test_set.p'),'wb'))"
   ]
  },
  {
   "cell_type": "code",
   "execution_count": 4,
   "metadata": {
    "ExecuteTime": {
     "end_time": "2020-11-10T02:59:38.286190Z",
     "start_time": "2020-11-10T02:59:33.676190Z"
    }
   },
   "outputs": [],
   "source": [
    "# get id mappings\n",
    "\n",
    "order_prior_set = pd.concat([train_set,validation_set])\n",
    "\n",
    "all_user_id = order_prior_set.user_id.unique()\n",
    "all_product_id = order_prior_set.product_id.unique()\n",
    "\n",
    "user_mapping = {all_user_id[i]:i for i in range(len(all_user_id))}\n",
    "product_mapping = {all_product_id[i]:i for i in range(len(all_product_id))}"
   ]
  },
  {
   "cell_type": "code",
   "execution_count": 5,
   "metadata": {
    "ExecuteTime": {
     "end_time": "2020-11-10T02:59:40.694186Z",
     "start_time": "2020-11-10T02:59:39.184186Z"
    }
   },
   "outputs": [],
   "source": [
    "pickle.dump(user_mapping, open(os.path.join(FOLDER_PATH,'pickle','user_mapping.p'),'wb'))\n",
    "pickle.dump(product_mapping, open(os.path.join(FOLDER_PATH,'pickle','product_mapping.p'),'wb'))"
   ]
  }
 ],
 "metadata": {
  "colab": {
   "authorship_tag": "ABX9TyMNKEU5F1p130IvHUS99J6t",
   "collapsed_sections": [],
   "mount_file_id": "1c88HJh_ZfRFBCFF40F2k_l-Ld59HB5tu",
   "name": "Train Validation Split.ipynb",
   "provenance": []
  },
  "kernelspec": {
   "display_name": "Python 3",
   "language": "python",
   "name": "python3"
  },
  "language_info": {
   "codemirror_mode": {
    "name": "ipython",
    "version": 3
   },
   "file_extension": ".py",
   "mimetype": "text/x-python",
   "name": "python",
   "nbconvert_exporter": "python",
   "pygments_lexer": "ipython3",
   "version": "3.8.3"
  },
  "toc": {
   "base_numbering": 1,
   "nav_menu": {},
   "number_sections": true,
   "sideBar": true,
   "skip_h1_title": false,
   "title_cell": "Table of Contents",
   "title_sidebar": "Contents",
   "toc_cell": false,
   "toc_position": {},
   "toc_section_display": true,
   "toc_window_display": false
  },
  "varInspector": {
   "cols": {
    "lenName": 16,
    "lenType": 16,
    "lenVar": 40
   },
   "kernels_config": {
    "python": {
     "delete_cmd_postfix": "",
     "delete_cmd_prefix": "del ",
     "library": "var_list.py",
     "varRefreshCmd": "print(var_dic_list())"
    },
    "r": {
     "delete_cmd_postfix": ") ",
     "delete_cmd_prefix": "rm(",
     "library": "var_list.r",
     "varRefreshCmd": "cat(var_dic_list()) "
    }
   },
   "types_to_exclude": [
    "module",
    "function",
    "builtin_function_or_method",
    "instance",
    "_Feature"
   ],
   "window_display": false
  }
 },
 "nbformat": 4,
 "nbformat_minor": 1
}
