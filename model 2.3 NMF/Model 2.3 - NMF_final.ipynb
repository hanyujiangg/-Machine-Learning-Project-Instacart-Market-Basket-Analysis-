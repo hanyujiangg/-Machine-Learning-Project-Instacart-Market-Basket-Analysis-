{
 "cells": [
  {
   "cell_type": "code",
   "execution_count": null,
   "metadata": {
    "ExecuteTime": {
     "end_time": "2020-11-21T16:14:05.497970Z",
     "start_time": "2020-11-21T16:14:03.604996Z"
    }
   },
   "outputs": [],
   "source": [
    "import numpy as np\n",
    "import pandas as pd\n",
    "from sklearn import datasets, cluster\n",
    "import matplotlib.pyplot as plt\n",
    "import plotly.express as px\n",
    "\n",
    "import warnings\n",
    "warnings.filterwarnings('ignore')\n",
    "\n",
    "import os, pickle\n",
    "from time import time\n",
    "from tqdm import tqdm \n",
    "from proj_util import cal_avg_precision, get_user_product_matrix\n",
    "\n",
    "from sklearn.decomposition import NMF\n",
    "import scipy\n",
    "\n",
    "\n",
    "FOLDER_PATH = ''\n"
   ]
  },
  {
   "cell_type": "code",
   "execution_count": null,
   "metadata": {
    "ExecuteTime": {
     "end_time": "2020-11-19T04:45:27.048568Z",
     "start_time": "2020-11-19T04:45:24.501127Z"
    }
   },
   "outputs": [],
   "source": [
    "train_set = pickle.load(open(os.path.join(FOLDER_PATH,'pickle','train_set.p'),'rb'))\n",
    "validation_set = pickle.load(open(os.path.join(FOLDER_PATH,'pickle','validation_set.p'),'rb'))\n",
    "test_set = pickle.load(open(os.path.join(FOLDER_PATH,'pickle','test_set.p'),'rb'))"
   ]
  },
  {
   "cell_type": "code",
   "execution_count": 2,
   "metadata": {
    "ExecuteTime": {
     "end_time": "2020-11-21T16:14:12.026519Z",
     "start_time": "2020-11-21T16:14:11.655521Z"
    }
   },
   "outputs": [],
   "source": [
    "user_mapping = pickle.load(open(os.path.join(FOLDER_PATH,'pickle','user_mapping.p'),'rb'))\n",
    "product_mapping = pickle.load(open(os.path.join(FOLDER_PATH,'pickle','product_mapping.p'),'rb'))"
   ]
  },
  {
   "cell_type": "code",
   "execution_count": null,
   "metadata": {
    "ExecuteTime": {
     "end_time": "2020-11-19T04:45:32.948996Z",
     "start_time": "2020-11-19T04:45:31.140071Z"
    }
   },
   "outputs": [],
   "source": [
    "order_prior_set = pd.concat([train_set,validation_set])\n",
    "order_prior_set.drop('order_id',axis=1, inplace=True)\n",
    "del train_set, validation_set"
   ]
  },
  {
   "cell_type": "code",
   "execution_count": null,
   "metadata": {
    "ExecuteTime": {
     "end_time": "2020-11-21T16:13:49.578216Z",
     "start_time": "2020-11-21T16:13:49.552171Z"
    }
   },
   "outputs": [],
   "source": [
    "order_prior_set.user_id = order_prior_set.user_id.map(user_mapping)\n",
    "order_prior_set.product_id = order_prior_set.product_id.map(product_mapping)\n",
    "\n",
    "test_set.user_id = test_set.user_id.map(user_mapping)\n",
    "test_set.product_id = test_set.product_id.map(product_mapping)"
   ]
  },
  {
   "cell_type": "code",
   "execution_count": null,
   "metadata": {
    "ExecuteTime": {
     "end_time": "2020-11-19T04:45:58.557900Z",
     "start_time": "2020-11-19T04:45:36.718967Z"
    }
   },
   "outputs": [],
   "source": [
    "user_product_prior = order_prior_set.groupby(['user_id', 'product_id']).size().reset_index().rename(columns={0: 'quantity'})\n",
    "qty_max = max(user_product_prior.quantity)\n",
    "\n",
    "user_product_prior.quantity = user_product_prior.quantity.apply(lambda x: (x-1)/float(qty_max-1))"
   ]
  },
  {
   "cell_type": "code",
   "execution_count": null,
   "metadata": {
    "ExecuteTime": {
     "end_time": "2020-11-19T04:45:59.725987Z",
     "start_time": "2020-11-19T04:45:58.773930Z"
    }
   },
   "outputs": [],
   "source": [
    "user_product_prior_coo = get_user_product_matrix(user_product_prior)"
   ]
  },
  {
   "cell_type": "code",
   "execution_count": null,
   "metadata": {
    "ExecuteTime": {
     "end_time": "2020-11-19T05:28:53.991186Z",
     "start_time": "2020-11-19T04:45:59.927511Z"
    }
   },
   "outputs": [],
   "source": [
    "nmf = NMF(n_components=120, random_state=421, alpha=0.001) \n",
    "nmf.fit(user_product_prior_coo)"
   ]
  },
  {
   "cell_type": "code",
   "execution_count": null,
   "metadata": {
    "ExecuteTime": {
     "end_time": "2020-11-19T05:30:09.559418Z",
     "start_time": "2020-11-19T05:28:54.246188Z"
    }
   },
   "outputs": [],
   "source": [
    "V = nmf.transform(user_product_prior_coo)\n",
    "U = nmf.components_.T"
   ]
  },
  {
   "cell_type": "code",
   "execution_count": null,
   "metadata": {},
   "outputs": [],
   "source": [
    "pickle.dump(V, open(os.path.join(FOLDER_PATH,'pickle','final-nmf-prior-V.p'),'wb'))\n",
    "pickle.dump(U, open(os.path.join(FOLDER_PATH,'pickle','final-nmf-prior-U.p'),'wb'))"
   ]
  },
  {
   "cell_type": "code",
   "execution_count": null,
   "metadata": {
    "ExecuteTime": {
     "end_time": "2020-11-21T16:13:18.320118Z",
     "start_time": "2020-11-21T16:13:05.183750Z"
    },
    "scrolled": true
   },
   "outputs": [],
   "source": [
    "scores = []\n",
    "c = 0\n",
    "for u in (test_set.user_id):\n",
    "    user_item_score = np.matmul(U[mapped_u:mapped_u+1], V.T)[0]\n",
    "    recomm_items = np.argsort(user_item_score)[-1:-11:-1]\n",
    "\n",
    "    gt_product = test_set.query('user_id=={}'.format(u)).product_id.values\n",
    "    score = cal_avg_precision(gt_product, recomm_items)\n",
    "    scores.append(score)\n",
    "\n",
    "    c+=1\n",
    "    if c % 10000 == 0:\n",
    "        print(c, end=' | ')       \n",
    "    "
   ]
  },
  {
   "cell_type": "code",
   "execution_count": null,
   "metadata": {
    "ExecuteTime": {
     "end_time": "2020-11-18T20:14:27.419915Z",
     "start_time": "2020-11-18T20:14:27.316916Z"
    }
   },
   "outputs": [],
   "source": [
    "np.mean(scores) # 0.5057114628611186"
   ]
  }
 ],
 "metadata": {
  "kernelspec": {
   "display_name": "Python 3",
   "language": "python",
   "name": "python3"
  },
  "language_info": {
   "codemirror_mode": {
    "name": "ipython",
    "version": 3
   },
   "file_extension": ".py",
   "mimetype": "text/x-python",
   "name": "python",
   "nbconvert_exporter": "python",
   "pygments_lexer": "ipython3",
   "version": "3.8.3"
  },
  "toc": {
   "base_numbering": 1,
   "nav_menu": {},
   "number_sections": true,
   "sideBar": true,
   "skip_h1_title": false,
   "title_cell": "Table of Contents",
   "title_sidebar": "Contents",
   "toc_cell": false,
   "toc_position": {},
   "toc_section_display": true,
   "toc_window_display": false
  },
  "varInspector": {
   "cols": {
    "lenName": 16,
    "lenType": 16,
    "lenVar": 40
   },
   "kernels_config": {
    "python": {
     "delete_cmd_postfix": "",
     "delete_cmd_prefix": "del ",
     "library": "var_list.py",
     "varRefreshCmd": "print(var_dic_list())"
    },
    "r": {
     "delete_cmd_postfix": ") ",
     "delete_cmd_prefix": "rm(",
     "library": "var_list.r",
     "varRefreshCmd": "cat(var_dic_list()) "
    }
   },
   "types_to_exclude": [
    "module",
    "function",
    "builtin_function_or_method",
    "instance",
    "_Feature"
   ],
   "window_display": false
  }
 },
 "nbformat": 4,
 "nbformat_minor": 4
}
