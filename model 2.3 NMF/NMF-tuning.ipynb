{
 "cells": [
  {
   "cell_type": "code",
   "execution_count": 1,
   "metadata": {
    "ExecuteTime": {
     "end_time": "2020-11-18T03:20:16.807295Z",
     "start_time": "2020-11-18T03:20:13.743001Z"
    },
    "executionInfo": {
     "elapsed": 1665,
     "status": "ok",
     "timestamp": 1604721500990,
     "user": {
      "displayName": "QI HAODI _",
      "photoUrl": "",
      "userId": "13823255111802956482"
     },
     "user_tz": -480
    },
    "id": "u8c9fSxPnwOt"
   },
   "outputs": [],
   "source": [
    "import numpy as np\n",
    "import pandas as pd\n",
    "from sklearn import datasets, cluster\n",
    "import matplotlib.pyplot as plt\n",
    "import plotly.express as px\n",
    "\n",
    "import warnings\n",
    "warnings.filterwarnings('ignore')\n",
    "\n",
    "import os, pickle\n",
    "from time import time\n",
    "from tqdm import tqdm \n",
    "from proj_util import cal_avg_precision, get_user_product_matrix\n",
    "\n",
    "from sklearn.decomposition import NMF\n",
    "import scipy\n",
    "\n",
    "FOLDER_PATH = ''\n"
   ]
  },
  {
   "cell_type": "code",
   "execution_count": 3,
   "metadata": {
    "ExecuteTime": {
     "end_time": "2020-11-12T07:42:47.018695Z",
     "start_time": "2020-11-12T07:42:42.873857Z"
    },
    "executionInfo": {
     "elapsed": 6886,
     "status": "ok",
     "timestamp": 1604721506231,
     "user": {
      "displayName": "QI HAODI _",
      "photoUrl": "",
      "userId": "13823255111802956482"
     },
     "user_tz": -480
    },
    "id": "QRRr4vMMoP_X"
   },
   "outputs": [],
   "source": [
    "train_set = pickle.load(open(os.path.join(FOLDER_PATH,'pickle','train_set.p'),'rb'))\n",
    "validation_set = pickle.load(open(os.path.join(FOLDER_PATH,'pickle','validation_set.p'),'rb'))\n",
    "\n",
    "user_mapping = pickle.load(open(os.path.join(FOLDER_PATH,'pickle','user_mapping.p'),'rb'))\n",
    "product_mapping = pickle.load(open(os.path.join(FOLDER_PATH,'pickle','product_mapping.p'),'rb'))"
   ]
  },
  {
   "cell_type": "code",
   "execution_count": 4,
   "metadata": {
    "ExecuteTime": {
     "end_time": "2020-11-12T07:42:47.796396Z",
     "start_time": "2020-11-12T07:42:47.217395Z"
    },
    "executionInfo": {
     "elapsed": 7863,
     "status": "ok",
     "timestamp": 1604721507215,
     "user": {
      "displayName": "QI HAODI _",
      "photoUrl": "",
      "userId": "13823255111802956482"
     },
     "user_tz": -480
    },
    "id": "7qE1-AUFoRqu"
   },
   "outputs": [],
   "source": [
    "train_set = train_set.drop('order_id',axis=1)"
   ]
  },
  {
   "cell_type": "code",
   "execution_count": 5,
   "metadata": {
    "ExecuteTime": {
     "end_time": "2020-11-12T07:42:50.991396Z",
     "start_time": "2020-11-12T07:42:48.103400Z"
    },
    "executionInfo": {
     "elapsed": 10458,
     "status": "ok",
     "timestamp": 1604721509840,
     "user": {
      "displayName": "QI HAODI _",
      "photoUrl": "",
      "userId": "13823255111802956482"
     },
     "user_tz": -480
    },
    "id": "L5PIbUZ4oVx2"
   },
   "outputs": [],
   "source": [
    "train_set.user_id = train_set.user_id.map(user_mapping)\n",
    "train_set.product_id = train_set.product_id.map(product_mapping)\n",
    "\n",
    "validation_set.user_id = validation_set.user_id.map(user_mapping)\n",
    "validation_set.product_id = validation_set.product_id.map(product_mapping)"
   ]
  },
  {
   "cell_type": "markdown",
   "metadata": {
    "heading_collapsed": true,
    "id": "e94L4cTCVUPI"
   },
   "source": [
    "## Approach 1\n",
    "\n",
    "The way we compute the probability of each user-product is as following:\n",
    "\n",
    "1. We computed, for each User and each Product, the number of orders that contains the Product in the train set. <br>\n",
    "(e.g. user 1 purchased product 1 in 5 different order --> user1-product1 = 5)\n",
    "\n",
    "2. We aggregated all the products for each user with Sum.\n",
    "\n",
    "3. We computed the **ratio of user-product over the user sum** and use that as the probability."
   ]
  },
  {
   "cell_type": "code",
   "execution_count": 8,
   "metadata": {
    "ExecuteTime": {
     "end_time": "2020-11-10T03:46:41.009456Z",
     "start_time": "2020-11-10T03:41:26.632878Z"
    },
    "hidden": true,
    "id": "1MR14i9SsK3-"
   },
   "outputs": [],
   "source": [
    "user_product_train = train_set.groupby(['user_id', 'product_id']).size().reset_index().rename(columns={0: 'quantity'})\n",
    "user_product_train = user_product_train.groupby(['user_id','product_id']).agg({'quantity': 'sum'})\n",
    "user_product_train = user_product_train.groupby(level=0).apply(lambda x: x/float(x.sum()))\n",
    "user_product_train = user_product_train.reset_index()"
   ]
  },
  {
   "cell_type": "code",
   "execution_count": 12,
   "metadata": {
    "ExecuteTime": {
     "end_time": "2020-11-10T04:38:27.078431Z",
     "start_time": "2020-11-10T04:38:25.467429Z"
    },
    "hidden": true,
    "id": "y-bvYspLsCUp"
   },
   "outputs": [],
   "source": [
    "user_product_train_coo = get_user_product_matrix(user_product_train)"
   ]
  },
  {
   "cell_type": "code",
   "execution_count": null,
   "metadata": {
    "colab": {
     "base_uri": "https://localhost:8080/"
    },
    "executionInfo": {
     "elapsed": 1132,
     "status": "ok",
     "timestamp": 1604551204372,
     "user": {
      "displayName": "QI HAODI _",
      "photoUrl": "",
      "userId": "13823255111802956482"
     },
     "user_tz": -480
    },
    "hidden": true,
    "id": "MczJEiIRtCzT",
    "outputId": "c71c4f9e-cfc1-4c39-876f-0fbfffe709a9",
    "scrolled": true
   },
   "outputs": [
    {
     "data": {
      "text/plain": [
       "(49652, 206209)"
      ]
     },
     "execution_count": 26,
     "metadata": {
      "tags": []
     },
     "output_type": "execute_result"
    }
   ],
   "source": [
    "user_product_train_coo.shape"
   ]
  },
  {
   "cell_type": "code",
   "execution_count": 7,
   "metadata": {
    "ExecuteTime": {
     "end_time": "2020-11-10T03:41:23.800172Z",
     "start_time": "2020-11-10T03:41:23.792173Z"
    },
    "hidden": true,
    "id": "K42YCFciotus"
   },
   "outputs": [],
   "source": [
    "nmf = NMF(n_components=10, random_state=421, alpha=0.001)\n",
    "\n",
    "# alpha : double, default: 0.\n",
    "#     Constant that multiplies the regularization terms. Set it to zero to\n",
    "#     have no regularization.\n",
    "\n",
    "# l1_ratio : double, default: 0. --> l2 regularization\n",
    "#     The regularization mixing parameter, with 0 <= l1_ratio <= 1.\n",
    "#     For l1_ratio = 0 the penalty is an elementwise L2 penalty\n",
    "#     (aka Frobenius Norm).\n",
    "#     For l1_ratio = 1 it is an elementwise L1 penalty.\n",
    "#     For 0 < l1_ratio < 1, the penalty is a combination of L1 and L2"
   ]
  },
  {
   "cell_type": "markdown",
   "metadata": {
    "hidden": true,
    "id": "evqNF24exL-E"
   },
   "source": [
    "### Tuning of hyperparameters\n",
    "\n",
    "1. n_comp \n",
    "2. alpha\n",
    "3. l1_ratio\n"
   ]
  },
  {
   "cell_type": "code",
   "execution_count": 13,
   "metadata": {
    "ExecuteTime": {
     "end_time": "2020-11-10T04:39:20.340148Z",
     "start_time": "2020-11-10T04:39:20.334149Z"
    },
    "hidden": true,
    "id": "WyZwSdjGxLhC"
   },
   "outputs": [],
   "source": [
    "candidate_comp = [10,20,30,40]\n",
    "candidate_alpha = [0.001, 0.01, 0.1]\n",
    "candidate_l1_ratio = [0, 0.2, 0.5]"
   ]
  },
  {
   "cell_type": "code",
   "execution_count": 18,
   "metadata": {
    "ExecuteTime": {
     "end_time": "2020-11-10T14:36:24.666238Z",
     "start_time": "2020-11-10T05:51:02.137814Z"
    },
    "colab": {
     "base_uri": "https://localhost:8080/"
    },
    "executionInfo": {
     "elapsed": 7594143,
     "status": "ok",
     "timestamp": 1604560094681,
     "user": {
      "displayName": "QI HAODI _",
      "photoUrl": "",
      "userId": "13823255111802956482"
     },
     "user_tz": -480
    },
    "hidden": true,
    "id": "icwtKBMLxQuT",
    "outputId": "c91efe5f-d9e9-4b33-f4a5-52ce13c76808"
   },
   "outputs": [
    {
     "data": {
      "application/vnd.jupyter.widget-view+json": {
       "model_id": "170b0aba6c6245c8ab9b345d18cd1096",
       "version_major": 2,
       "version_minor": 0
      },
      "text/plain": [
       "HBox(children=(FloatProgress(value=0.0, description='n_comp loop', max=4.0, style=ProgressStyle(description_wi…"
      ]
     },
     "metadata": {},
     "output_type": "display_data"
    },
    {
     "data": {
      "application/vnd.jupyter.widget-view+json": {
       "model_id": "c6e2bc29c3eb4d3e8ee8a62d52ccca87",
       "version_major": 2,
       "version_minor": 0
      },
      "text/plain": [
       "HBox(children=(FloatProgress(value=0.0, description='alpha loop', max=3.0, style=ProgressStyle(description_wid…"
      ]
     },
     "metadata": {},
     "output_type": "display_data"
    },
    {
     "data": {
      "application/vnd.jupyter.widget-view+json": {
       "model_id": "049a8c91e127452eb47551ce3c3bf867",
       "version_major": 2,
       "version_minor": 0
      },
      "text/plain": [
       "HBox(children=(FloatProgress(value=0.0, description='l1_ratio loop', max=3.0, style=ProgressStyle(description_…"
      ]
     },
     "metadata": {},
     "output_type": "display_data"
    },
    {
     "name": "stdout",
     "output_type": "stream",
     "text": [
      "0 | 5000 | 10000 | n_comp: 10 - alpha: 0.001 - l1 ratio: 0: 0.3413852839489293\n",
      "0 | 5000 | 10000 | n_comp: 10 - alpha: 0.001 - l1 ratio: 0.2: 0.34129578496232005\n",
      "0 | 5000 | 10000 | n_comp: 10 - alpha: 0.001 - l1 ratio: 0.5: 0.3412895653461865\n",
      "\n"
     ]
    },
    {
     "data": {
      "application/vnd.jupyter.widget-view+json": {
       "model_id": "97c169f7e77945158f36ad6e74f01253",
       "version_major": 2,
       "version_minor": 0
      },
      "text/plain": [
       "HBox(children=(FloatProgress(value=0.0, description='l1_ratio loop', max=3.0, style=ProgressStyle(description_…"
      ]
     },
     "metadata": {},
     "output_type": "display_data"
    },
    {
     "name": "stdout",
     "output_type": "stream",
     "text": [
      "0 | 5000 | 10000 | n_comp: 10 - alpha: 0.01 - l1 ratio: 0: 0.34140805944915714\n",
      "0 | 5000 | 10000 | n_comp: 10 - alpha: 0.01 - l1 ratio: 0.2: 0.3413558715462543\n",
      "0 | 5000 | 10000 | n_comp: 10 - alpha: 0.01 - l1 ratio: 0.5: 0.3407003222107872\n",
      "\n"
     ]
    },
    {
     "data": {
      "application/vnd.jupyter.widget-view+json": {
       "model_id": "eca4dad8700a42c7801cd5781bd6a5fa",
       "version_major": 2,
       "version_minor": 0
      },
      "text/plain": [
       "HBox(children=(FloatProgress(value=0.0, description='l1_ratio loop', max=3.0, style=ProgressStyle(description_…"
      ]
     },
     "metadata": {},
     "output_type": "display_data"
    },
    {
     "name": "stdout",
     "output_type": "stream",
     "text": [
      "0 | 5000 | 10000 | n_comp: 10 - alpha: 0.1 - l1 ratio: 0: 0.34144856069003837\n",
      "0 | 5000 | 10000 | n_comp: 10 - alpha: 0.1 - l1 ratio: 0.2: 0.3325907314786284\n",
      "0 | 5000 | 10000 | n_comp: 10 - alpha: 0.1 - l1 ratio: 0.5: 0.32671229617401076\n",
      "\n",
      "\n"
     ]
    },
    {
     "data": {
      "application/vnd.jupyter.widget-view+json": {
       "model_id": "bd261b39fd3e414c93208a585dde2c8a",
       "version_major": 2,
       "version_minor": 0
      },
      "text/plain": [
       "HBox(children=(FloatProgress(value=0.0, description='alpha loop', max=3.0, style=ProgressStyle(description_wid…"
      ]
     },
     "metadata": {},
     "output_type": "display_data"
    },
    {
     "data": {
      "application/vnd.jupyter.widget-view+json": {
       "model_id": "e03dc58dbcfa48f5a4677c046fd3fa26",
       "version_major": 2,
       "version_minor": 0
      },
      "text/plain": [
       "HBox(children=(FloatProgress(value=0.0, description='l1_ratio loop', max=3.0, style=ProgressStyle(description_…"
      ]
     },
     "metadata": {},
     "output_type": "display_data"
    },
    {
     "name": "stdout",
     "output_type": "stream",
     "text": [
      "0 | 5000 | 10000 | n_comp: 20 - alpha: 0.001 - l1 ratio: 0: 0.3703598948810083\n",
      "0 | 5000 | 10000 | n_comp: 20 - alpha: 0.001 - l1 ratio: 0.2: 0.3704009979135622\n",
      "0 | 5000 | 10000 | n_comp: 20 - alpha: 0.001 - l1 ratio: 0.5: 0.3703142056668609\n",
      "\n"
     ]
    },
    {
     "data": {
      "application/vnd.jupyter.widget-view+json": {
       "model_id": "81217123b7d5490181983ba56c8a0914",
       "version_major": 2,
       "version_minor": 0
      },
      "text/plain": [
       "HBox(children=(FloatProgress(value=0.0, description='l1_ratio loop', max=3.0, style=ProgressStyle(description_…"
      ]
     },
     "metadata": {},
     "output_type": "display_data"
    },
    {
     "name": "stdout",
     "output_type": "stream",
     "text": [
      "0 | 5000 | 10000 | n_comp: 20 - alpha: 0.01 - l1 ratio: 0: 0.37040310484572603\n",
      "0 | 5000 | 10000 | n_comp: 20 - alpha: 0.01 - l1 ratio: 0.2: 0.36996830374911616\n",
      "0 | 5000 | 10000 | n_comp: 20 - alpha: 0.01 - l1 ratio: 0.5: 0.36938186947871093\n",
      "\n"
     ]
    },
    {
     "data": {
      "application/vnd.jupyter.widget-view+json": {
       "model_id": "b6047bfe050148038ac907ba62451d72",
       "version_major": 2,
       "version_minor": 0
      },
      "text/plain": [
       "HBox(children=(FloatProgress(value=0.0, description='l1_ratio loop', max=3.0, style=ProgressStyle(description_…"
      ]
     },
     "metadata": {},
     "output_type": "display_data"
    },
    {
     "name": "stdout",
     "output_type": "stream",
     "text": [
      "0 | 5000 | 10000 | n_comp: 20 - alpha: 0.1 - l1 ratio: 0: 0.3704434030645814\n",
      "0 | 5000 | 10000 | n_comp: 20 - alpha: 0.1 - l1 ratio: 0.2: 0.35865774680090573\n",
      "0 | 5000 | 10000 | n_comp: 20 - alpha: 0.1 - l1 ratio: 0.5: 0.35553053486223557\n",
      "\n",
      "\n"
     ]
    },
    {
     "data": {
      "application/vnd.jupyter.widget-view+json": {
       "model_id": "4b01bc84aa0e4cadadb6a440f1dee83b",
       "version_major": 2,
       "version_minor": 0
      },
      "text/plain": [
       "HBox(children=(FloatProgress(value=0.0, description='alpha loop', max=3.0, style=ProgressStyle(description_wid…"
      ]
     },
     "metadata": {},
     "output_type": "display_data"
    },
    {
     "data": {
      "application/vnd.jupyter.widget-view+json": {
       "model_id": "54508ae175b54f70a640feb8c10e75b9",
       "version_major": 2,
       "version_minor": 0
      },
      "text/plain": [
       "HBox(children=(FloatProgress(value=0.0, description='l1_ratio loop', max=3.0, style=ProgressStyle(description_…"
      ]
     },
     "metadata": {},
     "output_type": "display_data"
    },
    {
     "name": "stdout",
     "output_type": "stream",
     "text": [
      "0 | 5000 | 10000 | n_comp: 30 - alpha: 0.001 - l1 ratio: 0: 0.3911091402670012\n",
      "0 | 5000 | 10000 | n_comp: 30 - alpha: 0.001 - l1 ratio: 0.2: 0.3907963567305401\n",
      "0 | 5000 | 10000 | n_comp: 30 - alpha: 0.001 - l1 ratio: 0.5: 0.39050764949015304\n",
      "\n"
     ]
    },
    {
     "data": {
      "application/vnd.jupyter.widget-view+json": {
       "model_id": "4cacb04f83d8476abab2bff55a6e2a0f",
       "version_major": 2,
       "version_minor": 0
      },
      "text/plain": [
       "HBox(children=(FloatProgress(value=0.0, description='l1_ratio loop', max=3.0, style=ProgressStyle(description_…"
      ]
     },
     "metadata": {},
     "output_type": "display_data"
    },
    {
     "name": "stdout",
     "output_type": "stream",
     "text": [
      "0 | 5000 | 10000 | n_comp: 30 - alpha: 0.01 - l1 ratio: 0: 0.3910484922312757\n",
      "0 | 5000 | 10000 | n_comp: 30 - alpha: 0.01 - l1 ratio: 0.2: 0.39039037484195643\n",
      "0 | 5000 | 10000 | n_comp: 30 - alpha: 0.01 - l1 ratio: 0.5: 0.3883264352136215\n",
      "\n"
     ]
    },
    {
     "data": {
      "application/vnd.jupyter.widget-view+json": {
       "model_id": "ad5855ce7ac14861ae1a929a17718c68",
       "version_major": 2,
       "version_minor": 0
      },
      "text/plain": [
       "HBox(children=(FloatProgress(value=0.0, description='l1_ratio loop', max=3.0, style=ProgressStyle(description_…"
      ]
     },
     "metadata": {},
     "output_type": "display_data"
    },
    {
     "name": "stdout",
     "output_type": "stream",
     "text": [
      "0 | 5000 | 10000 | n_comp: 30 - alpha: 0.1 - l1 ratio: 0: 0.39101007676065347\n",
      "0 | 5000 | 10000 | n_comp: 30 - alpha: 0.1 - l1 ratio: 0.2: 0.382382590098259\n",
      "0 | 5000 | 10000 | n_comp: 30 - alpha: 0.1 - l1 ratio: 0.5: 0.38200109476958577\n",
      "\n",
      "\n"
     ]
    },
    {
     "data": {
      "application/vnd.jupyter.widget-view+json": {
       "model_id": "782c3b8e2f1c42d78b50b69cdfbbca2b",
       "version_major": 2,
       "version_minor": 0
      },
      "text/plain": [
       "HBox(children=(FloatProgress(value=0.0, description='alpha loop', max=3.0, style=ProgressStyle(description_wid…"
      ]
     },
     "metadata": {},
     "output_type": "display_data"
    },
    {
     "data": {
      "application/vnd.jupyter.widget-view+json": {
       "model_id": "cb6ac97e9bfb4ec59f79513bae3e2ce6",
       "version_major": 2,
       "version_minor": 0
      },
      "text/plain": [
       "HBox(children=(FloatProgress(value=0.0, description='l1_ratio loop', max=3.0, style=ProgressStyle(description_…"
      ]
     },
     "metadata": {},
     "output_type": "display_data"
    },
    {
     "name": "stdout",
     "output_type": "stream",
     "text": [
      "0 | 5000 | 10000 | n_comp: 40 - alpha: 0.001 - l1 ratio: 0: 0.4041060988855763\n",
      "0 | 5000 | 10000 | n_comp: 40 - alpha: 0.001 - l1 ratio: 0.2: 0.4041688095457272\n",
      "0 | 5000 | 10000 | n_comp: 40 - alpha: 0.001 - l1 ratio: 0.5: 0.40411086522678036\n",
      "\n"
     ]
    },
    {
     "data": {
      "application/vnd.jupyter.widget-view+json": {
       "model_id": "19b3982a7fdf40dca4c4f414469ad630",
       "version_major": 2,
       "version_minor": 0
      },
      "text/plain": [
       "HBox(children=(FloatProgress(value=0.0, description='l1_ratio loop', max=3.0, style=ProgressStyle(description_…"
      ]
     },
     "metadata": {},
     "output_type": "display_data"
    },
    {
     "name": "stdout",
     "output_type": "stream",
     "text": [
      "0 | 5000 | 10000 | n_comp: 40 - alpha: 0.01 - l1 ratio: 0: 0.40414356339309376\n",
      "0 | 5000 | 10000 | n_comp: 40 - alpha: 0.01 - l1 ratio: 0.2: 0.4030645462475672\n",
      "0 | 5000 | 10000 | n_comp: 40 - alpha: 0.01 - l1 ratio: 0.5: 0.4037679059947369\n",
      "\n"
     ]
    },
    {
     "data": {
      "application/vnd.jupyter.widget-view+json": {
       "model_id": "a15000340fab4a15b6135549c08fd1f2",
       "version_major": 2,
       "version_minor": 0
      },
      "text/plain": [
       "HBox(children=(FloatProgress(value=0.0, description='l1_ratio loop', max=3.0, style=ProgressStyle(description_…"
      ]
     },
     "metadata": {},
     "output_type": "display_data"
    },
    {
     "name": "stdout",
     "output_type": "stream",
     "text": [
      "0 | 5000 | 10000 | n_comp: 40 - alpha: 0.1 - l1 ratio: 0: 0.4033250645079105\n",
      "0 | 5000 | 10000 | n_comp: 40 - alpha: 0.1 - l1 ratio: 0.2: 0.40349433296466275\n",
      "0 | 5000 | 10000 | n_comp: 40 - alpha: 0.1 - l1 ratio: 0.5: 0.40054299818506434\n",
      "\n",
      "\n",
      "\n"
     ]
    }
   ],
   "source": [
    "all_scores = []\n",
    "for comp in tqdm(candidate_comp,desc='n_comp loop'):\n",
    "    for alpha in tqdm(candidate_alpha,desc='alpha loop'): \n",
    "        for l1_ratio in tqdm(candidate_l1_ratio,desc='l1_ratio loop'):\n",
    "            # create model\n",
    "            nmf = NMF(n_components=comp, random_state=421, alpha=alpha, l1_ratio=l1_ratio)\n",
    "            V = nmf.fit_transform(user_product_train_coo)\n",
    "            U = nmf.components_.T\n",
    "\n",
    "            # run 10k users in validation\n",
    "            scores = []\n",
    "            for u in range(len(U)):\n",
    "                user_item_score = np.matmul(U[u:u+1], V.T)[0]\n",
    "                recomm_items = np.argsort(user_item_score)[-1:-11:-1]\n",
    "\n",
    "                gt_product = validation_set.query('user_id=={}'.format(u)).product_id.values\n",
    "                score = cal_avg_precision(gt_product, recomm_items)\n",
    "                scores.append(score)\n",
    "\n",
    "                if u % 5000 == 0:\n",
    "                    print(u, end=' | ')\n",
    "                if u>0 and u % 10000 == 0:\n",
    "                    break\n",
    "            all_scores.append(scores)\n",
    "            print(f\"n_comp: {comp} - alpha: {alpha} - l1 ratio: {l1_ratio}: {np.mean(scores)}\")"
   ]
  },
  {
   "cell_type": "markdown",
   "metadata": {
    "hidden": true
   },
   "source": [
    "Conclusion:\n",
    "\n",
    "n_comp: larger the better\n",
    "\n",
    "alpha: hard to say\n",
    "\n",
    "l1_ratio: a bit hard to say"
   ]
  },
  {
   "cell_type": "markdown",
   "metadata": {
    "id": "bEuCTc0zQYy-"
   },
   "source": [
    "## New way of calculating prob\n",
    "\n",
    "user_product_prob = (x-1) / ( max(all_user_product_qty) -1 ) \n",
    "\n",
    "Another way we compute the probability of each user-product is as following:\n",
    "\n",
    "1. The same first step: we computed, for each User and each Product, the number of orders that contains the Product in the train set.<br>\n",
    "(e.g. user 1 purchased product 1 in 5 different order --> user1-product1 = 5)\n",
    "\n",
    "2. We find the **maximum number of orders** that a user has purchased for a product **in the Entire train set** as ```qty_max```\n",
    "\n",
    "3. We computed the ratio of (user-product-1) over the (```qty_max```-1) and use that as the probability."
   ]
  },
  {
   "cell_type": "code",
   "execution_count": 6,
   "metadata": {
    "ExecuteTime": {
     "end_time": "2020-11-12T07:43:09.514271Z",
     "start_time": "2020-11-12T07:42:51.163395Z"
    },
    "executionInfo": {
     "elapsed": 16801,
     "status": "ok",
     "timestamp": 1604721595326,
     "user": {
      "displayName": "QI HAODI _",
      "photoUrl": "",
      "userId": "13823255111802956482"
     },
     "user_tz": -480
    },
    "id": "xjJReRnDUUtY"
   },
   "outputs": [],
   "source": [
    "user_product_train = train_set.groupby(['user_id', 'product_id']).size().reset_index().rename(columns={0: 'quantity'})\n",
    "qty_max = max(user_product_train.quantity)\n",
    "\n",
    "user_product_train.quantity = user_product_train.quantity.apply(lambda x: (x-1)/float(qty_max-1))"
   ]
  },
  {
   "cell_type": "code",
   "execution_count": 7,
   "metadata": {
    "ExecuteTime": {
     "end_time": "2020-11-12T07:43:10.533791Z",
     "start_time": "2020-11-12T07:43:09.735760Z"
    },
    "executionInfo": {
     "elapsed": 1327,
     "status": "ok",
     "timestamp": 1604721597901,
     "user": {
      "displayName": "QI HAODI _",
      "photoUrl": "",
      "userId": "13823255111802956482"
     },
     "user_tz": -480
    },
    "id": "AFk7MtYsVjMU"
   },
   "outputs": [],
   "source": [
    "user_product_train_coo = get_user_product_matrix(user_product_train)"
   ]
  },
  {
   "cell_type": "code",
   "execution_count": 21,
   "metadata": {
    "ExecuteTime": {
     "end_time": "2020-11-10T14:55:16.902088Z",
     "start_time": "2020-11-10T14:55:16.896084Z"
    }
   },
   "outputs": [],
   "source": [
    "candidate_comp = [30,40,50,60,70]\n",
    "candidate_alpha = [0.001, 0.01, 0.1]\n",
    "candidate_l1_ratio = [0, 0.2, 0.5]"
   ]
  },
  {
   "cell_type": "code",
   "execution_count": 22,
   "metadata": {
    "ExecuteTime": {
     "end_time": "2020-11-11T08:42:24.973327Z",
     "start_time": "2020-11-10T14:55:27.024521Z"
    },
    "scrolled": false
   },
   "outputs": [
    {
     "data": {
      "application/vnd.jupyter.widget-view+json": {
       "model_id": "cad64862719e4639b4798244f5610128",
       "version_major": 2,
       "version_minor": 0
      },
      "text/plain": [
       "HBox(children=(FloatProgress(value=0.0, description='n_comp loop', max=5.0, style=ProgressStyle(description_wi…"
      ]
     },
     "metadata": {},
     "output_type": "display_data"
    },
    {
     "data": {
      "application/vnd.jupyter.widget-view+json": {
       "model_id": "a45bd3628c5c4877b8c837eecb80ae1c",
       "version_major": 2,
       "version_minor": 0
      },
      "text/plain": [
       "HBox(children=(FloatProgress(value=0.0, description='alpha loop', max=3.0, style=ProgressStyle(description_wid…"
      ]
     },
     "metadata": {},
     "output_type": "display_data"
    },
    {
     "data": {
      "application/vnd.jupyter.widget-view+json": {
       "model_id": "b7cf42b42a5a4ca29d81f23bd1cda93e",
       "version_major": 2,
       "version_minor": 0
      },
      "text/plain": [
       "HBox(children=(FloatProgress(value=0.0, description='l1_ratio loop', max=3.0, style=ProgressStyle(description_…"
      ]
     },
     "metadata": {},
     "output_type": "display_data"
    },
    {
     "name": "stdout",
     "output_type": "stream",
     "text": [
      "0 | 5000 | 10000 | n_comp: 30 - alpha: 0.001 - l1 ratio: 0: 0.3838530568711836\n",
      "0 | 5000 | 10000 | n_comp: 30 - alpha: 0.001 - l1 ratio: 0.2: 0.3834216463085362\n",
      "0 | 5000 | 10000 | n_comp: 30 - alpha: 0.001 - l1 ratio: 0.5: 0.38328873499649274\n",
      "\n"
     ]
    },
    {
     "data": {
      "application/vnd.jupyter.widget-view+json": {
       "model_id": "3d0ef34b8ec74c398277573805aa30cd",
       "version_major": 2,
       "version_minor": 0
      },
      "text/plain": [
       "HBox(children=(FloatProgress(value=0.0, description='l1_ratio loop', max=3.0, style=ProgressStyle(description_…"
      ]
     },
     "metadata": {},
     "output_type": "display_data"
    },
    {
     "name": "stdout",
     "output_type": "stream",
     "text": [
      "0 | 5000 | 10000 | n_comp: 30 - alpha: 0.01 - l1 ratio: 0: 0.38386781729990266\n",
      "0 | 5000 | 10000 | n_comp: 30 - alpha: 0.01 - l1 ratio: 0.2: 0.38296019084788424\n",
      "0 | 5000 | 10000 | n_comp: 30 - alpha: 0.01 - l1 ratio: 0.5: 0.38261683761706977\n",
      "\n"
     ]
    },
    {
     "data": {
      "application/vnd.jupyter.widget-view+json": {
       "model_id": "6497cd89dfd642908bb7ac31f9ac4391",
       "version_major": 2,
       "version_minor": 0
      },
      "text/plain": [
       "HBox(children=(FloatProgress(value=0.0, description='l1_ratio loop', max=3.0, style=ProgressStyle(description_…"
      ]
     },
     "metadata": {},
     "output_type": "display_data"
    },
    {
     "name": "stdout",
     "output_type": "stream",
     "text": [
      "0 | 5000 | 10000 | n_comp: 30 - alpha: 0.1 - l1 ratio: 0: 0.38381543034283117\n",
      "0 | 5000 | 10000 | n_comp: 30 - alpha: 0.1 - l1 ratio: 0.2: 0.38132517643927216\n",
      "0 | 5000 | 10000 | n_comp: 30 - alpha: 0.1 - l1 ratio: 0.5: 0.3801373836066885\n",
      "\n",
      "\n"
     ]
    },
    {
     "data": {
      "application/vnd.jupyter.widget-view+json": {
       "model_id": "867158609efe4e49b88c9d9e474aec85",
       "version_major": 2,
       "version_minor": 0
      },
      "text/plain": [
       "HBox(children=(FloatProgress(value=0.0, description='alpha loop', max=3.0, style=ProgressStyle(description_wid…"
      ]
     },
     "metadata": {},
     "output_type": "display_data"
    },
    {
     "data": {
      "application/vnd.jupyter.widget-view+json": {
       "model_id": "61616c493c104b60be82d595052fdc33",
       "version_major": 2,
       "version_minor": 0
      },
      "text/plain": [
       "HBox(children=(FloatProgress(value=0.0, description='l1_ratio loop', max=3.0, style=ProgressStyle(description_…"
      ]
     },
     "metadata": {},
     "output_type": "display_data"
    },
    {
     "name": "stdout",
     "output_type": "stream",
     "text": [
      "0 | 5000 | 10000 | n_comp: 40 - alpha: 0.001 - l1 ratio: 0: 0.39769397589404576\n",
      "0 | 5000 | 10000 | n_comp: 40 - alpha: 0.001 - l1 ratio: 0.2: 0.39765827245380775\n",
      "0 | 5000 | 10000 | n_comp: 40 - alpha: 0.001 - l1 ratio: 0.5: 0.39733092225232\n",
      "\n"
     ]
    },
    {
     "data": {
      "application/vnd.jupyter.widget-view+json": {
       "model_id": "c65715b8d523430fb04f27735ab6202b",
       "version_major": 2,
       "version_minor": 0
      },
      "text/plain": [
       "HBox(children=(FloatProgress(value=0.0, description='l1_ratio loop', max=3.0, style=ProgressStyle(description_…"
      ]
     },
     "metadata": {},
     "output_type": "display_data"
    },
    {
     "name": "stdout",
     "output_type": "stream",
     "text": [
      "0 | 5000 | 10000 | n_comp: 40 - alpha: 0.01 - l1 ratio: 0: 0.3976832362272717\n",
      "0 | 5000 | 10000 | n_comp: 40 - alpha: 0.01 - l1 ratio: 0.2: 0.3966498874646423\n",
      "0 | 5000 | 10000 | n_comp: 40 - alpha: 0.01 - l1 ratio: 0.5: 0.39549411360199327\n",
      "\n"
     ]
    },
    {
     "data": {
      "application/vnd.jupyter.widget-view+json": {
       "model_id": "a6d51a374019493394f3e6a7060ebdc9",
       "version_major": 2,
       "version_minor": 0
      },
      "text/plain": [
       "HBox(children=(FloatProgress(value=0.0, description='l1_ratio loop', max=3.0, style=ProgressStyle(description_…"
      ]
     },
     "metadata": {},
     "output_type": "display_data"
    },
    {
     "name": "stdout",
     "output_type": "stream",
     "text": [
      "0 | 5000 | 10000 | n_comp: 40 - alpha: 0.1 - l1 ratio: 0: 0.3977354102426744\n",
      "0 | 5000 | 10000 | n_comp: 40 - alpha: 0.1 - l1 ratio: 0.2: 0.39383432293266013\n",
      "0 | 5000 | 10000 | n_comp: 40 - alpha: 0.1 - l1 ratio: 0.5: 0.3937354604329187\n",
      "\n",
      "\n"
     ]
    },
    {
     "data": {
      "application/vnd.jupyter.widget-view+json": {
       "model_id": "709020ef0ba7403993f9467616fc1318",
       "version_major": 2,
       "version_minor": 0
      },
      "text/plain": [
       "HBox(children=(FloatProgress(value=0.0, description='alpha loop', max=3.0, style=ProgressStyle(description_wid…"
      ]
     },
     "metadata": {},
     "output_type": "display_data"
    },
    {
     "data": {
      "application/vnd.jupyter.widget-view+json": {
       "model_id": "ca6b6e2079dd4bf196158684f3352d76",
       "version_major": 2,
       "version_minor": 0
      },
      "text/plain": [
       "HBox(children=(FloatProgress(value=0.0, description='l1_ratio loop', max=3.0, style=ProgressStyle(description_…"
      ]
     },
     "metadata": {},
     "output_type": "display_data"
    },
    {
     "name": "stdout",
     "output_type": "stream",
     "text": [
      "0 | 5000 | 10000 | n_comp: 50 - alpha: 0.001 - l1 ratio: 0: 0.4070688806812189\n",
      "0 | 5000 | 10000 | n_comp: 50 - alpha: 0.001 - l1 ratio: 0.2: 0.4068394529437205\n",
      "0 | 5000 | 10000 | n_comp: 50 - alpha: 0.001 - l1 ratio: 0.5: 0.40661607316529624\n",
      "\n"
     ]
    },
    {
     "data": {
      "application/vnd.jupyter.widget-view+json": {
       "model_id": "c0bb5e19a46d4851b46352449031b3f6",
       "version_major": 2,
       "version_minor": 0
      },
      "text/plain": [
       "HBox(children=(FloatProgress(value=0.0, description='l1_ratio loop', max=3.0, style=ProgressStyle(description_…"
      ]
     },
     "metadata": {},
     "output_type": "display_data"
    },
    {
     "name": "stdout",
     "output_type": "stream",
     "text": [
      "0 | 5000 | 10000 | n_comp: 50 - alpha: 0.01 - l1 ratio: 0: 0.40707177721696214\n",
      "0 | 5000 | 10000 | n_comp: 50 - alpha: 0.01 - l1 ratio: 0.2: 0.40635828394043944\n",
      "0 | 5000 | 10000 | n_comp: 50 - alpha: 0.01 - l1 ratio: 0.5: 0.4060968596860394\n",
      "\n"
     ]
    },
    {
     "data": {
      "application/vnd.jupyter.widget-view+json": {
       "model_id": "c7455a079a9746d7ab23ccf6aa549633",
       "version_major": 2,
       "version_minor": 0
      },
      "text/plain": [
       "HBox(children=(FloatProgress(value=0.0, description='l1_ratio loop', max=3.0, style=ProgressStyle(description_…"
      ]
     },
     "metadata": {},
     "output_type": "display_data"
    },
    {
     "name": "stdout",
     "output_type": "stream",
     "text": [
      "0 | 5000 | 10000 | n_comp: 50 - alpha: 0.1 - l1 ratio: 0: 0.40699910525135446\n",
      "0 | 5000 | 10000 | n_comp: 50 - alpha: 0.1 - l1 ratio: 0.2: 0.40408993339454163\n",
      "0 | 5000 | 10000 | n_comp: 50 - alpha: 0.1 - l1 ratio: 0.5: 0.40299009249364814\n",
      "\n",
      "\n"
     ]
    },
    {
     "data": {
      "application/vnd.jupyter.widget-view+json": {
       "model_id": "f499ef3796dc4c529e20d68b0447e30c",
       "version_major": 2,
       "version_minor": 0
      },
      "text/plain": [
       "HBox(children=(FloatProgress(value=0.0, description='alpha loop', max=3.0, style=ProgressStyle(description_wid…"
      ]
     },
     "metadata": {},
     "output_type": "display_data"
    },
    {
     "data": {
      "application/vnd.jupyter.widget-view+json": {
       "model_id": "7662393982c8437ca5a943824d588363",
       "version_major": 2,
       "version_minor": 0
      },
      "text/plain": [
       "HBox(children=(FloatProgress(value=0.0, description='l1_ratio loop', max=3.0, style=ProgressStyle(description_…"
      ]
     },
     "metadata": {},
     "output_type": "display_data"
    },
    {
     "name": "stdout",
     "output_type": "stream",
     "text": [
      "0 | 5000 | 10000 | n_comp: 60 - alpha: 0.001 - l1 ratio: 0: 0.4144738297649197\n",
      "0 | 5000 | 10000 | n_comp: 60 - alpha: 0.001 - l1 ratio: 0.2: 0.4142497632165481\n",
      "0 | 5000 | 10000 | n_comp: 60 - alpha: 0.001 - l1 ratio: 0.5: 0.4139262033106339\n",
      "\n"
     ]
    },
    {
     "data": {
      "application/vnd.jupyter.widget-view+json": {
       "model_id": "c50acdabc81545ee934c6ed68cd11aea",
       "version_major": 2,
       "version_minor": 0
      },
      "text/plain": [
       "HBox(children=(FloatProgress(value=0.0, description='l1_ratio loop', max=3.0, style=ProgressStyle(description_…"
      ]
     },
     "metadata": {},
     "output_type": "display_data"
    },
    {
     "name": "stdout",
     "output_type": "stream",
     "text": [
      "0 | 5000 | 10000 | n_comp: 60 - alpha: 0.01 - l1 ratio: 0: 0.4144805615652846\n",
      "0 | 5000 | 10000 | n_comp: 60 - alpha: 0.01 - l1 ratio: 0.2: 0.4138007305026615\n",
      "0 | 5000 | 10000 | n_comp: 60 - alpha: 0.01 - l1 ratio: 0.5: 0.4118120030872952\n",
      "\n"
     ]
    },
    {
     "data": {
      "application/vnd.jupyter.widget-view+json": {
       "model_id": "245d90fcbb244252b7b0614183ad9869",
       "version_major": 2,
       "version_minor": 0
      },
      "text/plain": [
       "HBox(children=(FloatProgress(value=0.0, description='l1_ratio loop', max=3.0, style=ProgressStyle(description_…"
      ]
     },
     "metadata": {},
     "output_type": "display_data"
    },
    {
     "name": "stdout",
     "output_type": "stream",
     "text": [
      "0 | 5000 | 10000 | n_comp: 60 - alpha: 0.1 - l1 ratio: 0: 0.41425620399348323\n",
      "0 | 5000 | 10000 | n_comp: 60 - alpha: 0.1 - l1 ratio: 0.2: 0.4119791023858057\n",
      "0 | 5000 | 10000 | n_comp: 60 - alpha: 0.1 - l1 ratio: 0.5: 0.4114175754098815\n",
      "\n",
      "\n"
     ]
    },
    {
     "data": {
      "application/vnd.jupyter.widget-view+json": {
       "model_id": "3fc5dff654e7467883b40229e6b3cb25",
       "version_major": 2,
       "version_minor": 0
      },
      "text/plain": [
       "HBox(children=(FloatProgress(value=0.0, description='alpha loop', max=3.0, style=ProgressStyle(description_wid…"
      ]
     },
     "metadata": {},
     "output_type": "display_data"
    },
    {
     "data": {
      "application/vnd.jupyter.widget-view+json": {
       "model_id": "96e6b6bffc00407b9cbe0b34f54228ba",
       "version_major": 2,
       "version_minor": 0
      },
      "text/plain": [
       "HBox(children=(FloatProgress(value=0.0, description='l1_ratio loop', max=3.0, style=ProgressStyle(description_…"
      ]
     },
     "metadata": {},
     "output_type": "display_data"
    },
    {
     "name": "stdout",
     "output_type": "stream",
     "text": [
      "0 | 5000 | 10000 | n_comp: 70 - alpha: 0.001 - l1 ratio: 0: 0.4186935981855329\n",
      "0 | 5000 | 10000 | n_comp: 70 - alpha: 0.001 - l1 ratio: 0.2: 0.41838512616677354\n",
      "0 | 5000 | 10000 | n_comp: 70 - alpha: 0.001 - l1 ratio: 0.5: 0.41831090390268105\n",
      "\n"
     ]
    },
    {
     "data": {
      "application/vnd.jupyter.widget-view+json": {
       "model_id": "4cfc852e63ac4d6ca651c7e1e29d712b",
       "version_major": 2,
       "version_minor": 0
      },
      "text/plain": [
       "HBox(children=(FloatProgress(value=0.0, description='l1_ratio loop', max=3.0, style=ProgressStyle(description_…"
      ]
     },
     "metadata": {},
     "output_type": "display_data"
    },
    {
     "name": "stdout",
     "output_type": "stream",
     "text": [
      "0 | 5000 | 10000 | n_comp: 70 - alpha: 0.01 - l1 ratio: 0: 0.41867645704250434\n",
      "0 | 5000 | 10000 | n_comp: 70 - alpha: 0.01 - l1 ratio: 0.2: 0.4182060326185824\n",
      "0 | 5000 | 10000 | n_comp: 70 - alpha: 0.01 - l1 ratio: 0.5: 0.4181642234963956\n",
      "\n"
     ]
    },
    {
     "data": {
      "application/vnd.jupyter.widget-view+json": {
       "model_id": "44fd66ff8fb649acb1f86ba6005cae70",
       "version_major": 2,
       "version_minor": 0
      },
      "text/plain": [
       "HBox(children=(FloatProgress(value=0.0, description='l1_ratio loop', max=3.0, style=ProgressStyle(description_…"
      ]
     },
     "metadata": {},
     "output_type": "display_data"
    },
    {
     "name": "stdout",
     "output_type": "stream",
     "text": [
      "0 | 5000 | 10000 | n_comp: 70 - alpha: 0.1 - l1 ratio: 0: 0.4187344626270555\n",
      "0 | 5000 | 10000 | n_comp: 70 - alpha: 0.1 - l1 ratio: 0.2: 0.41799522019327423\n",
      "0 | 5000 | 10000 | n_comp: 70 - alpha: 0.1 - l1 ratio: 0.5: 0.41680781693498575\n",
      "\n",
      "\n",
      "\n"
     ]
    }
   ],
   "source": [
    "all_scores = []\n",
    "for comp in tqdm(candidate_comp,desc='n_comp loop'):\n",
    "    for alpha in tqdm(candidate_alpha,desc='alpha loop'): \n",
    "        for l1_ratio in tqdm(candidate_l1_ratio,desc='l1_ratio loop'):\n",
    "            # create model\n",
    "            nmf = NMF(n_components=comp, random_state=421, alpha=alpha, l1_ratio=l1_ratio)\n",
    "            V = nmf.fit_transform(user_product_train_coo)\n",
    "            U = nmf.components_.T\n",
    "\n",
    "            # run 10k users in validation\n",
    "            scores = []\n",
    "            for u in range(len(U)):\n",
    "                user_item_score = np.matmul(U[u:u+1], V.T)[0]\n",
    "                recomm_items = np.argsort(user_item_score)[-1:-11:-1]\n",
    "\n",
    "                gt_product = validation_set.query('user_id=={}'.format(u)).product_id.values\n",
    "                score = cal_avg_precision(gt_product, recomm_items)\n",
    "                scores.append(score)\n",
    "\n",
    "                if u % 5000 == 0:\n",
    "                    print(u, end=' | ')\n",
    "                if u>0 and u % 10000 == 0:\n",
    "                    break\n",
    "            all_scores.append(scores)\n",
    "            print(f\"n_comp: {comp} - alpha: {alpha} - l1 ratio: {l1_ratio}: {np.mean(scores)}\")"
   ]
  },
  {
   "cell_type": "code",
   "execution_count": 9,
   "metadata": {
    "ExecuteTime": {
     "end_time": "2020-11-12T11:21:24.740069Z",
     "start_time": "2020-11-12T08:04:36.141667Z"
    },
    "colab": {
     "base_uri": "https://localhost:8080/"
    },
    "executionInfo": {
     "elapsed": 17137618,
     "status": "ok",
     "timestamp": 1604752533689,
     "user": {
      "displayName": "QI HAODI _",
      "photoUrl": "",
      "userId": "13823255111802956482"
     },
     "user_tz": -480
    },
    "id": "UHCJjbbProCW",
    "outputId": "7b218ea5-51d5-4603-eb6e-788608f3952e"
   },
   "outputs": [
    {
     "name": "stdout",
     "output_type": "stream",
     "text": [
      "0 | 5000 | 10000 | n_comp: 80 - 0.42418801197481665\n",
      "0 | 5000 | 10000 | n_comp: 90 - 0.4325404685847868\n",
      "0 | 5000 | 10000 | n_comp: 100 - 0.43421914438059844\n",
      "0 | 5000 | 10000 | n_comp: 110 - 0.44073791929512013\n",
      "0 | 5000 | 10000 | n_comp: 120 - 0.442733161994962\n"
     ]
    }
   ],
   "source": [
    "candidate_comp = range(80,130,10)\n",
    "\n",
    "all_scores = []\n",
    "combinations = []\n",
    "for comp in candidate_comp:\n",
    "    # create model\n",
    "    nmf = NMF(n_components=comp, random_state=421, alpha=0.1)\n",
    "    V = nmf.fit_transform(user_product_train_coo)\n",
    "    U = nmf.components_.T\n",
    "\n",
    "    # run 10k users in validation\n",
    "    scores = []\n",
    "    for u in range(len(U)):\n",
    "        user_item_score = np.matmul(U[u:u+1], V.T)[0]\n",
    "        recomm_items = np.argsort(user_item_score)[-1:-11:-1]\n",
    "\n",
    "        gt_product = validation_set.query('user_id=={}'.format(u)).product_id.values\n",
    "        score = cal_avg_precision(gt_product, recomm_items)\n",
    "        scores.append(score)\n",
    "\n",
    "        if u % 5000 == 0:\n",
    "            print(u, end=' | ')\n",
    "        if u>0 and u % 10000 == 0:\n",
    "            break\n",
    "    all_scores.append(scores)\n",
    "    combinations.append(f'n_comp: {comp}')\n",
    "    print(f\"n_comp: {comp} - {np.mean(scores)}\")"
   ]
  },
  {
   "cell_type": "code",
   "execution_count": 2,
   "metadata": {
    "ExecuteTime": {
     "end_time": "2020-11-18T03:20:21.751912Z",
     "start_time": "2020-11-18T03:20:21.745639Z"
    },
    "id": "z_niMq5KjY-v"
   },
   "outputs": [],
   "source": [
    "scores = {\n",
    "    30:0.38381543034283117,\n",
    "    40:0.3977354102426744,\n",
    "    50:0.40699910525135446,\n",
    "    60:0.41425620399348323,\n",
    "    70:0.4187344626270555,\n",
    "    80:0.42418801197481665,\n",
    "    90:0.4325404685847868,\n",
    "    100:0.43421914438059844,\n",
    "    110:0.44073791929512013,\n",
    "    120:0.442733161994962\n",
    "}"
   ]
  },
  {
   "cell_type": "code",
   "execution_count": 5,
   "metadata": {
    "ExecuteTime": {
     "end_time": "2020-11-18T03:21:19.108799Z",
     "start_time": "2020-11-18T03:21:18.893206Z"
    },
    "id": "KlvsqbBo1D9p"
   },
   "outputs": [
    {
     "data": {
      "image/png": "[encoded data removed]",
      "text/plain": [
       "<Figure size 432x288 with 1 Axes>"
      ]
     },
     "metadata": {
      "needs_background": "light"
     },
     "output_type": "display_data"
    }
   ],
   "source": [
    "plt.plot(figsize=(10,8))\n",
    "df_K = pd.DataFrame.from_dict(scores,orient='index',columns=['score'])\n",
    "plt.plot(df_K)\n",
    "plt.xlabel('Number of components')\n",
    "plt.ylabel('MAP')\n",
    "plt.title('MAP of 10k users in validation with different number of comp')\n",
    "plt.savefig(os.path.join('pic','MAP-vs-n_components.png'),dpi=100)"
   ]
  },
  {
   "cell_type": "code",
   "execution_count": 29,
   "metadata": {
    "ExecuteTime": {
     "end_time": "2020-11-12T13:23:47.978345Z",
     "start_time": "2020-11-12T13:23:47.951345Z"
    },
    "code_folding": [
     0
    ]
   },
   "outputs": [],
   "source": [
    "perf = [\n",
    "    [30,0.001,0,0.3838530568711836],\n",
    "    [30,0.001,0.2,0.3834216463085362],\n",
    "    [30,0.001,0.5,0.38328873499649274],\n",
    "    \n",
    "    [30,0.01,0,0.38386781729990266],\n",
    "    [30,0.01,0.2,0.38296019084788424],\n",
    "    [30,0.01,0.5,0.38261683761706977],\n",
    "    \n",
    "    [30,0.1,0,0.38381543034283117],\n",
    "    [30,0.1,0.2,0.38132517643927216],\n",
    "    [30,0.1,0.5,0.3801373836066885],\n",
    "\n",
    "    [40,0.001,0,0.39769397589404576],\n",
    "    [40,0.001,0.2,0.39765827245380775],\n",
    "    [40,0.001,0.5,0.39733092225232],\n",
    "    \n",
    "    [40,0.01,0,0.3976832362272717],\n",
    "    [40,0.01,0.2,0.3966498874646423],\n",
    "    [40,0.01,0.5,0.39549411360199327],\n",
    "    \n",
    "    [40,0.1,0,0.3977354102426744],\n",
    "    [40,0.1,0.2,0.39383432293266013],\n",
    "    [40,0.1,0.5,0.3937354604329187],\n",
    "    \n",
    "    [50,0.001,0,0.4070688806812189],\n",
    "    [50,0.001,0.2,0.4068394529437205],\n",
    "    [50,0.001,0.5,0.40661607316529624],\n",
    "    \n",
    "    [50,0.01,0,0.40707177721696214],\n",
    "    [50,0.01,0.2,0.40635828394043944],\n",
    "    [50,0.01,0.5,0.4060968596860394],\n",
    "    \n",
    "    [50,0.1,0,0.40699910525135446],\n",
    "    [50,0.1,0.2,0.40408993339454163],\n",
    "    [50,0.1,0.5,0.40299009249364814],\n",
    "    \n",
    "    [60,0.001,0,0.4144738297649197],\n",
    "    [60,0.001,0.2,0.4142497632165481],\n",
    "    [60,0.001,0.5,0.4139262033106339],\n",
    "    \n",
    "    [60,0.01,0,0.4144805615652846],\n",
    "    [60,0.01,0.2,0.4138007305026615],\n",
    "    [60,0.01,0.5,0.4118120030872952],\n",
    "    \n",
    "    [60,0.1,0,0.41425620399348323],\n",
    "    [60,0.1,0.2,0.4119791023858057],\n",
    "    [60,0.1,0.5,0.4114175754098815],\n",
    "    \n",
    "    [70,0.001,0,0.4186935981855329],\n",
    "    [70,0.001,0.2,0.41838512616677354],\n",
    "    [70,0.001,0.5,0.41831090390268105],\n",
    "    \n",
    "    [70,0.01,0,0.41867645704250434],\n",
    "    [70,0.01,0.2,0.4182060326185824],\n",
    "    [70,0.01,0.5,0.4181642234963956],\n",
    "    \n",
    "    [70,0.1,0,0.4187344626270555],\n",
    "    [70,0.1,0.2,0.41799522019327423],\n",
    "    [70,0.1,0.5,0.41680781693498575],\n",
    "]\n"
   ]
  },
  {
   "cell_type": "code",
   "execution_count": 31,
   "metadata": {
    "ExecuteTime": {
     "end_time": "2020-11-12T13:24:32.444502Z",
     "start_time": "2020-11-12T13:24:32.432507Z"
    }
   },
   "outputs": [],
   "source": [
    "df_perf = pd.DataFrame(perf, columns=['n_components','alpha','l1_ratio','MAP'])"
   ]
  },
  {
   "cell_type": "code",
   "execution_count": 53,
   "metadata": {
    "ExecuteTime": {
     "end_time": "2020-11-12T13:32:15.785467Z",
     "start_time": "2020-11-12T13:32:15.513952Z"
    }
   },
   "outputs": [
    {
     "data": {
      "text/plain": [
       "Text(0.5, 1.0, 'MAP of 10k users in validation with different n_components')"
      ]
     },
     "execution_count": 53,
     "metadata": {},
     "output_type": "execute_result"
    },
    {
     "data": {
      "image/png": "[encoded data removed]",
      "text/plain": [
       "<Figure size 432x288 with 1 Axes>"
      ]
     },
     "metadata": {},
     "output_type": "display_data"
    }
   ],
   "source": [
    "df_perf.iloc[:,[0,3]].groupby('n_components').mean().plot()\n",
    "plt.xlabel('n_components')\n",
    "plt.ylabel('MAP')\n",
    "plt.title('MAP of 10k users in validation with different n_components')"
   ]
  },
  {
   "cell_type": "code",
   "execution_count": 56,
   "metadata": {
    "ExecuteTime": {
     "end_time": "2020-11-12T13:57:51.081769Z",
     "start_time": "2020-11-12T13:57:50.883187Z"
    }
   },
   "outputs": [
    {
     "data": {
      "text/plain": [
       "Text(0.5, 1.0, 'MAP of 10k users in validation with different alpha')"
      ]
     },
     "execution_count": 56,
     "metadata": {},
     "output_type": "execute_result"
    },
    {
     "data": {
      "image/png": "[encoded data removed]",
      "text/plain": [
       "<Figure size 432x288 with 1 Axes>"
      ]
     },
     "metadata": {},
     "output_type": "display_data"
    }
   ],
   "source": [
    "df_perf.iloc[:,[1,3]].groupby('alpha').mean().plot()\n",
    "plt.xlabel('alpha')\n",
    "plt.ylabel('MAP')\n",
    "plt.title('MAP of 10k users in validation with different alpha')"
   ]
  },
  {
   "cell_type": "code",
   "execution_count": 50,
   "metadata": {
    "ExecuteTime": {
     "end_time": "2020-11-12T13:30:27.241916Z",
     "start_time": "2020-11-12T13:30:27.049872Z"
    },
    "scrolled": true
   },
   "outputs": [
    {
     "data": {
      "text/plain": [
       "Text(0.5, 1.0, 'MAP of 10k users in validation with different l1_ratio')"
      ]
     },
     "execution_count": 50,
     "metadata": {},
     "output_type": "execute_result"
    },
    {
     "data": {
      "image/png": "[encoded data removed]",
      "text/plain": [
       "<Figure size 432x288 with 1 Axes>"
      ]
     },
     "metadata": {},
     "output_type": "display_data"
    }
   ],
   "source": [
    "df_perf.iloc[:,[2,3]].groupby('l1_ratio').mean().plot()\n",
    "plt.xlabel('l1_ratio')\n",
    "plt.ylabel('MAP')\n",
    "plt.title('MAP of 10k users in validation with different l1_ratio')"
   ]
  },
  {
   "cell_type": "code",
   "execution_count": 44,
   "metadata": {
    "ExecuteTime": {
     "end_time": "2020-11-12T13:27:58.162945Z",
     "start_time": "2020-11-12T13:27:58.128849Z"
    }
   },
   "outputs": [
    {
     "data": {
      "text/html": [
       "<div>\n",
       "<style scoped>\n",
       "    .dataframe tbody tr th:only-of-type {\n",
       "        vertical-align: middle;\n",
       "    }\n",
       "\n",
       "    .dataframe tbody tr th {\n",
       "        vertical-align: top;\n",
       "    }\n",
       "\n",
       "    .dataframe thead th {\n",
       "        text-align: right;\n",
       "    }\n",
       "</style>\n",
       "<table border=\"1\" class=\"dataframe\">\n",
       "  <thead>\n",
       "    <tr style=\"text-align: right;\">\n",
       "      <th></th>\n",
       "      <th>MAP</th>\n",
       "    </tr>\n",
       "    <tr>\n",
       "      <th>l1_ratio</th>\n",
       "      <th></th>\n",
       "    </tr>\n",
       "  </thead>\n",
       "  <tbody>\n",
       "    <tr>\n",
       "      <th>0.0</th>\n",
       "      <td>0.404340</td>\n",
       "    </tr>\n",
       "    <tr>\n",
       "      <th>0.2</th>\n",
       "      <td>0.403184</td>\n",
       "    </tr>\n",
       "    <tr>\n",
       "      <th>0.5</th>\n",
       "      <td>0.402583</td>\n",
       "    </tr>\n",
       "  </tbody>\n",
       "</table>\n",
       "</div>"
      ],
      "text/plain": [
       "               MAP\n",
       "l1_ratio          \n",
       "0.0       0.404340\n",
       "0.2       0.403184\n",
       "0.5       0.402583"
      ]
     },
     "execution_count": 44,
     "metadata": {},
     "output_type": "execute_result"
    }
   ],
   "source": [
    "nmf()"
   ]
  }
 ],
 "metadata": {
  "colab": {
   "authorship_tag": "ABX9TyOeFWLMmGI3UlbQOG6zRPkU",
   "collapsed_sections": [
    "evqNF24exL-E"
   ],
   "mount_file_id": "1jwBrq1vEBzsKprRAxdC44zyxsm00igv0",
   "name": "NMF.ipynb",
   "provenance": []
  },
  "kernelspec": {
   "display_name": "Python 3",
   "language": "python",
   "name": "python3"
  },
  "language_info": {
   "codemirror_mode": {
    "name": "ipython",
    "version": 3
   },
   "file_extension": ".py",
   "mimetype": "text/x-python",
   "name": "python",
   "nbconvert_exporter": "python",
   "pygments_lexer": "ipython3",
   "version": "3.8.3"
  },
  "toc": {
   "base_numbering": 1,
   "nav_menu": {},
   "number_sections": true,
   "sideBar": true,
   "skip_h1_title": false,
   "title_cell": "Table of Contents",
   "title_sidebar": "Contents",
   "toc_cell": false,
   "toc_position": {},
   "toc_section_display": true,
   "toc_window_display": false
  },
  "varInspector": {
   "cols": {
    "lenName": 16,
    "lenType": 16,
    "lenVar": 40
   },
   "kernels_config": {
    "python": {
     "delete_cmd_postfix": "",
     "delete_cmd_prefix": "del ",
     "library": "var_list.py",
     "varRefreshCmd": "print(var_dic_list())"
    },
    "r": {
     "delete_cmd_postfix": ") ",
     "delete_cmd_prefix": "rm(",
     "library": "var_list.r",
     "varRefreshCmd": "cat(var_dic_list()) "
    }
   },
   "types_to_exclude": [
    "module",
    "function",
    "builtin_function_or_method",
    "instance",
    "_Feature"
   ],
   "window_display": false
  }
 },
 "nbformat": 4,
 "nbformat_minor": 1
}
