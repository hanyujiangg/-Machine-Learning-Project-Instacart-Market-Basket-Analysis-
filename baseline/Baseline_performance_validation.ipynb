{
 "cells": [
  {
   "cell_type": "code",
   "execution_count": 1,
   "metadata": {
    "ExecuteTime": {
     "end_time": "2020-11-21T13:08:01.202113Z",
     "start_time": "2020-11-21T13:08:00.149077Z"
    },
    "id": "h84LTH1Em2Nj"
   },
   "outputs": [],
   "source": [
    "import numpy as np\n",
    "import pandas as pd\n",
    "import matplotlib.pyplot as plt\n",
    "%matplotlib inline\n",
    "\n",
    "import os, pickle\n",
    "from time import time\n",
    "from proj_util import *\n",
    "from tqdm import tqdm\n",
    "\n",
    "FOLDER_PATH = ''"
   ]
  },
  {
   "cell_type": "code",
   "execution_count": 2,
   "metadata": {
    "ExecuteTime": {
     "end_time": "2020-11-21T13:08:09.546971Z",
     "start_time": "2020-11-21T13:08:06.660135Z"
    },
    "id": "1yMM3HvJUV8M"
   },
   "outputs": [],
   "source": [
    "train_set = pickle.load(openc(os.path.join(FOLDER_PATH,'pickle','train_set.p'),'rb'))\n",
    "validation_set = pickle.load(open(os.path.join(FOLDER_PATH,'pickle','validation_set.p'),'rb'))\n",
    "\n",
    "train_order = pickle.load(open(os.path.join(FOLDER_PATH,'pickle','train_order.p'),'rb'))\n",
    "validation_order = pickle.load(open(os.path.join(FOLDER_PATH,'pickle','validation_order.p'),'rb'))"
   ]
  },
  {
   "cell_type": "code",
   "execution_count": 4,
   "metadata": {
    "ExecuteTime": {
     "end_time": "2020-11-10T02:36:21.140716Z",
     "start_time": "2020-11-10T02:36:11.162718Z"
    },
    "id": "YxDpt3PeUeI2"
   },
   "outputs": [],
   "source": [
    "order_product_prior = pd.read_csv(os.path.join(FOLDER_PATH,'data/order_products__prior.csv'))"
   ]
  },
  {
   "cell_type": "code",
   "execution_count": 5,
   "metadata": {
    "ExecuteTime": {
     "end_time": "2020-11-10T02:38:29.197804Z",
     "start_time": "2020-11-10T02:38:27.047325Z"
    },
    "colab": {
     "base_uri": "https://localhost:8080/",
     "height": 204
    },
    "executionInfo": {
     "elapsed": 3044,
     "status": "ok",
     "timestamp": 1604411931357,
     "user": {
      "displayName": "QI HAODI _",
      "photoUrl": "",
      "userId": "13823255111802956482"
     },
     "user_tz": -480
    },
    "id": "OcAo52Uy8Gqj",
    "outputId": "182f1b0e-f120-431d-ca46-f94b623ba0a6"
   },
   "outputs": [
    {
     "data": {
      "text/html": [
       "<div>\n",
       "<style scoped>\n",
       "    .dataframe tbody tr th:only-of-type {\n",
       "        vertical-align: middle;\n",
       "    }\n",
       "\n",
       "    .dataframe tbody tr th {\n",
       "        vertical-align: top;\n",
       "    }\n",
       "\n",
       "    .dataframe thead th {\n",
       "        text-align: right;\n",
       "    }\n",
       "</style>\n",
       "<table border=\"1\" class=\"dataframe\">\n",
       "  <thead>\n",
       "    <tr style=\"text-align: right;\">\n",
       "      <th></th>\n",
       "      <th>product_id</th>\n",
       "      <th>qty</th>\n",
       "    </tr>\n",
       "  </thead>\n",
       "  <tbody>\n",
       "    <tr>\n",
       "      <th>0</th>\n",
       "      <td>1</td>\n",
       "      <td>1746</td>\n",
       "    </tr>\n",
       "    <tr>\n",
       "      <th>1</th>\n",
       "      <td>2</td>\n",
       "      <td>85</td>\n",
       "    </tr>\n",
       "    <tr>\n",
       "      <th>2</th>\n",
       "      <td>3</td>\n",
       "      <td>269</td>\n",
       "    </tr>\n",
       "    <tr>\n",
       "      <th>3</th>\n",
       "      <td>4</td>\n",
       "      <td>292</td>\n",
       "    </tr>\n",
       "    <tr>\n",
       "      <th>4</th>\n",
       "      <td>5</td>\n",
       "      <td>15</td>\n",
       "    </tr>\n",
       "  </tbody>\n",
       "</table>\n",
       "</div>"
      ],
      "text/plain": [
       "   product_id   qty\n",
       "0           1  1746\n",
       "1           2    85\n",
       "2           3   269\n",
       "3           4   292\n",
       "4           5    15"
      ]
     },
     "execution_count": 5,
     "metadata": {},
     "output_type": "execute_result"
    }
   ],
   "source": [
    "product_purchase_count = train_set.groupby('product_id').count()[['order_id']].reset_index().rename(columns={\"order_id\":\"qty\"})\n",
    "product_purchase_count.head()"
   ]
  },
  {
   "cell_type": "code",
   "execution_count": 6,
   "metadata": {
    "ExecuteTime": {
     "end_time": "2020-11-10T02:38:31.353401Z",
     "start_time": "2020-11-10T02:38:31.337330Z"
    },
    "id": "38P_Mp4DZ2gY"
   },
   "outputs": [],
   "source": [
    "top10_product = product_purchase_count.sort_values('qty',ascending=False).product_id[:10].values"
   ]
  },
  {
   "cell_type": "code",
   "execution_count": 11,
   "metadata": {
    "ExecuteTime": {
     "end_time": "2020-11-10T05:22:57.109377Z",
     "start_time": "2020-11-10T02:42:56.698608Z"
    },
    "colab": {
     "base_uri": "https://localhost:8080/"
    },
    "executionInfo": {
     "elapsed": 432,
     "status": "ok",
     "timestamp": 1604417058131,
     "user": {
      "displayName": "QI HAODI _",
      "photoUrl": "",
      "userId": "13823255111802956482"
     },
     "user_tz": -480
    },
    "id": "VyqgJs0RaAOb",
    "outputId": "b7bcb2b6-497e-4b6e-afb5-195cb61943a6"
   },
   "outputs": [
    {
     "name": "stderr",
     "output_type": "stream",
     "text": [
      "100%|████████████████████████████████████████████████████████████████████████| 206209/206209 [2:40:00<00:00, 21.48it/s]"
     ]
    },
    {
     "name": "stdout",
     "output_type": "stream",
     "text": [
      "9600.398766994476\n"
     ]
    },
    {
     "name": "stderr",
     "output_type": "stream",
     "text": [
      "\n"
     ]
    }
   ],
   "source": [
    "# 1. get what user new product and reordered product\n",
    "# 2. get top 10 item that user didnt order\n",
    "scores = []\n",
    "start = time()\n",
    "for u in tqdm(range(1,206210)):\n",
    "    gt_product = validation_set.query('user_id=={}'.format(u)).product_id.values\n",
    "    score = cal_avg_precision(gt_product, top10_product)\n",
    "    scores.append(score)\n",
    "print(time()-start)  "
   ]
  },
  {
   "cell_type": "code",
   "execution_count": 12,
   "metadata": {
    "ExecuteTime": {
     "end_time": "2020-11-10T05:51:16.149474Z",
     "start_time": "2020-11-10T05:51:16.107418Z"
    },
    "colab": {
     "base_uri": "https://localhost:8080/"
    },
    "executionInfo": {
     "elapsed": 845,
     "status": "ok",
     "timestamp": 1604417207945,
     "user": {
      "displayName": "QI HAODI _",
      "photoUrl": "",
      "userId": "13823255111802956482"
     },
     "user_tz": -480
    },
    "id": "VUet-_Bdt644",
    "outputId": "b3fd9a2d-e4cd-47dd-9e32-7c4079198b57"
   },
   "outputs": [
    {
     "data": {
      "text/plain": [
       "0.21859865389691324"
      ]
     },
     "execution_count": 12,
     "metadata": {},
     "output_type": "execute_result"
    }
   ],
   "source": [
    "np.mean(scores)"
   ]
  },
  {
   "cell_type": "code",
   "execution_count": 14,
   "metadata": {
    "ExecuteTime": {
     "end_time": "2020-11-10T05:51:24.597282Z",
     "start_time": "2020-11-10T05:51:24.573283Z"
    },
    "executionInfo": {
     "elapsed": 960,
     "status": "ok",
     "timestamp": 1604419783259,
     "user": {
      "displayName": "QI HAODI _",
      "photoUrl": "",
      "userId": "13823255111802956482"
     },
     "user_tz": -480
    },
    "id": "udqTBqqXgEhN"
   },
   "outputs": [],
   "source": [
    "import pickle\n",
    "\n",
    "pickle.dump(scores, open('pickle/validation_baseline_allitem.p','wb'))"
   ]
  },
  {
   "cell_type": "code",
   "execution_count": 4,
   "metadata": {
    "ExecuteTime": {
     "end_time": "2020-11-21T13:09:06.316521Z",
     "start_time": "2020-11-21T13:09:06.203510Z"
    }
   },
   "outputs": [],
   "source": [
    "test_set = pickle.load(open(os.path.join(FOLDER_PATH,'pickle','test_set.p'),'rb'))\n"
   ]
  },
  {
   "cell_type": "code",
   "execution_count": 5,
   "metadata": {
    "ExecuteTime": {
     "end_time": "2020-11-21T13:09:18.353892Z",
     "start_time": "2020-11-21T13:09:18.308359Z"
    }
   },
   "outputs": [
    {
     "data": {
      "text/plain": [
       "(131209,)"
      ]
     },
     "execution_count": 5,
     "metadata": {},
     "output_type": "execute_result"
    }
   ],
   "source": [
    "test_set.user_id.unique().shape"
   ]
  },
  {
   "cell_type": "code",
   "execution_count": 6,
   "metadata": {
    "ExecuteTime": {
     "end_time": "2020-11-21T13:09:44.461462Z",
     "start_time": "2020-11-21T13:09:42.651473Z"
    }
   },
   "outputs": [],
   "source": [
    "orders = pd.read_csv('data/orders.csv')"
   ]
  },
  {
   "cell_type": "code",
   "execution_count": 7,
   "metadata": {
    "ExecuteTime": {
     "end_time": "2020-11-21T13:09:57.523021Z",
     "start_time": "2020-11-21T13:09:57.277023Z"
    }
   },
   "outputs": [],
   "source": [
    "orders = orders[orders.eval_set=='train']"
   ]
  },
  {
   "cell_type": "code",
   "execution_count": 8,
   "metadata": {
    "ExecuteTime": {
     "end_time": "2020-11-21T13:10:09.653144Z",
     "start_time": "2020-11-21T13:10:09.639147Z"
    }
   },
   "outputs": [
    {
     "data": {
      "text/plain": [
       "(131209, 7)"
      ]
     },
     "execution_count": 8,
     "metadata": {},
     "output_type": "execute_result"
    }
   ],
   "source": [
    "orders.shape"
   ]
  }
 ],
 "metadata": {
  "colab": {
   "authorship_tag": "ABX9TyPUUHrPIWWTFltlJPX7xiUn",
   "collapsed_sections": [],
   "mount_file_id": "1iFLlWA05vK2kgUw7oh5UJlbwd8ZqI2Uo",
   "name": "Baseline_performance_validation.ipynb",
   "provenance": []
  },
  "kernelspec": {
   "display_name": "Python 3",
   "language": "python",
   "name": "python3"
  },
  "language_info": {
   "codemirror_mode": {
    "name": "ipython",
    "version": 3
   },
   "file_extension": ".py",
   "mimetype": "text/x-python",
   "name": "python",
   "nbconvert_exporter": "python",
   "pygments_lexer": "ipython3",
   "version": "3.8.3"
  },
  "toc": {
   "base_numbering": 1,
   "nav_menu": {},
   "number_sections": true,
   "sideBar": true,
   "skip_h1_title": false,
   "title_cell": "Table of Contents",
   "title_sidebar": "Contents",
   "toc_cell": false,
   "toc_position": {},
   "toc_section_display": true,
   "toc_window_display": false
  },
  "varInspector": {
   "cols": {
    "lenName": 16,
    "lenType": 16,
    "lenVar": 40
   },
   "kernels_config": {
    "python": {
     "delete_cmd_postfix": "",
     "delete_cmd_prefix": "del ",
     "library": "var_list.py",
     "varRefreshCmd": "print(var_dic_list())"
    },
    "r": {
     "delete_cmd_postfix": ") ",
     "delete_cmd_prefix": "rm(",
     "library": "var_list.r",
     "varRefreshCmd": "cat(var_dic_list()) "
    }
   },
   "types_to_exclude": [
    "module",
    "function",
    "builtin_function_or_method",
    "instance",
    "_Feature"
   ],
   "window_display": false
  }
 },
 "nbformat": 4,
 "nbformat_minor": 1
}
