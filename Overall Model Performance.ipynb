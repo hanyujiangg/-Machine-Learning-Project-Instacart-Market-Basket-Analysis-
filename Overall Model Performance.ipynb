{
 "cells": [
  {
   "cell_type": "code",
   "execution_count": 1,
   "metadata": {
    "ExecuteTime": {
     "end_time": "2020-11-21T16:24:19.655760Z",
     "start_time": "2020-11-21T16:24:18.347196Z"
    }
   },
   "outputs": [],
   "source": [
    "import numpy as np\n",
    "import pandas as pd\n",
    "from sklearn import datasets, cluster\n",
    "import matplotlib.pyplot as plt\n",
    "import plotly.express as px\n",
    "\n",
    "import warnings\n",
    "warnings.filterwarnings('ignore')\n",
    "\n",
    "import os, pickle\n",
    "\n",
    "from proj_util import cal_avg_precision\n",
    "\n",
    "FOLDER_PATH = ''\n"
   ]
  },
  {
   "cell_type": "code",
   "execution_count": 2,
   "metadata": {
    "ExecuteTime": {
     "end_time": "2020-11-21T16:24:20.304827Z",
     "start_time": "2020-11-21T16:24:20.118298Z"
    }
   },
   "outputs": [],
   "source": [
    "test_set = pickle.load(open(os.path.join(FOLDER_PATH,'pickle','test_set.p'),'rb'))\n",
    "\n",
    "user_mapping = pickle.load(open(os.path.join(FOLDER_PATH,'pickle','user_mapping.p'),'rb'))\n",
    "product_mapping = pickle.load(open(os.path.join(FOLDER_PATH,'pickle','product_mapping.p'),'rb'))"
   ]
  },
  {
   "cell_type": "code",
   "execution_count": 3,
   "metadata": {
    "ExecuteTime": {
     "end_time": "2020-11-21T16:24:25.588670Z",
     "start_time": "2020-11-21T16:24:24.991672Z"
    }
   },
   "outputs": [],
   "source": [
    "test_set.user_id = test_set.user_id.map(user_mapping)\n",
    "test_set.product_id = test_set.product_id.map(product_mapping)"
   ]
  },
  {
   "cell_type": "code",
   "execution_count": 8,
   "metadata": {
    "ExecuteTime": {
     "end_time": "2020-11-21T16:25:59.056972Z",
     "start_time": "2020-11-21T16:25:58.871260Z"
    }
   },
   "outputs": [],
   "source": [
    "model1_results = pickle.load(open(os.path.join(FOLDER_PATH,'pickle','result_model1_1300.pickle'),'rb'))\n",
    "\n",
    "V = pickle.load(open(os.path.join(FOLDER_PATH,'pickle','final-nmf-prior-V.p'),'rb'))\n",
    "U = pickle.load(open(os.path.join(FOLDER_PATH,'pickle','final-nmf-prior-U.p'),'rb'))"
   ]
  },
  {
   "cell_type": "code",
   "execution_count": 10,
   "metadata": {
    "ExecuteTime": {
     "end_time": "2020-11-21T16:26:23.414874Z",
     "start_time": "2020-11-21T16:26:23.399872Z"
    }
   },
   "outputs": [],
   "source": [
    "for i in range(len(model1_results)):\n",
    "    model1_results[i][0] = user_mapping[model1_results[i][0]]\n",
    "    model1_results[i][1] = [product_mapping[x] for x in model1_results[i][1]]"
   ]
  },
  {
   "cell_type": "code",
   "execution_count": 46,
   "metadata": {
    "ExecuteTime": {
     "end_time": "2020-11-21T17:12:58.068214Z",
     "start_time": "2020-11-21T17:12:58.056689Z"
    }
   },
   "outputs": [],
   "source": [
    "def get_final_recommendation(model1_result, nmf2_result):\n",
    "    '''\n",
    "    Final Recommendation = Model 1 Top 5 + Model 2 Top 3 New Products\n",
    "    '''\n",
    "    model1_product_count = 5\n",
    "    model1_products = model1_result[:model1_product_count]\n",
    "    \n",
    "    model2_product_count = 3\n",
    "    new_products = [x for x in nmf2_result if x not in model1_result]\n",
    "    model2_products = new_products[:model1_product_count + model2_product_count - len(model1_products)]\n",
    "\n",
    "    return model1_products + model2_products"
   ]
  },
  {
   "cell_type": "code",
   "execution_count": 47,
   "metadata": {
    "ExecuteTime": {
     "end_time": "2020-11-21T17:13:48.226020Z",
     "start_time": "2020-11-21T17:12:59.208758Z"
    }
   },
   "outputs": [],
   "source": [
    "scores = []\n",
    "for u, model1_result in model1_results:\n",
    "    user_item_score = np.matmul(U[u:u+1], V.T)[0]\n",
    "    model2_result = np.argsort(user_item_score)[-1:-11:-1]\n",
    "    \n",
    "    final_recommendation = get_final_recommendation(model1_result,model2_result)\n",
    "\n",
    "    gt_product = test_set.query('user_id=={}'.format(u)).product_id.values\n",
    "    score = cal_avg_precision(gt_product, final_recommendation)\n",
    "    scores.append(score)"
   ]
  },
  {
   "cell_type": "code",
   "execution_count": 48,
   "metadata": {
    "ExecuteTime": {
     "end_time": "2020-11-21T17:13:48.770051Z",
     "start_time": "2020-11-21T17:13:48.751052Z"
    },
    "scrolled": true
   },
   "outputs": [
    {
     "data": {
      "text/plain": [
       "0.4732402014652014"
      ]
     },
     "execution_count": 48,
     "metadata": {},
     "output_type": "execute_result"
    }
   ],
   "source": [
    "np.mean(scores) # 0.4732402014652014"
   ]
  },
  {
   "cell_type": "code",
   "execution_count": null,
   "metadata": {},
   "outputs": [],
   "source": []
  }
 ],
 "metadata": {
  "kernelspec": {
   "display_name": "Python 3",
   "language": "python",
   "name": "python3"
  },
  "language_info": {
   "codemirror_mode": {
    "name": "ipython",
    "version": 3
   },
   "file_extension": ".py",
   "mimetype": "text/x-python",
   "name": "python",
   "nbconvert_exporter": "python",
   "pygments_lexer": "ipython3",
   "version": "3.8.3"
  },
  "toc": {
   "base_numbering": 1,
   "nav_menu": {},
   "number_sections": true,
   "sideBar": true,
   "skip_h1_title": false,
   "title_cell": "Table of Contents",
   "title_sidebar": "Contents",
   "toc_cell": false,
   "toc_position": {},
   "toc_section_display": true,
   "toc_window_display": false
  },
  "varInspector": {
   "cols": {
    "lenName": 16,
    "lenType": 16,
    "lenVar": 40
   },
   "kernels_config": {
    "python": {
     "delete_cmd_postfix": "",
     "delete_cmd_prefix": "del ",
     "library": "var_list.py",
     "varRefreshCmd": "print(var_dic_list())"
    },
    "r": {
     "delete_cmd_postfix": ") ",
     "delete_cmd_prefix": "rm(",
     "library": "var_list.r",
     "varRefreshCmd": "cat(var_dic_list()) "
    }
   },
   "types_to_exclude": [
    "module",
    "function",
    "builtin_function_or_method",
    "instance",
    "_Feature"
   ],
   "window_display": false
  }
 },
 "nbformat": 4,
 "nbformat_minor": 4
}
