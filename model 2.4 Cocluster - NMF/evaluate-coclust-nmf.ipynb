{
 "cells": [
  {
   "cell_type": "code",
   "execution_count": null,
   "metadata": {},
   "outputs": [],
   "source": [
    "import numpy as np\n",
    "import pandas as pd\n",
    "from sklearn import datasets, cluster\n",
    "import matplotlib.pyplot as plt\n",
    "import plotly.express as px\n",
    "\n",
    "import warnings\n",
    "warnings.filterwarnings('ignore')\n",
    "\n",
    "import os, pickle\n",
    "from time import time\n",
    "from tqdm import tqdm \n",
    "from proj_util import cal_avg_precision, get_user_product_matrix\n",
    "\n",
    "from sklearn.decomposition import NMF\n",
    "import scipy\n",
    "\n",
    "\n",
    "FOLDER_PATH = ''\n"
   ]
  },
  {
   "cell_type": "code",
   "execution_count": null,
   "metadata": {},
   "outputs": [],
   "source": [
    "train_set = pickle.load(open(os.path.join(FOLDER_PATH,'pickle','train_set.p'),'rb'))\n",
    "validation_set = pickle.load(open(os.path.join(FOLDER_PATH,'pickle','validation_set.p'),'rb'))\n",
    "test_set = pickle.load(open(os.path.join(FOLDER_PATH,'pickle','test_set.p'),'rb'))\n",
    "\n",
    "user_mapping = pickle.load(open(os.path.join(FOLDER_PATH,'pickle','user_mapping.p'),'rb'))\n",
    "product_mapping = pickle.load(open(os.path.join(FOLDER_PATH,'pickle','product_mapping.p'),'rb'))"
   ]
  },
  {
   "cell_type": "code",
   "execution_count": null,
   "metadata": {},
   "outputs": [],
   "source": [
    "order_prior_set = pd.concat([train_set,validation_set])\n",
    "order_prior_set.drop('order_id',axis=1, inplace=True)\n",
    "del train_set, validation_set"
   ]
  },
  {
   "cell_type": "code",
   "execution_count": null,
   "metadata": {},
   "outputs": [],
   "source": [
    "order_prior_set.user_id = order_prior_set.user_id.map(user_mapping)\n",
    "order_prior_set.product_id = order_prior_set.product_id.map(product_mapping)\n",
    "\n",
    "test_set.user_id = test_set.user_id.map(user_mapping)\n",
    "test_set.product_id = test_set.product_id.map(product_mapping)"
   ]
  },
  {
   "cell_type": "code",
   "execution_count": null,
   "metadata": {},
   "outputs": [],
   "source": [
    "user_product_prior = order_prior_set.groupby(['user_id', 'product_id']).size().reset_index().rename(columns={0: 'quantity'})\n",
    "qty_max = max(user_product_prior.quantity)\n",
    "\n",
    "user_product_prior.quantity = user_product_prior.quantity.apply(lambda x: (x-1)/float(qty_max-1))"
   ]
  },
  {
   "cell_type": "code",
   "execution_count": null,
   "metadata": {},
   "outputs": [],
   "source": [
    "user_product_prior_coo = get_user_product_matrix(user_product_prior)"
   ]
  },
  {
   "cell_type": "markdown",
   "metadata": {},
   "source": [
    "### Co-Clustering"
   ]
  },
  {
   "cell_type": "code",
   "execution_count": 15,
   "metadata": {
    "executionInfo": {
     "elapsed": 53731,
     "status": "ok",
     "timestamp": 1605964402102,
     "user": {
      "displayName": "QI HAODI _",
      "photoUrl": "",
      "userId": "13823255111802956482"
     },
     "user_tz": -480
    },
    "id": "BMPGSzv3DqMX"
   },
   "outputs": [],
   "source": [
    "from coclust.coclustering import *\n",
    "import coclust\n",
    "from sklearn.decomposition import NMF"
   ]
  },
  {
   "cell_type": "code",
   "execution_count": 17,
   "metadata": {
    "executionInfo": {
     "elapsed": 55648,
     "status": "ok",
     "timestamp": 1605964404034,
     "user": {
      "displayName": "QI HAODI _",
      "photoUrl": "",
      "userId": "13823255111802956482"
     },
     "user_tz": -480
    },
    "id": "D9Wzj4Aj_Or3"
   },
   "outputs": [],
   "source": [
    "model = pickle.load(open(os.path.join(FOLDER_PATH,'pickle','coclust-model-prior.p'),'rb'))"
   ]
  },
  {
   "cell_type": "code",
   "execution_count": 18,
   "metadata": {
    "executionInfo": {
     "elapsed": 55644,
     "status": "ok",
     "timestamp": 1605964404037,
     "user": {
      "displayName": "QI HAODI _",
      "photoUrl": "",
      "userId": "13823255111802956482"
     },
     "user_tz": -480
    },
    "id": "eesq1PI-nHAp"
   },
   "outputs": [],
   "source": [
    "cluster_with_uid= {}\n",
    "cluseter_with_pid= {}\n",
    "for uid, uc in enumerate(model.column_labels_):\n",
    "    try:\n",
    "        cluster_with_uid[uc].append(uid)\n",
    "    except:\n",
    "        cluster_with_uid[uc] = [uid]\n",
    "\n",
    "for pid, pc in enumerate(model.row_labels_):\n",
    "    try:\n",
    "        cluseter_with_pid[pc].append(pid)\n",
    "    except:\n",
    "        cluseter_with_pid[pc] = [pid]"
   ]
  },
  {
   "cell_type": "code",
   "execution_count": 19,
   "metadata": {
    "executionInfo": {
     "elapsed": 55637,
     "status": "ok",
     "timestamp": 1605964404037,
     "user": {
      "displayName": "QI HAODI _",
      "photoUrl": "",
      "userId": "13823255111802956482"
     },
     "user_tz": -480
    },
    "id": "2YL1FL7sa8jw"
   },
   "outputs": [],
   "source": [
    "user_cluster_mapping = {i:model.column_labels_[i] for i in range(len(model.column_labels_))}"
   ]
  },
  {
   "cell_type": "code",
   "execution_count": 20,
   "metadata": {
    "colab": {
     "base_uri": "https://localhost:8080/"
    },
    "executionInfo": {
     "elapsed": 55632,
     "status": "ok",
     "timestamp": 1605964404039,
     "user": {
      "displayName": "QI HAODI _",
      "photoUrl": "",
      "userId": "13823255111802956482"
     },
     "user_tz": -480
    },
    "id": "3hH02_tJb-jw",
    "outputId": "aaf27f7b-dab6-40ae-b3de-445dd878d06a"
   },
   "outputs": [
    {
     "data": {
      "text/plain": [
       "(10, 40)"
      ]
     },
     "execution_count": 20,
     "metadata": {
      "tags": []
     },
     "output_type": "execute_result"
    }
   ],
   "source": [
    "delta_kl_matrix = model.delta_kl_\n",
    "delta_kl_matrix.shape"
   ]
  },
  {
   "cell_type": "code",
   "execution_count": 22,
   "metadata": {
    "colab": {
     "base_uri": "https://localhost:8080/"
    },
    "executionInfo": {
     "elapsed": 4257981,
     "status": "ok",
     "timestamp": 1605968694428,
     "user": {
      "displayName": "QI HAODI _",
      "photoUrl": "",
      "userId": "13823255111802956482"
     },
     "user_tz": -480
    },
    "id": "soh26Q5r_kJO",
    "outputId": "10c3d0f2-5684-44f9-98ce-5e5be196c63d",
    "scrolled": false
   },
   "outputs": [
    {
     "name": "stdout",
     "output_type": "stream",
     "text": [
      "0:10.444486618041992 | 500:2092.6367037296295 | "
     ]
    }
   ],
   "source": [
    "# prior then test test_set\n",
    "start = time()\n",
    "scores = []\n",
    "c = -1\n",
    "for u in (test_set.user_id.unique()):\n",
    "\n",
    "    user_cluster = user_cluster_mapping[u]\n",
    "    user_item_cluster_scores = delta_kl_matrix[:,user_cluster].T\n",
    "    best_product_cluster = np.argsort(np.array(user_item_cluster_scores))[0][-1]\n",
    "\n",
    "    user_item_cluster = model.get_submatrix(user_product_prior_coo.tocsc(),best_product_cluster, user_cluster).todense()\n",
    "\n",
    "    nmf = pickle.load(open(os.path.join(FOLDER_PATH,'pickle','coclust-nmf-prior',f'{best_product_cluster}-{user_cluster}-nmf.p'),'rb'))\n",
    "\n",
    "    V = nmf.transform(user_item_cluster)\n",
    "    U = nmf.components_.T\n",
    "    \n",
    "    uids = cluster_with_uid[user_cluster]\n",
    "    uid_idx = uids.index(u)\n",
    "\n",
    "    user_item_score = np.matmul(U[uid_idx:uid_idx+1], V.T)[0]\n",
    "    top10_item_idx = np.argsort(user_item_score)[-1:-11:-1]\n",
    "\n",
    "    recomm_items = [cluseter_with_pid[best_product_cluster][x] for x in top10_item_idx]\n",
    "\n",
    "    gt_product = test_set.query('user_id=={}'.format(u)).product_id.values\n",
    "    score = cal_avg_precision(gt_product, recomm_items)\n",
    "    scores.append(score)\n",
    "    \n",
    "    del nmf, U, V, user_item_cluster, user_item_cluster_scores\n",
    "    c+=1\n",
    "    if c % 500 == 0:\n",
    "        print(f'{c}:{time()-start}', end=' | ') \n",
    "        pickle.dump(scores,open(os.path.join(FOLDER_PATH,'output','coclust-nmf-prior','coclust-nmf-prior-test_set_scores.p'),'wb'))\n",
    "    if c> 0 and c % 10000 == 0:   \n",
    "        print()\n",
    "\n",
    "pickle.dump(scores,open(os.path.join(FOLDER_PATH,'output','coclust-nmf-prior','coclust-nmf-prior-test_set_scores.p'),'wb'))"
   ]
  },
  {
   "cell_type": "code",
   "execution_count": null,
   "metadata": {
    "id": "ddPyYS2ZTKYW"
   },
   "outputs": [],
   "source": [
    "np.mean(scores)"
   ]
  }
 ],
 "metadata": {
  "colab": {
   "authorship_tag": "ABX9TyORtexli55Ebq50WTJCBJiM",
   "collapsed_sections": [],
   "mount_file_id": "1_1jnEAAu8M0KcP7vcRPbd9amOr1PezLK",
   "name": "CoClust 75-85.ipynb",
   "provenance": []
  },
  "kernelspec": {
   "display_name": "Python 3",
   "language": "python",
   "name": "python3"
  },
  "language_info": {
   "codemirror_mode": {
    "name": "ipython",
    "version": 3
   },
   "file_extension": ".py",
   "mimetype": "text/x-python",
   "name": "python",
   "nbconvert_exporter": "python",
   "pygments_lexer": "ipython3",
   "version": "3.8.3"
  },
  "toc": {
   "base_numbering": 1,
   "nav_menu": {},
   "number_sections": true,
   "sideBar": true,
   "skip_h1_title": false,
   "title_cell": "Table of Contents",
   "title_sidebar": "Contents",
   "toc_cell": false,
   "toc_position": {},
   "toc_section_display": true,
   "toc_window_display": false
  },
  "varInspector": {
   "cols": {
    "lenName": 16,
    "lenType": 16,
    "lenVar": 40
   },
   "kernels_config": {
    "python": {
     "delete_cmd_postfix": "",
     "delete_cmd_prefix": "del ",
     "library": "var_list.py",
     "varRefreshCmd": "print(var_dic_list())"
    },
    "r": {
     "delete_cmd_postfix": ") ",
     "delete_cmd_prefix": "rm(",
     "library": "var_list.r",
     "varRefreshCmd": "cat(var_dic_list()) "
    }
   },
   "types_to_exclude": [
    "module",
    "function",
    "builtin_function_or_method",
    "instance",
    "_Feature"
   ],
   "window_display": false
  }
 },
 "nbformat": 4,
 "nbformat_minor": 1
}
