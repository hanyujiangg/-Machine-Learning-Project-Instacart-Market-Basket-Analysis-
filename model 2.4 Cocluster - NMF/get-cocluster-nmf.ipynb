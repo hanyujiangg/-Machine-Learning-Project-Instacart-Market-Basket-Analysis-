{
 "cells": [
  {
   "cell_type": "code",
   "execution_count": 1,
   "metadata": {
    "executionInfo": {
     "elapsed": 3612,
     "status": "ok",
     "timestamp": 1605668332757,
     "user": {
      "displayName": "QI HAODI _",
      "photoUrl": "",
      "userId": "13823255111802956482"
     },
     "user_tz": -480
    },
    "id": "m7PFjOGfBgKi"
   },
   "outputs": [],
   "source": [
    "import numpy as np\n",
    "import pandas as pd\n",
    "from sklearn import datasets, cluster\n",
    "import matplotlib.pyplot as plt\n",
    "import plotly.express as px\n",
    "# import squarify\n",
    "\n",
    "import warnings\n",
    "warnings.filterwarnings('ignore')\n",
    "\n",
    "import os, pickle\n",
    "from time import time\n",
    "\n",
    "from sklearn.decomposition import NMF\n",
    "import scipy\n",
    "\n",
    "from proj_util import cal_avg_precision, get_user_product_matrix\n",
    "\n",
    "FOLDER_PATH = 'drive/My Drive/ML/colab'\n"
   ]
  },
  {
   "cell_type": "code",
   "execution_count": 10,
   "metadata": {
    "executionInfo": {
     "elapsed": 3248,
     "status": "ok",
     "timestamp": 1605668591051,
     "user": {
      "displayName": "QI HAODI _",
      "photoUrl": "",
      "userId": "13823255111802956482"
     },
     "user_tz": -480
    },
    "id": "ynJVwG0eDO4o"
   },
   "outputs": [],
   "source": [
    "train_set = pickle.load(open(os.path.join(FOLDER_PATH,'pickle','train_set.p'),'rb'))\n",
    "validation_set = pickle.load(open(os.path.join(FOLDER_PATH,'pickle','validation_set.p'),'rb'))\n",
    "\n",
    "user_mapping = pickle.load(open(os.path.join(FOLDER_PATH,'pickle','user_mapping.p'),'rb'))\n",
    "product_mapping = pickle.load(open(os.path.join(FOLDER_PATH,'pickle','product_mapping.p'),'rb'))"
   ]
  },
  {
   "cell_type": "code",
   "execution_count": 11,
   "metadata": {
    "executionInfo": {
     "elapsed": 1608,
     "status": "ok",
     "timestamp": 1605668593362,
     "user": {
      "displayName": "QI HAODI _",
      "photoUrl": "",
      "userId": "13823255111802956482"
     },
     "user_tz": -480
    },
    "id": "LtbCnE-CDSCq"
   },
   "outputs": [],
   "source": [
    "order_prior_set = pd.concat([train_set,validation_set])\n",
    "del train_set, validation_set"
   ]
  },
  {
   "cell_type": "code",
   "execution_count": 13,
   "metadata": {
    "executionInfo": {
     "elapsed": 2879,
     "status": "ok",
     "timestamp": 1605668624481,
     "user": {
      "displayName": "QI HAODI _",
      "photoUrl": "",
      "userId": "13823255111802956482"
     },
     "user_tz": -480
    },
    "id": "OlyKm4kvDUS0"
   },
   "outputs": [],
   "source": [
    "order_prior_set.user_id = order_prior_set.user_id.map(user_mapping)\n",
    "order_prior_set.product_id = order_prior_set.product_id.map(product_mapping)"
   ]
  },
  {
   "cell_type": "code",
   "execution_count": 14,
   "metadata": {
    "executionInfo": {
     "elapsed": 21868,
     "status": "ok",
     "timestamp": 1605668661382,
     "user": {
      "displayName": "QI HAODI _",
      "photoUrl": "",
      "userId": "13823255111802956482"
     },
     "user_tz": -480
    },
    "id": "9CpVLOycDVU3"
   },
   "outputs": [],
   "source": [
    "user_product_prior = order_prior_set.groupby(['user_id', 'product_id']).size().reset_index().rename(columns={0: 'quantity'})\n",
    "qty_max = max(user_product_prior.quantity)\n",
    "\n",
    "user_product_prior.quantity = user_product_prior.quantity.apply(lambda x: (x-1)/float(qty_max-1))"
   ]
  },
  {
   "cell_type": "code",
   "execution_count": 15,
   "metadata": {
    "executionInfo": {
     "elapsed": 1241,
     "status": "ok",
     "timestamp": 1605668664341,
     "user": {
      "displayName": "QI HAODI _",
      "photoUrl": "",
      "userId": "13823255111802956482"
     },
     "user_tz": -480
    },
    "id": "3_03Rqm_Dana"
   },
   "outputs": [],
   "source": [
    "user_product_prior_coo = get_user_product_matrix(user_product_prior)"
   ]
  },
  {
   "cell_type": "code",
   "execution_count": null,
   "metadata": {
    "executionInfo": {
     "elapsed": 3607,
     "status": "aborted",
     "timestamp": 1605668332777,
     "user": {
      "displayName": "QI HAODI _",
      "photoUrl": "",
      "userId": "13823255111802956482"
     },
     "user_tz": -480
    },
    "id": "sXi2J-BDxWsS"
   },
   "outputs": [],
   "source": [
    "del user_product_train, user_mapping, product_mapping"
   ]
  },
  {
   "cell_type": "markdown",
   "metadata": {
    "id": "1FbGf7MeFQAp"
   },
   "source": [
    "### CoClust\n"
   ]
  },
  {
   "cell_type": "code",
   "execution_count": 17,
   "metadata": {
    "executionInfo": {
     "elapsed": 1026,
     "status": "ok",
     "timestamp": 1605668713630,
     "user": {
      "displayName": "QI HAODI _",
      "photoUrl": "",
      "userId": "13823255111802956482"
     },
     "user_tz": -480
    },
    "id": "BMPGSzv3DqMX"
   },
   "outputs": [],
   "source": [
    "from coclust.coclustering import *\n",
    "import coclust\n",
    "from sklearn.decomposition import NMF"
   ]
  },
  {
   "cell_type": "code",
   "execution_count": 25,
   "metadata": {
    "colab": {
     "base_uri": "https://localhost:8080/"
    },
    "executionInfo": {
     "elapsed": 76897,
     "status": "ok",
     "timestamp": 1605672835496,
     "user": {
      "displayName": "QI HAODI _",
      "photoUrl": "",
      "userId": "13823255111802956482"
     },
     "user_tz": -480
    },
    "id": "uhJiMnYPDycJ",
    "outputId": "ab15b9d1-3ccf-42af-a031-88610c4ff56e"
   },
   "outputs": [
    {
     "data": {
      "text/plain": [
       "CoclustInfo(init=None, max_iter=20, n_col_clusters=40, n_init=1,\n",
       "            n_row_clusters=10, random_state=421, tol=1e-09)"
      ]
     },
     "execution_count": 25,
     "metadata": {
      "tags": []
     },
     "output_type": "execute_result"
    }
   ],
   "source": [
    "# row: item\n",
    "# col: user\n",
    "model = CoclustInfo(n_row_clusters=10,n_col_clusters=40,random_state=421)\n",
    "model.fit(user_product_prior_coo)"
   ]
  },
  {
   "cell_type": "code",
   "execution_count": 29,
   "metadata": {
    "executionInfo": {
     "elapsed": 733,
     "status": "ok",
     "timestamp": 1605696864249,
     "user": {
      "displayName": "QI HAODI _",
      "photoUrl": "",
      "userId": "13823255111802956482"
     },
     "user_tz": -480
    },
    "id": "TbhS1YdX_FlR"
   },
   "outputs": [],
   "source": [
    "pickle.dump(model,open(os.path.join(FOLDER_PATH,'pickle','coclust-model-prior.p'),'wb'))"
   ]
  },
  {
   "cell_type": "code",
   "execution_count": null,
   "metadata": {
    "id": "24Iuc663Uh6Q"
   },
   "outputs": [],
   "source": [
    "for item_cluster in range(10):\n",
    "    for user_cluster in range(40):\n",
    "\n",
    "        user_item_cluster = model.get_submatrix(user_product_prior_coo.tocsr(),item_cluster,user_cluster)\n",
    "\n",
    "        nmf = NMF(n_components=120, random_state=421, alpha=0.001) \n",
    "        nmf.fit(user_item_cluster)\n",
    "\n",
    "        pickle.dump(nmf, open(os.path.join(FOLDER_PATH,'pickle','coclust-nmf-prior',f'{item_cluster}-{user_cluster}-nmf.p'),'wb'))\n",
    "        print(f'{item_cluster}-{user_cluster}-nmf')\n",
    "        del nmf, user_item_cluster"
   ]
  }
 ],
 "metadata": {
  "colab": {
   "authorship_tag": "ABX9TyNZ1g1SKUFFvjN1NZ14ohaV",
   "collapsed_sections": [],
   "mount_file_id": "1rwPnXtiGGc1zPmUZwLhufQF8D82mayqi",
   "name": "CoClust-nmf-prior.ipynb",
   "provenance": []
  },
  "kernelspec": {
   "display_name": "Python 3",
   "language": "python",
   "name": "python3"
  },
  "language_info": {
   "codemirror_mode": {
    "name": "ipython",
    "version": 3
   },
   "file_extension": ".py",
   "mimetype": "text/x-python",
   "name": "python",
   "nbconvert_exporter": "python",
   "pygments_lexer": "ipython3",
   "version": "3.8.3"
  },
  "toc": {
   "base_numbering": 1,
   "nav_menu": {},
   "number_sections": true,
   "sideBar": true,
   "skip_h1_title": false,
   "title_cell": "Table of Contents",
   "title_sidebar": "Contents",
   "toc_cell": false,
   "toc_position": {},
   "toc_section_display": true,
   "toc_window_display": false
  },
  "varInspector": {
   "cols": {
    "lenName": 16,
    "lenType": 16,
    "lenVar": 40
   },
   "kernels_config": {
    "python": {
     "delete_cmd_postfix": "",
     "delete_cmd_prefix": "del ",
     "library": "var_list.py",
     "varRefreshCmd": "print(var_dic_list())"
    },
    "r": {
     "delete_cmd_postfix": ") ",
     "delete_cmd_prefix": "rm(",
     "library": "var_list.r",
     "varRefreshCmd": "cat(var_dic_list()) "
    }
   },
   "types_to_exclude": [
    "module",
    "function",
    "builtin_function_or_method",
    "instance",
    "_Feature"
   ],
   "window_display": false
  }
 },
 "nbformat": 4,
 "nbformat_minor": 1
}
