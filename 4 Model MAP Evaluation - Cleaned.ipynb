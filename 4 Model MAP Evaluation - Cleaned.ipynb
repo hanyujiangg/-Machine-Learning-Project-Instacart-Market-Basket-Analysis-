{
 "cells": [
  {
   "cell_type": "code",
   "execution_count": 1,
   "metadata": {},
   "outputs": [],
   "source": [
    "import xgboost as xgb\n",
    "from sklearn.metrics import mean_squared_error\n",
    "import pandas as pd\n",
    "import numpy as np\n",
    "import matplotlib.pyplot as plt\n",
    "import pickle \n",
    "from xgboost import XGBClassifier\n",
    "from time import time\n"
   ]
  },
  {
   "cell_type": "code",
   "execution_count": 2,
   "metadata": {},
   "outputs": [],
   "source": [
    "def evaluation_map(actual, predicted):\n",
    "#     if len(predicted)>k:\n",
    "#         predicted = predicted[:k]\n",
    "\n",
    "    score = 0.0\n",
    "    num_hits = 0.0\n",
    "\n",
    "    for i,p in enumerate(predicted):\n",
    "        if p in actual and p not in predicted[:i]:\n",
    "            num_hits += 1.0\n",
    "            score += num_hits / (i+1.0)\n",
    "\n",
    "    if num_hits == 0.0:\n",
    "        return 0.0\n",
    "\n",
    "    return score / num_hits"
   ]
  },
  {
   "cell_type": "code",
   "execution_count": 3,
   "metadata": {},
   "outputs": [],
   "source": [
    "to_test_1 = pd.read_pickle(\"to_test_1.p\")\n",
    "to_test_2 = pd.read_pickle(\"to_test_2.p\")"
   ]
  },
  {
   "cell_type": "code",
   "execution_count": 9,
   "metadata": {},
   "outputs": [],
   "source": [
    "# model31_v = pd.read_pickle(\"model3_1_tuning.sav\")\n",
    "# model31_t = pd.read_pickle(\"model3_1_tuning_final.sav\")\n",
    "\n",
    "\n",
    "model1 = pd.read_pickle(\"model35_tuning_.sav\")\n",
    "model2 = pd.read_pickle(\"model35_tuning_final.sav\")\n",
    "model3 = pd.read_pickle(\"model36_tuning_.sav\")\n",
    "model4 = pd.read_pickle(\"model36_tuning_final.sav\")\n",
    "# model5 = pd.read_pickle(\"model34_tuning_.sav\")\n",
    "# model6 = pd.read_pickle(\"model34_tuning_final.sav\")\n",
    "\n",
    "\n"
   ]
  },
  {
   "cell_type": "markdown",
   "metadata": {},
   "source": [
    "Validation Round"
   ]
  },
  {
   "cell_type": "code",
   "execution_count": 5,
   "metadata": {},
   "outputs": [],
   "source": [
    "def get_map(model,stage):\n",
    "    \n",
    "    if stage == \"validation\":\n",
    "        x_test,y_test = to_test_1.iloc[:,2:-1], to_test_1.iloc[:,-1]\n",
    "        y_pred_1 = model.predict_proba(x_test)\n",
    "\n",
    "        pred_no = []\n",
    "        pred_yes =[]\n",
    "        for prediction in y_pred_1:\n",
    "            pred_no.append(prediction[0])\n",
    "            pred_yes.append(prediction[1])\n",
    "\n",
    "        x_test['pred_no'] = pred_no\n",
    "        x_test['pred_yes'] = pred_yes\n",
    "\n",
    "        x_test['user_id'] = to_test_1['user_id']\n",
    "        x_test['product_id'] = to_test_1['product_id']\n",
    "        \n",
    "        \n",
    "        total = 0\n",
    "        user_tested = 0\n",
    "        \n",
    "        for user in range(1,501):\n",
    "\n",
    "            true_reordered = to_test_1.query('user_id=={} and reordered==1'.format(user)).product_id.to_list()\n",
    "            # if the user has no reorder in the next order, do not consider. \n",
    "            if len(true_reordered) == 0:\n",
    "                continue\n",
    "\n",
    "            user_tested +=1 \n",
    "\n",
    "            predict_top_5 = x_test[x_test['user_id'] ==user].nlargest(5, 'pred_yes')['product_id'].to_list()\n",
    "\n",
    "            total += evaluation_map(true_reordered, predict_top_5)\n",
    "            \n",
    "        return (total/user_tested)\n",
    "    \n",
    "    \n",
    "    else:\n",
    "        x_test,y_test = to_test_2.iloc[:,2:-1], to_test_2.iloc[:,-1]\n",
    "        y_pred_1 = model.predict_proba(x_test)\n",
    "\n",
    "        pred_no = []\n",
    "        pred_yes =[]\n",
    "        for prediction in y_pred_1:\n",
    "            pred_no.append(prediction[0])\n",
    "            pred_yes.append(prediction[1])\n",
    "\n",
    "        x_test['pred_no'] = pred_no\n",
    "        x_test['pred_yes'] = pred_yes\n",
    "\n",
    "        x_test['user_id'] = to_test_2['user_id']\n",
    "        x_test['product_id'] = to_test_2['product_id']\n",
    "        \n",
    "        \n",
    "        total = 0\n",
    "        user_tested = 0\n",
    "        \n",
    "        for user in range(1,501):\n",
    "\n",
    "            true_reordered = to_test_2.query('user_id=={} and reordered==1'.format(user)).product_id.to_list()\n",
    "            # if the user has no reorder in the next order, do not consider. \n",
    "            if len(true_reordered) == 0:\n",
    "                continue\n",
    "\n",
    "            user_tested +=1 \n",
    "\n",
    "            predict_top_5 = x_test[x_test['user_id'] ==user].nlargest(5, 'pred_yes')['product_id'].to_list()\n",
    "\n",
    "            total += evaluation_map(true_reordered, predict_top_5)\n",
    "            \n",
    "        return (total/user_tested)"
   ]
  },
  {
   "cell_type": "code",
   "execution_count": 10,
   "metadata": {},
   "outputs": [
    {
     "name": "stdout",
     "output_type": "stream",
     "text": [
      "========= model35 validdation and test ==========\n",
      "0.5763373362445411\n",
      "0.5101789709172259\n",
      "========= model36 validdation and test ==========\n",
      "0.5763373362445411\n",
      "0.5047119686800892\n"
     ]
    }
   ],
   "source": [
    "print(\"========= model35 validdation and test ==========\")\n",
    "print(get_map(model1,\"validation\"))\n",
    "print(get_map(model2,\"test\"))\n",
    "\n",
    "print(\"========= model36 validdation and test ==========\")\n",
    "print(get_map(model3,\"validation\"))\n",
    "print(get_map(model4,\"test\"))\n",
    "\n",
    "# print(\"========= model34 validdation and test ==========\")\n",
    "# print(get_map(model5,\"validation\"))\n",
    "# print(get_map(model6,\"test\"))\n",
    "\n"
   ]
  },
  {
   "cell_type": "code",
   "execution_count": null,
   "metadata": {},
   "outputs": [],
   "source": []
  },
  {
   "cell_type": "code",
   "execution_count": null,
   "metadata": {},
   "outputs": [],
   "source": []
  },
  {
   "cell_type": "code",
   "execution_count": null,
   "metadata": {},
   "outputs": [],
   "source": []
  }
 ],
 "metadata": {
  "kernelspec": {
   "display_name": "Python 3",
   "language": "python",
   "name": "python3"
  },
  "language_info": {
   "codemirror_mode": {
    "name": "ipython",
    "version": 3
   },
   "file_extension": ".py",
   "mimetype": "text/x-python",
   "name": "python",
   "nbconvert_exporter": "python",
   "pygments_lexer": "ipython3",
   "version": "3.6.8"
  },
  "toc": {
   "base_numbering": 1,
   "nav_menu": {},
   "number_sections": true,
   "sideBar": true,
   "skip_h1_title": false,
   "title_cell": "Table of Contents",
   "title_sidebar": "Contents",
   "toc_cell": false,
   "toc_position": {},
   "toc_section_display": true,
   "toc_window_display": false
  }
 },
 "nbformat": 4,
 "nbformat_minor": 2
}
