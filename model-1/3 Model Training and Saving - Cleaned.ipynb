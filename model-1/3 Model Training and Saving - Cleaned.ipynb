{
 "cells": [
  {
   "cell_type": "code",
   "execution_count": 1,
   "metadata": {},
   "outputs": [],
   "source": [
    "import xgboost as xgb\n",
    "from sklearn.metrics import mean_squared_error\n",
    "import pandas as pd\n",
    "import numpy as np\n",
    "import matplotlib.pyplot as plt\n",
    "import pickle \n",
    "from xgboost import XGBClassifier\n",
    "from time import time\n"
   ]
  },
  {
   "cell_type": "code",
   "execution_count": 2,
   "metadata": {},
   "outputs": [],
   "source": [
    "to_train_1 = pd.read_pickle(\"to_train_1.p\")\n",
    "to_train_2 = pd.read_pickle(\"to_train_2.p\")\n",
    "# to_test_1 = pd.read_pickle(\"to_test_1.p\")\n",
    "# to_test_2 = pd.read_pickle(\"to_test_2.p\")"
   ]
  },
  {
   "cell_type": "code",
   "execution_count": 3,
   "metadata": {},
   "outputs": [
    {
     "name": "stdout",
     "output_type": "stream",
     "text": [
      "[01:11:05] WARNING: /Users/travis/build/dmlc/xgboost/src/gbm/gbtree.cc:139: Tree method is automatically selected to be 'approx' for faster speed. To use old behavior (exact greedy algorithm on single machine), set tree_method to 'exact'.\n",
      "Time in second: \n",
      "6900.561618804932\n"
     ]
    }
   ],
   "source": [
    "start = time()\n",
    "\n",
    "# Drop IDs \n",
    "x_train, y_train = to_train_1.iloc[:,2:-1],to_train_1.iloc[:,-1]\n",
    "\n",
    "\n",
    "model = XGBClassifier(\n",
    " learning_rate =0.1,\n",
    " n_estimators=500,\n",
    " max_depth=10,\n",
    " min_child_weight=1,\n",
    " gamma=0,\n",
    " subsample=0.8,\n",
    " colsample_bytree=0.8,\n",
    " objective= 'binary:logistic',\n",
    " nthread=4,\n",
    " scale_pos_weight=1,\n",
    " seed=27)\n",
    "\n",
    "model.fit(x_train, y_train)\n",
    "\n",
    "end = time()\n",
    "print(\"Time in second: \")\n",
    "print(end-start)"
   ]
  },
  {
   "cell_type": "code",
   "execution_count": 4,
   "metadata": {},
   "outputs": [],
   "source": [
    "filename = 'model35_tuning_.sav'\n",
    "pickle.dump(model, open(filename, 'wb'))"
   ]
  },
  {
   "cell_type": "code",
   "execution_count": 5,
   "metadata": {},
   "outputs": [
    {
     "name": "stdout",
     "output_type": "stream",
     "text": [
      "Time in second: \n",
      "6795.929840087891\n"
     ]
    }
   ],
   "source": [
    "start = time()\n",
    "\n",
    "# Drop IDs \n",
    "x_train, y_train = to_train_2.iloc[:,2:-1],to_train_2.iloc[:,-1]\n",
    "\n",
    "model.fit(x_train, y_train)\n",
    "\n",
    "end = time()\n",
    "print(\"Time in second: \")\n",
    "print(end-start)"
   ]
  },
  {
   "cell_type": "code",
   "execution_count": 6,
   "metadata": {},
   "outputs": [],
   "source": [
    "filename = 'model35_tuning_final.sav'\n",
    "pickle.dump(model, open(filename, 'wb'))"
   ]
  },
  {
   "cell_type": "code",
   "execution_count": null,
   "metadata": {},
   "outputs": [],
   "source": []
  },
  {
   "cell_type": "code",
   "execution_count": 7,
   "metadata": {},
   "outputs": [
    {
     "name": "stdout",
     "output_type": "stream",
     "text": [
      "[04:59:15] WARNING: /Users/travis/build/dmlc/xgboost/src/gbm/gbtree.cc:139: Tree method is automatically selected to be 'approx' for faster speed. To use old behavior (exact greedy algorithm on single machine), set tree_method to 'exact'.\n",
      "Time in second: \n",
      "6250.971569061279\n"
     ]
    }
   ],
   "source": [
    "start = time()\n",
    "\n",
    "# Drop IDs \n",
    "x_train, y_train = to_train_1.iloc[:,2:-1],to_train_1.iloc[:,-1]\n",
    "\n",
    "\n",
    "model = XGBClassifier(\n",
    " learning_rate =0.1,\n",
    " n_estimators=250,\n",
    " max_depth=10,\n",
    " min_child_weight=1,\n",
    " gamma=0,\n",
    " subsample=0.8,\n",
    " colsample_bytree=0.8,\n",
    " objective= 'binary:logistic',\n",
    " nthread=4,\n",
    " scale_pos_weight=1,\n",
    " seed=27)\n",
    "\n",
    "model.fit(x_train, y_train)\n",
    "\n",
    "end = time()\n",
    "print(\"Time in second: \")\n",
    "print(end-start)"
   ]
  },
  {
   "cell_type": "code",
   "execution_count": 8,
   "metadata": {},
   "outputs": [],
   "source": [
    "filename = 'model36_tuning_.sav'\n",
    "pickle.dump(model, open(filename, 'wb'))"
   ]
  },
  {
   "cell_type": "code",
   "execution_count": 9,
   "metadata": {},
   "outputs": [
    {
     "name": "stdout",
     "output_type": "stream",
     "text": [
      "Time in second: \n",
      "6624.851187944412\n"
     ]
    }
   ],
   "source": [
    "start = time()\n",
    "\n",
    "# Drop IDs \n",
    "x_train, y_train = to_train_2.iloc[:,2:-1],to_train_2.iloc[:,-1]\n",
    "\n",
    "model.fit(x_train, y_train)\n",
    "\n",
    "end = time()\n",
    "print(\"Time in second: \")\n",
    "print(end-start)"
   ]
  },
  {
   "cell_type": "code",
   "execution_count": 10,
   "metadata": {},
   "outputs": [],
   "source": [
    "filename = 'model36_tuning_final.sav'\n",
    "pickle.dump(model, open(filename, 'wb'))"
   ]
  },
  {
   "cell_type": "code",
   "execution_count": null,
   "metadata": {},
   "outputs": [],
   "source": []
  }
 ],
 "metadata": {
  "kernelspec": {
   "display_name": "Python 3",
   "language": "python",
   "name": "python3"
  },
  "language_info": {
   "codemirror_mode": {
    "name": "ipython",
    "version": 3
   },
   "file_extension": ".py",
   "mimetype": "text/x-python",
   "name": "python",
   "nbconvert_exporter": "python",
   "pygments_lexer": "ipython3",
   "version": "3.6.8"
  },
  "toc": {
   "base_numbering": 1,
   "nav_menu": {},
   "number_sections": true,
   "sideBar": true,
   "skip_h1_title": false,
   "title_cell": "Table of Contents",
   "title_sidebar": "Contents",
   "toc_cell": false,
   "toc_position": {},
   "toc_section_display": true,
   "toc_window_display": false
  }
 },
 "nbformat": 4,
 "nbformat_minor": 2
}
