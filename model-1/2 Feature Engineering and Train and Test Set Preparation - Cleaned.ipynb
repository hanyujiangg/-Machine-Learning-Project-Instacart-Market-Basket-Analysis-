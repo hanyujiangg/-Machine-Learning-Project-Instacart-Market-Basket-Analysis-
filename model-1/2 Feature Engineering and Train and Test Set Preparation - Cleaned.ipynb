{
 "cells": [
  {
   "cell_type": "code",
   "execution_count": null,
   "metadata": {},
   "outputs": [],
   "source": [
    "import pickle\n",
    "\n",
    "# These are from Data preprocessing notebook and pickles \n",
    "\n",
    "non_validation_data = pd.read_pickle(r'non_validation_data.p')\n",
    "validation_data = pd.read_pickle(r'validation_data.p')"
   ]
  },
  {
   "cell_type": "markdown",
   "metadata": {
    "heading_collapsed": true
   },
   "source": [
    "# Feature Engineering Functions"
   ]
  },
  {
   "cell_type": "markdown",
   "metadata": {
    "hidden": true
   },
   "source": [
    "## Feature - Total Buys and Ratios"
   ]
  },
  {
   "cell_type": "code",
   "execution_count": null,
   "metadata": {
    "hidden": true
   },
   "outputs": [],
   "source": [
    "# total buy features \n",
    "\n",
    "def generate_total_buy_7(df):\n",
    "    total_buy_7 = df[df.order_number_reverse<=6].groupby(['user_id', 'product_id']).size().reset_index()\n",
    "    total_buy_7.columns = ['user_id','product_id','total_buy_7']\n",
    "    total_buy_7['total_buy_ratio_7'] = total_buy_7['total_buy_7']/7  \n",
    "    return total_buy_7\n",
    "\n",
    "def generate_total_buy_6(df):\n",
    "    total_buy_6 = df[df.order_number_reverse<=5].groupby(['user_id', 'product_id']).size().reset_index()\n",
    "    total_buy_6.columns = ['user_id','product_id','total_buy_6']\n",
    "    total_buy_6['total_buy_ratio_6'] = total_buy_6['total_buy_6']/6  \n",
    "    return total_buy_6\n",
    "\n",
    "def generate_total_buy_5(df):\n",
    "    total_buy_5 = df[df.order_number_reverse<=4].groupby(['user_id', 'product_id']).size().reset_index()\n",
    "    total_buy_5.columns = ['user_id','product_id','total_buy_5']\n",
    "    total_buy_5['total_buy_ratio_5'] = total_buy_5['total_buy_5']/5  \n",
    "    return total_buy_5\n",
    "\n",
    "def generate_total_buy_4(df):\n",
    "    total_buy_4 = df[df.order_number_reverse<=3].groupby(['user_id', 'product_id']).size().reset_index()\n",
    "    total_buy_4.columns = ['user_id','product_id','total_buy_4']\n",
    "    total_buy_4['total_buy_ratio_4'] = total_buy_4['total_buy_4']/4\n",
    "    return total_buy_4\n",
    "\n",
    "def generate_total_buy_3(df):\n",
    "    total_buy_3 = df[df.order_number_reverse<=2].groupby(['user_id', 'product_id']).size().reset_index()\n",
    "    total_buy_3.columns = ['user_id','product_id','total_buy_3']\n",
    "    total_buy_3['total_buy_ratio_3'] = total_buy_3['total_buy_3']/3    \n",
    "    return total_buy_3\n",
    "\n",
    "def generate_total_buy_all(df):\n",
    "    total_buy_all = df.groupby(['user_id', 'product_id']).size().reset_index() \n",
    "    total_buy_all.columns = ['user_id','product_id','total_buy_all']\n",
    "    return total_buy_all"
   ]
  },
  {
   "cell_type": "markdown",
   "metadata": {
    "hidden": true
   },
   "source": [
    "##  Feature - Repurchase Period"
   ]
  },
  {
   "cell_type": "code",
   "execution_count": null,
   "metadata": {
    "hidden": true
   },
   "outputs": [],
   "source": [
    "#longest days without repurchase category\n",
    "\n",
    "def generate_longest_period_wo_repurchase(df):\n",
    "    \n",
    "    longest_period = df.groupby(['user_id', 'product_id'])['days_since_prior_order'].max().reset_index()\n",
    "    longest_period.rename(columns={'days_since_prior_order':'longest_period_without_repurchasing_in_all_orders'}, inplace=True)\n",
    "\n",
    "    return longest_period\n",
    "\n",
    "def generate_longest_period_wo_repurchase_3(df):\n",
    "    \n",
    "    longest_period_3 = df[df.order_number_reverse<=2].groupby(['user_id', 'product_id'])['days_since_prior_order'].max().reset_index()\n",
    "    longest_period_3.rename(columns={'days_since_prior_order':'longest_period_without_repurchasing_in_recent_3_orders'}, inplace=True)\n",
    "\n",
    "    return longest_period_3\n",
    "    \n",
    "def generate_longest_period_wo_repurchase_5(df):\n",
    "    \n",
    "    longest_period_5 = df[df.order_number_reverse<=4].groupby(['user_id', 'product_id'])['days_since_prior_order'].max().reset_index()\n",
    "    longest_period_5.rename(columns={'days_since_prior_order':'longest_period_without_repurchasing_in_recent_5_orders'}, inplace=True)\n",
    "\n",
    "    return longest_period_5\n",
    "\n",
    "def median_days_wo_repurchase_n5(df):\n",
    "    median_without_repurchasing_5 = df[df.order_number_reverse<=4].groupby(['user_id', 'product_id'])['days_since_prior_order'].median().reset_index()\n",
    "    median_without_repurchasing_5.rename(columns={'days_since_prior_order':'median_without_repurchasing_in_recent_5_orders'}, inplace=True)\n",
    "    \n",
    "    return median_without_repurchasing_5"
   ]
  },
  {
   "cell_type": "markdown",
   "metadata": {
    "hidden": true
   },
   "source": [
    "## Feature - Chance"
   ]
  },
  {
   "cell_type": "code",
   "execution_count": null,
   "metadata": {
    "hidden": true
   },
   "outputs": [],
   "source": [
    "def generate_chance_and_ratio(df):\n",
    "    \n",
    "    cnt = df.groupby(['user_id', 'product_id']).size()\n",
    "    cnt.name = 'cnt'\n",
    "    cnt = cnt.reset_index()\n",
    "    \n",
    "    # chance <-- itself is a feature\n",
    "    \n",
    "    # The latest order\n",
    "    user_onb_max = df.groupby('user_id').order_number.max().reset_index() \n",
    "    user_onb_max.columns = ['user_id', 'onb_max']\n",
    "    \n",
    "    # The first order containing the pdt\n",
    "    user_item_min = df.groupby(['user_id', 'product_id']).order_number.min().reset_index() \n",
    "    user_item_min.columns = ['user_id', 'product_id', 'onb_min']\n",
    "    \n",
    "    chance = pd.merge(user_item_min, user_onb_max, on='user_id', how='left')\n",
    "    \n",
    "    # Since its first order of this pdt, how many orders have been made\n",
    "    chance['chance'] = chance.onb_max - chance.onb_min +1   \n",
    "    \n",
    "    # cnt-> how many times did the user bought the pdt\n",
    "    final = pd.merge(cnt, chance, on=['user_id', 'product_id'], how='left')  \n",
    "    \n",
    "    # calculate that ratio\n",
    "    final['order_ratio_bychance'] = final.cnt / final.chance    \n",
    "    final =final.drop(['onb_max','onb_min','cnt'],axis=1)\n",
    "    return final\n",
    "\n",
    "\n",
    "def generate_chance_and_ratio_recent_5(df1):\n",
    "    \n",
    "    df = df1[df1.order_number_reverse<=4]\n",
    "    \n",
    "    cnt = df.groupby(['user_id', 'product_id']).size()\n",
    "    cnt.name = 'cnt'\n",
    "    cnt = cnt.reset_index()\n",
    "    \n",
    "    # The latest order\n",
    "    user_onb_max = df.groupby('user_id').order_number.max().reset_index() \n",
    "    user_onb_max.columns = ['user_id', 'onb_max']\n",
    "    \n",
    "    # The first order containing the pdt\n",
    "    user_item_min = df.groupby(['user_id', 'product_id']).order_number.min().reset_index() \n",
    "    user_item_min.columns = ['user_id', 'product_id', 'onb_min']\n",
    "    \n",
    "    chance = pd.merge(user_item_min, user_onb_max, on='user_id', how='left')\n",
    "    \n",
    "    # Since its first order of this pdt, how many orders have been made, for the recent 5 orders\n",
    "    chance['chance_n5'] = chance.onb_max - chance.onb_min +1   \n",
    "    \n",
    "    # cnt-> how many times did the user bought the pdt\n",
    "    final = pd.merge(cnt, chance, on=['user_id', 'product_id'], how='left')  \n",
    "    \n",
    "    # calculate that ratio\n",
    "    final['order_ratio_bychance_n5'] = final.cnt / final.chance_n5  \n",
    "    final =final.drop(['onb_max','onb_min','cnt'],axis=1)\n",
    "    \n",
    "    return final"
   ]
  },
  {
   "cell_type": "markdown",
   "metadata": {
    "hidden": true
   },
   "source": [
    "## Feature - Days since first order"
   ]
  },
  {
   "cell_type": "code",
   "execution_count": null,
   "metadata": {
    "hidden": true
   },
   "outputs": [],
   "source": [
    "def generate_days_since_first_orders(df):\n",
    "    df['days_since_first_order'] = df.sort_values('order_number').groupby(['user_id','product_id']).days_since_prior_order.cumsum()\n",
    "    df = df.groupby(['user_id','product_id'])['days_since_first_order'].max().reset_index(name='days_since_first_order')\n",
    "    return df "
   ]
  },
  {
   "cell_type": "markdown",
   "metadata": {
    "heading_collapsed": true
   },
   "source": [
    "# Feature Generation"
   ]
  },
  {
   "cell_type": "code",
   "execution_count": null,
   "metadata": {
    "hidden": true
   },
   "outputs": [],
   "source": [
    "total_buy = generate_total_buy_all(non_validation_data)\n",
    "total_buy = pd.merge(left = total_buy,right=generate_total_buy_7(non_validation_data), how='left')\n",
    "total_buy = pd.merge(left = total_buy,right=generate_total_buy_6(non_validation_data), how='left')\n",
    "total_buy = pd.merge(left = total_buy,right=generate_total_buy_5(non_validation_data), how='left')\n",
    "total_buy = pd.merge(left = total_buy,right=generate_total_buy_4(non_validation_data), how='left')\n",
    "total_buy = pd.merge(left = total_buy,right=generate_total_buy_3(non_validation_data), how='left')\n",
    "\n"
   ]
  },
  {
   "cell_type": "code",
   "execution_count": null,
   "metadata": {
    "hidden": true
   },
   "outputs": [],
   "source": [
    "total_buy = pd.merge(left = total_buy,right=generate_longest_period_wo_repurchase(non_validation_data), how='left')\n",
    "total_buy = pd.merge(left = total_buy,right=generate_longest_period_wo_repurchase_3(non_validation_data), how='left')\n",
    "total_buy = pd.merge(left = total_buy,right=generate_longest_period_wo_repurchase_5(non_validation_data), how='left')\n",
    "total_buy = pd.merge(left = total_buy,right=median_days_wo_repurchase_n5(non_validation_data), how='left')\n"
   ]
  },
  {
   "cell_type": "code",
   "execution_count": null,
   "metadata": {
    "hidden": true
   },
   "outputs": [],
   "source": [
    "total_buy = pd.merge(left = total_buy,right=generate_chance_and_ratio(non_validation_data), how='left')\n",
    "total_buy = pd.merge(left = total_buy,right=generate_chance_and_ratio_recent_5(non_validation_data), how='left')\n",
    "\n"
   ]
  },
  {
   "cell_type": "code",
   "execution_count": null,
   "metadata": {
    "hidden": true
   },
   "outputs": [],
   "source": [
    "days_since_first_orders = generate_days_since_first_orders(non_validation_data)\n"
   ]
  },
  {
   "cell_type": "code",
   "execution_count": null,
   "metadata": {
    "hidden": true
   },
   "outputs": [],
   "source": [
    "features_all = pd.merge(left = total_buy,right=days_since_first_orders, how='left')\n",
    "features_all = features_all.fillna(0)\n"
   ]
  },
  {
   "cell_type": "markdown",
   "metadata": {
    "heading_collapsed": true
   },
   "source": [
    "# Label Generation - Reorder in Recent 5"
   ]
  },
  {
   "cell_type": "markdown",
   "metadata": {
    "hidden": true
   },
   "source": [
    "## Creating the Reordered Column for the recent 5 orders"
   ]
  },
  {
   "cell_type": "code",
   "execution_count": null,
   "metadata": {
    "hidden": true
   },
   "outputs": [],
   "source": [
    "# Getting the recent 5 orders \n",
    "recent_5_orders = non_validation_data[non_validation_data[\"order_number_reverse\"] <= 5][['order_id','product_id','user_id']]\n"
   ]
  },
  {
   "cell_type": "code",
   "execution_count": null,
   "metadata": {
    "hidden": true
   },
   "outputs": [],
   "source": [
    "# get number_of_order_in_recent_5 at the user product level \n",
    "recent_5_reordered = recent_5_orders.groupby(['user_id','product_id']).size().reset_index(name='number_of_order_in_recent_5')\n"
   ]
  },
  {
   "cell_type": "code",
   "execution_count": null,
   "metadata": {
    "hidden": true
   },
   "outputs": [],
   "source": [
    "# If number_of_order_in_recent_5 is one, it means that the user only order it once, so reodered is false \n",
    "# if number_of_order_in_recent_5 is more than one, it means there is reordering took place \n",
    "\n",
    "recent_5_reordered['reordered_recent_5'] = np.where(recent_5_reordered['number_of_order_in_recent_5']==1 , 0, 1)\n",
    "recent_5_reordered"
   ]
  },
  {
   "cell_type": "code",
   "execution_count": null,
   "metadata": {
    "hidden": true
   },
   "outputs": [],
   "source": [
    "# Drop number_of_order_in_recent_5 for recent_5_reordered\n",
    "recent_5_reordered = recent_5_reordered.drop(['number_of_order_in_recent_5'],axis=1)"
   ]
  },
  {
   "cell_type": "code",
   "execution_count": null,
   "metadata": {
    "hidden": true
   },
   "outputs": [],
   "source": [
    "# get all user-product matrix for non-validation dataset \n",
    "\n",
    "user_purchased_product_non_validation = non_validation_data.groupby(['user_id','product_id']).size().reset_index(name='no')\n",
    "user_purchased_product_non_validation = user_purchased_product_non_validation.iloc[:,:-1]"
   ]
  },
  {
   "cell_type": "code",
   "execution_count": null,
   "metadata": {
    "hidden": true
   },
   "outputs": [],
   "source": [
    "# Merge user_purchased_product_non_validation with recent_5_reordered\n",
    "\n",
    "\n",
    "train_with_all_user_purchased_product = pd.merge(user_purchased_product_non_validation, recent_5_reordered,how=\"left\",on=['user_id',\"product_id\"])\n",
    "\n",
    "# if it is NaN after merge, it shows that the user never purchase this product in recent 5 orders\n",
    "train_with_all_user_purchased_product = train_with_all_user_purchased_product.fillna(0)\n"
   ]
  },
  {
   "cell_type": "markdown",
   "metadata": {
    "heading_collapsed": true
   },
   "source": [
    "# Merging Features and Labels for Validation"
   ]
  },
  {
   "cell_type": "code",
   "execution_count": null,
   "metadata": {
    "hidden": true
   },
   "outputs": [],
   "source": [
    "to_train_1 = pd.merge(left=features_all, right=train_with_all_user_purchased_product,on=['user_id','product_id'],how='left')\n",
    "to_train_1.to_pickle('to_train_1.p')\n"
   ]
  },
  {
   "cell_type": "markdown",
   "metadata": {
    "heading_collapsed": true
   },
   "source": [
    "# Prepare test data at Validation  "
   ]
  },
  {
   "cell_type": "code",
   "execution_count": null,
   "metadata": {
    "hidden": true
   },
   "outputs": [],
   "source": [
    "# for validation set\n",
    "\n",
    "# test_data_1\n",
    "# test data of user-product level matrix 12422758 rows is for orders up till the order before validation dataset inclusive. \n",
    "\n",
    "# get all the user-product from history \n",
    "test_data_1 = non_validation_data.groupby(['user_id','product_id']).size().reset_index()\n",
    "\n",
    "# remove the last column\n",
    "test_data_1 = test_data_1.iloc[:,:-1]\n",
    "\n",
    "# merge with the lastest order (validation data) to get reordered \n",
    "test_data_1 = pd.merge(test_data_1,validation_data[['user_id','product_id','reordered']],on=['user_id','product_id'], how='left')\n",
    "\n",
    "# NaN means that the user never order the product in the validation order. Hence 0 is given since no reorder\n",
    "test_data_1 = test_data_1.fillna(0)\n",
    "\n",
    "test_data_1.to_pickle('to_test_1.p')\n"
   ]
  },
  {
   "cell_type": "markdown",
   "metadata": {
    "heading_collapsed": true
   },
   "source": [
    "# Prepare for training and testing data after validation\n",
    "Repeat step 2 - 5 on order_master (include both validation and non-validation data) to get training and test data after validation\n",
    "\n",
    "They are saved to to_train_2.p and to_test_2.p"
   ]
  },
  {
   "cell_type": "code",
   "execution_count": null,
   "metadata": {
    "hidden": true
   },
   "outputs": [],
   "source": []
  }
 ],
 "metadata": {
  "kernelspec": {
   "display_name": "Python 3",
   "language": "python",
   "name": "python3"
  },
  "language_info": {
   "codemirror_mode": {
    "name": "ipython",
    "version": 3
   },
   "file_extension": ".py",
   "mimetype": "text/x-python",
   "name": "python",
   "nbconvert_exporter": "python",
   "pygments_lexer": "ipython3",
   "version": "3.6.8"
  },
  "toc": {
   "base_numbering": 1,
   "nav_menu": {},
   "number_sections": true,
   "sideBar": true,
   "skip_h1_title": false,
   "title_cell": "Table of Contents",
   "title_sidebar": "Contents",
   "toc_cell": false,
   "toc_position": {},
   "toc_section_display": true,
   "toc_window_display": false
  }
 },
 "nbformat": 4,
 "nbformat_minor": 2
}
